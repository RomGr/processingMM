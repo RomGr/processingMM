{
 "cells": [
  {
   "cell_type": "markdown",
   "id": "5833fa74",
   "metadata": {},
   "source": [
    "# Process the data obtained from polarimetry and reorganize the data into the correct folders"
   ]
  },
  {
   "cell_type": "code",
   "execution_count": 1,
   "id": "a9006a18",
   "metadata": {},
   "outputs": [],
   "source": [
    "%load_ext autoreload\n",
    "%autoreload 2\n",
    "\n",
    "import os\n",
    "from processingmm import batch_processing, libmpMuelMat"
   ]
  },
  {
   "cell_type": "code",
   "execution_count": 6,
   "id": "35f24a20",
   "metadata": {},
   "outputs": [],
   "source": [
    "# set the parameters to run the script\n",
    "directories = [r'C:\\Users\\romai\\Documents\\program_files\\reconstructor\\pat10-sec1']\n",
    "calib_directory = r'C:\\Users\\romai\\Documents\\program_files\\reconstructor\\calibration'"
   ]
  },
  {
   "cell_type": "code",
   "execution_count": 7,
   "id": "1c5a3606",
   "metadata": {
    "scrolled": true
   },
   "outputs": [
    {
     "name": "stderr",
     "output_type": "stream",
     "text": [
      "100%|██████████████████████████████████████████████████████████████████████████████████| 23/23 [13:19<00:00, 34.75s/it]\n"
     ]
    },
    {
     "data": {
      "text/plain": [
       "['C:\\\\Users\\\\romai\\\\Documents\\\\program_files\\\\reconstructor\\\\pat10-sec1\\\\dev\\\\2023-08-31_T_PAT10-SEC1-C3_FX_M_1',\n",
       " 'C:\\\\Users\\\\romai\\\\Documents\\\\program_files\\\\reconstructor\\\\pat10-sec1\\\\dev\\\\2023-08-31_T_PAT10-SEC1-F2_FX_M_2',\n",
       " 'C:\\\\Users\\\\romai\\\\Documents\\\\program_files\\\\reconstructor\\\\pat10-sec1\\\\dev\\\\2023-08-31_T_PAT10-SEC1-B1_FX_M_1',\n",
       " 'C:\\\\Users\\\\romai\\\\Documents\\\\program_files\\\\reconstructor\\\\pat10-sec1\\\\dev\\\\2023-09-01_T_PAT10-SEC1-F1_FX_M_1',\n",
       " 'C:\\\\Users\\\\romai\\\\Documents\\\\program_files\\\\reconstructor\\\\pat10-sec1\\\\dev\\\\2023-08-31_T_PAT10-SEC1-D1_FX_M_1',\n",
       " 'C:\\\\Users\\\\romai\\\\Documents\\\\program_files\\\\reconstructor\\\\pat10-sec1\\\\dev\\\\2023-08-31_T_PAT10-SEC1-B2_FX_M_1',\n",
       " 'C:\\\\Users\\\\romai\\\\Documents\\\\program_files\\\\reconstructor\\\\pat10-sec1\\\\dev\\\\2023-09-01_T_PAT10-SEC1-B5_FX_M_1',\n",
       " 'C:\\\\Users\\\\romai\\\\Documents\\\\program_files\\\\reconstructor\\\\pat10-sec1\\\\dev\\\\2023-09-01_T_PAT10-SEC1-C6_FX_M_1',\n",
       " 'C:\\\\Users\\\\romai\\\\Documents\\\\program_files\\\\reconstructor\\\\pat10-sec1\\\\dev\\\\2023-09-01_T_PAT10-SEC1-B6_FX_M_1',\n",
       " 'C:\\\\Users\\\\romai\\\\Documents\\\\program_files\\\\reconstructor\\\\pat10-sec1\\\\dev\\\\2023-08-31_T_PAT10-SEC1-E3_FX_M_1',\n",
       " 'C:\\\\Users\\\\romai\\\\Documents\\\\program_files\\\\reconstructor\\\\pat10-sec1\\\\dev\\\\2023-08-31_T_PAT10-SEC1-E2_FX_M_2',\n",
       " 'C:\\\\Users\\\\romai\\\\Documents\\\\program_files\\\\reconstructor\\\\pat10-sec1\\\\dev\\\\2023-09-01_T_PAT10-SEC1-D7_FX_M_1',\n",
       " 'C:\\\\Users\\\\romai\\\\Documents\\\\program_files\\\\reconstructor\\\\pat10-sec1\\\\dev\\\\2023-09-01_T_PAT10-SEC1-F6_FX_M_1',\n",
       " 'C:\\\\Users\\\\romai\\\\Documents\\\\program_files\\\\reconstructor\\\\pat10-sec1\\\\dev\\\\2023-08-31_T_PAT10-SEC1-B3_FX_M_1',\n",
       " 'C:\\\\Users\\\\romai\\\\Documents\\\\program_files\\\\reconstructor\\\\pat10-sec1\\\\dev\\\\2023-09-01_T_PAT10-SEC1-B4_FX_M_1',\n",
       " 'C:\\\\Users\\\\romai\\\\Documents\\\\program_files\\\\reconstructor\\\\pat10-sec1\\\\dev\\\\2023-08-31_T_PAT10-SEC1-E1_FX_M_1',\n",
       " 'C:\\\\Users\\\\romai\\\\Documents\\\\program_files\\\\reconstructor\\\\pat10-sec1\\\\dev\\\\2023-08-31_T_PAT10-SEC1-F1_FX_M_2',\n",
       " 'C:\\\\Users\\\\romai\\\\Documents\\\\program_files\\\\reconstructor\\\\pat10-sec1\\\\dev\\\\2023-08-31_T_PAT10-SEC1-F3_FX_M_1',\n",
       " 'C:\\\\Users\\\\romai\\\\Documents\\\\program_files\\\\reconstructor\\\\pat10-sec1\\\\dev\\\\2023-08-31_T_PAT10-SEC1-A3_FX_M_1',\n",
       " 'C:\\\\Users\\\\romai\\\\Documents\\\\program_files\\\\reconstructor\\\\pat10-sec1\\\\dev\\\\2023-09-01_T_PAT10-SEC1-C5_FX_M_1',\n",
       " 'C:\\\\Users\\\\romai\\\\Documents\\\\program_files\\\\reconstructor\\\\pat10-sec1\\\\dev\\\\2023-09-01_T_PAT10-SEC1-E4_FX_M_1',\n",
       " 'C:\\\\Users\\\\romai\\\\Documents\\\\program_files\\\\reconstructor\\\\pat10-sec1\\\\dev\\\\2023-09-01_T_PAT10-SEC1-F2_FX_M_1',\n",
       " 'C:\\\\Users\\\\romai\\\\Documents\\\\program_files\\\\reconstructor\\\\pat10-sec1\\\\dev\\\\2023-08-31_T_PAT10-SEC1-E1_FX_M_2',\n",
       " 'C:\\\\Users\\\\romai\\\\Documents\\\\program_files\\\\reconstructor\\\\pat10-sec1\\\\dev\\\\2023-08-31_T_PAT10-SEC1-E3_FX_M_2',\n",
       " 'C:\\\\Users\\\\romai\\\\Documents\\\\program_files\\\\reconstructor\\\\pat10-sec1\\\\dev\\\\2023-08-31_T_PAT10-SEC1-F1_FX_M_1',\n",
       " 'C:\\\\Users\\\\romai\\\\Documents\\\\program_files\\\\reconstructor\\\\pat10-sec1\\\\dev\\\\2023-09-01_T_PAT10-SEC1-C4_FX_M_1',\n",
       " 'C:\\\\Users\\\\romai\\\\Documents\\\\program_files\\\\reconstructor\\\\pat10-sec1\\\\dev\\\\2023-09-01_T_PAT10-SEC1-D5_FX_M_1',\n",
       " 'C:\\\\Users\\\\romai\\\\Documents\\\\program_files\\\\reconstructor\\\\pat10-sec1\\\\dev\\\\2023-08-31_T_PAT10-SEC1-C2_FX_M_1',\n",
       " 'C:\\\\Users\\\\romai\\\\Documents\\\\program_files\\\\reconstructor\\\\pat10-sec1\\\\dev\\\\2023-08-31_T_PAT10-SEC1-A4_FX_M_1',\n",
       " 'C:\\\\Users\\\\romai\\\\Documents\\\\program_files\\\\reconstructor\\\\pat10-sec1\\\\dev\\\\2023-09-01_T_PAT10-SEC1-E6_FX_M_1',\n",
       " 'C:\\\\Users\\\\romai\\\\Documents\\\\program_files\\\\reconstructor\\\\pat10-sec1\\\\dev\\\\2023-09-01_T_PAT10-SEC1-C7_FX_M_1',\n",
       " 'C:\\\\Users\\\\romai\\\\Documents\\\\program_files\\\\reconstructor\\\\pat10-sec1\\\\dev\\\\2023-09-01_T_PAT10-SEC1-B7_FX_M_1',\n",
       " 'C:\\\\Users\\\\romai\\\\Documents\\\\program_files\\\\reconstructor\\\\pat10-sec1\\\\dev\\\\2023-08-31_T_PAT10-SEC1-F2_FX_M_1',\n",
       " 'C:\\\\Users\\\\romai\\\\Documents\\\\program_files\\\\reconstructor\\\\pat10-sec1\\\\dev\\\\2023-08-31_T_PAT10-SEC1-D2_FX_M_1',\n",
       " 'C:\\\\Users\\\\romai\\\\Documents\\\\program_files\\\\reconstructor\\\\pat10-sec1\\\\dev\\\\2023-09-01_T_PAT10-SEC1-E5_FX_M_1',\n",
       " 'C:\\\\Users\\\\romai\\\\Documents\\\\program_files\\\\reconstructor\\\\pat10-sec1\\\\dev\\\\2023-08-31_T_PAT10-SEC1-A2_FX_M_1',\n",
       " 'C:\\\\Users\\\\romai\\\\Documents\\\\program_files\\\\reconstructor\\\\pat10-sec1\\\\dev\\\\2023-08-31_T_PAT10-SEC1-A6_FX_M_1',\n",
       " 'C:\\\\Users\\\\romai\\\\Documents\\\\program_files\\\\reconstructor\\\\pat10-sec1\\\\dev\\\\2023-08-31_T_PAT10-SEC1-A5_FX_M_1',\n",
       " 'C:\\\\Users\\\\romai\\\\Documents\\\\program_files\\\\reconstructor\\\\pat10-sec1\\\\dev\\\\2023-09-01_T_PAT10-SEC1-E7_FX_M_1',\n",
       " 'C:\\\\Users\\\\romai\\\\Documents\\\\program_files\\\\reconstructor\\\\pat10-sec1\\\\dev\\\\2023-08-31_T_PAT10-SEC1-E2_FX_M_1',\n",
       " 'C:\\\\Users\\\\romai\\\\Documents\\\\program_files\\\\reconstructor\\\\pat10-sec1\\\\dev\\\\2023-08-31_T_PAT10-SEC1-C1_FX_M_1',\n",
       " 'C:\\\\Users\\\\romai\\\\Documents\\\\program_files\\\\reconstructor\\\\pat10-sec1\\\\dev\\\\2023-08-31_T_PAT10-SEC1-D3_FX_M_1',\n",
       " 'C:\\\\Users\\\\romai\\\\Documents\\\\program_files\\\\reconstructor\\\\pat10-sec1\\\\dev\\\\2023-09-01_T_PAT10-SEC1-D6_FX_M_1',\n",
       " 'C:\\\\Users\\\\romai\\\\Documents\\\\program_files\\\\reconstructor\\\\pat10-sec1\\\\dev\\\\2023-08-31_T_PAT10-SEC1-A1_FX_M_1',\n",
       " 'C:\\\\Users\\\\romai\\\\Documents\\\\program_files\\\\reconstructor\\\\pat10-sec1\\\\dev\\\\2023-09-01_T_PAT10-SEC1-D4_FX_M_1']"
      ]
     },
     "execution_count": 7,
     "metadata": {},
     "output_type": "execute_result"
    }
   ],
   "source": [
    "# set run_all to true in order to run the pipeline on all the folders (even the ones already processed)\n",
    "# set the parameters to be used for the line visualisation with the parameter parameter_set\n",
    "batch_processing.batch_process(directories, calib_directory, run_all = False, parameter_set = 'GCB_symposium_Fixed')"
   ]
  },
  {
   "cell_type": "code",
   "execution_count": null,
   "id": "10e0129e",
   "metadata": {},
   "outputs": [],
   "source": []
  },
  {
   "cell_type": "code",
   "execution_count": null,
   "id": "7fd05141",
   "metadata": {},
   "outputs": [],
   "source": []
  }
 ],
 "metadata": {
  "kernelspec": {
   "display_name": "Python 3 (ipykernel)",
   "language": "python",
   "name": "python3"
  },
  "language_info": {
   "codemirror_mode": {
    "name": "ipython",
    "version": 3
   },
   "file_extension": ".py",
   "mimetype": "text/x-python",
   "name": "python",
   "nbconvert_exporter": "python",
   "pygments_lexer": "ipython3",
   "version": "3.8.16"
  }
 },
 "nbformat": 4,
 "nbformat_minor": 5
}
