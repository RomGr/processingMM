{
 "cells": [
  {
   "cell_type": "markdown",
   "id": "5833fa74",
   "metadata": {},
   "source": [
    "# Process the data obtained from polarimetry and reorganize the data into the correct folders"
   ]
  },
  {
   "cell_type": "code",
   "execution_count": null,
   "id": "da1fb347",
   "metadata": {},
   "outputs": [],
   "source": []
  },
  {
   "cell_type": "code",
   "execution_count": null,
   "id": "929251ae",
   "metadata": {},
   "outputs": [],
   "source": []
  },
  {
   "cell_type": "code",
   "execution_count": 2,
   "id": "a9006a18",
   "metadata": {},
   "outputs": [],
   "source": [
    "%load_ext autoreload\n",
    "%autoreload 2\n",
    "\n",
    "import os\n",
    "from processingmm import batch_processing, libmpMuelMat, visualization_lines, plot_polarimetry"
   ]
  },
  {
   "cell_type": "code",
   "execution_count": 3,
   "id": "35f24a20",
   "metadata": {},
   "outputs": [],
   "source": [
    "# set the parameters to run the script\n",
    "directories = [r'E:\\Ardit\\nas']\n",
    "calib_directory = r'E:\\calib'\n",
    "\n",
    "# set the parameters to be used for the line visualisation with the parameter parameter_set\n",
    "parameter_set = 'TheoniPics'\n",
    "\n",
    "# set run_all to true in order to run the pipeline on all the folders (even the ones already processed)\n",
    "run_all = False\n",
    "\n",
    "# PDDN_mode can be set to:\n",
    "# 1. 'no': processes without using the PDDN\n",
    "# 2. 'pddn': processes with PDDN when available (for 550nm and 650nm)\n",
    "# 3. 'both': processes with PDDN when available and also without using the PDDN\n",
    "PDDN_mode = 'both'\n",
    "\n",
    "# Set the wavelengths to be processed\n",
    "# 1. 'all': processes all the available wavelenght\n",
    "# 2. [xxx, yyy]: processes only the wavelenghts 'xxx' and 'yyy'\n",
    "wavelengths = [550]\n",
    "\n",
    "# Processing mode\n",
    "# 1. 'full': processes everything (azimuth_noise, all plots and visualization) - 1x speed\n",
    "# 2. 'no_visualization': processes azimuth noise + all plots but no visualization - 1.25x faster\n",
    "# 3. 'fast': processes only the legacy plots (i.e. depolarization, azimuth, retardance and diattenuation) - 3x faster\n",
    "processing_mode = 'no_visualization'\n",
    "\n",
    "# Wether or not time mode (to get the processing times is activated or not)\n",
    "time_mode = True"
   ]
  },
  {
   "cell_type": "code",
   "execution_count": null,
   "id": "017cdd19",
   "metadata": {
    "scrolled": true
   },
   "outputs": [
    {
     "name": "stdout",
     "output_type": "stream",
     "text": [
      "1. processing without PDDN...\n"
     ]
    },
    {
     "name": "stderr",
     "output_type": "stream",
     "text": [
      "\r",
      "  0%|                                                                                            | 0/7 [00:00<?, ?it/s]"
     ]
    },
    {
     "name": "stdout",
     "output_type": "stream",
     "text": [
      "E:\\Ardit\\nas\\PBS\\2024-03-06_T_PBS-S1-T0_FR_M1\n",
      "['annotation', 'histology', 'MMProcessing.txt', 'polarimetry', 'raw_data']\n",
      "E:\\Ardit\\nas\\DW\\2024-03-06_T_DW-S1-T4_FR_M1\n",
      "['annotation', 'histology', 'MMProcessing.txt', 'polarimetry', 'raw_data']\n"
     ]
    },
    {
     "name": "stderr",
     "output_type": "stream",
     "text": [
      "\r",
      " 14%|████████████                                                                        | 1/7 [00:29<02:59, 29.91s/it]"
     ]
    },
    {
     "name": "stdout",
     "output_type": "stream",
     "text": [
      "E:\\Ardit\\nas\\PR\\2024-02-15_T_PR-S1-T6_FR_M2\n",
      "['annotation', 'histology', 'MMProcessing.txt', 'polarimetry', 'raw_data']\n",
      "E:\\Ardit\\nas\\DW\\2024-03-06_T_DW-S1-T8_FR_M2\n",
      "['450nm', '500nm', '550nm', '600nm', '650nm', '700nm', 'Logbook.txt', 'TemperatureBook.txt']\n"
     ]
    },
    {
     "name": "stderr",
     "output_type": "stream",
     "text": [
      "\r",
      " 29%|████████████████████████                                                            | 2/7 [00:59<02:29, 29.83s/it]"
     ]
    },
    {
     "name": "stdout",
     "output_type": "stream",
     "text": [
      "E:\\Ardit\\nas\\PBS\\2024-03-06_T_PBS-S1-T4_FR_M2\n",
      "['annotation', 'histology', 'MMProcessing.txt', 'polarimetry', 'raw_data']\n",
      "E:\\Ardit\\nas\\DW\\2024-03-07_T_DW-S1-T5_FR_M1\n",
      "['annotation', 'histology', 'MMProcessing.txt', 'polarimetry', 'raw_data']\n"
     ]
    },
    {
     "name": "stderr",
     "output_type": "stream",
     "text": [
      "\r",
      " 43%|████████████████████████████████████                                                | 3/7 [01:30<02:00, 30.20s/it]"
     ]
    },
    {
     "name": "stdout",
     "output_type": "stream",
     "text": [
      "E:\\Ardit\\nas\\PR\\2024-03-06_T_PR-S1-T4_FR_M1\n",
      "['annotation', 'histology', 'MMProcessing.txt', 'polarimetry', 'raw_data']\n",
      "E:\\Ardit\\nas\\PBS\\2024-03-07_T_PBS-S1-T4_FR_M3\n",
      "['annotation', 'histology', 'MMProcessing.txt', 'polarimetry', 'raw_data']\n"
     ]
    },
    {
     "name": "stderr",
     "output_type": "stream",
     "text": [
      "\r",
      " 57%|████████████████████████████████████████████████                                    | 4/7 [02:02<01:32, 30.86s/it]"
     ]
    },
    {
     "name": "stdout",
     "output_type": "stream",
     "text": [
      "E:\\Ardit\\nas\\PBS\\2024-03-07_T_PBS-S1-T0_FR_M3\n",
      "['annotation', 'histology', 'MMProcessing.txt', 'polarimetry', 'raw_data']\n",
      "E:\\Ardit\\nas\\PBS\\2024-03-07_T_PBS-S1-T5_FR_M2\n",
      "['annotation', 'histology', 'MMProcessing.txt', 'polarimetry', 'raw_data']\n"
     ]
    },
    {
     "name": "stderr",
     "output_type": "stream",
     "text": [
      "\r",
      " 71%|████████████████████████████████████████████████████████████                        | 5/7 [02:35<01:03, 31.56s/it]"
     ]
    },
    {
     "name": "stdout",
     "output_type": "stream",
     "text": [
      "E:\\Ardit\\nas\\DW\\2024-03-07_T_DW-S1-T5_FR_M2\n",
      "['annotation', 'histology', 'MMProcessing.txt', 'polarimetry', 'raw_data']\n",
      "E:\\Ardit\\nas\\DW\\2024-03-06_T_DW-S1-T0_FR_M2\n",
      "['annotation', 'histology', 'MMProcessing.txt', 'polarimetry', 'raw_data']\n"
     ]
    },
    {
     "name": "stderr",
     "output_type": "stream",
     "text": [
      "\r",
      " 86%|████████████████████████████████████████████████████████████████████████            | 6/7 [03:10<00:32, 32.96s/it]"
     ]
    },
    {
     "name": "stdout",
     "output_type": "stream",
     "text": [
      "E:\\Ardit\\nas\\DW\\2024-03-07_T_DW-S1-T3_FR_M3\n",
      "['annotation', 'histology', 'MMProcessing.txt', 'polarimetry', 'raw_data']\n"
     ]
    },
    {
     "name": "stderr",
     "output_type": "stream",
     "text": [
      "100%|████████████████████████████████████████████████████████████████████████████████████| 7/7 [03:30<00:00, 30.03s/it]\n"
     ]
    },
    {
     "name": "stdout",
     "output_type": "stream",
     "text": [
      "processing without PDDN done.\n",
      "\n",
      "2. processing with PDDN.\n"
     ]
    },
    {
     "name": "stderr",
     "output_type": "stream",
     "text": [
      "\r",
      "  0%|                                                                                          | 0/100 [00:00<?, ?it/s]"
     ]
    },
    {
     "name": "stdout",
     "output_type": "stream",
     "text": [
      "E:\\Ardit\\nas\\DW\\2024-03-06_T_DW-S1-T4_FR_M2\n",
      "['annotation', 'histology', 'MMProcessing.txt', 'polarimetry', 'raw_data']\n",
      "E:\\Ardit\\nas\\DW\\2024-03-07_T_DW-S1-T0_FR_M3\n",
      "['annotation', 'histology', 'MMProcessing.txt', 'polarimetry', 'raw_data']\n",
      " >> PDDN Loading Model: C:\\Users\\romai\\Documents\\repositories\\processingMM\\src\\processingmm\\PDDN_model\\PDDN_model_550_Fresh_HB.pt -- ...\n",
      " [wrn] PDDN Model Summary NOT Available!\n",
      " >> PDDN Loading Model: C:\\Users\\romai\\Documents\\repositories\\processingMM\\src\\processingmm\\PDDN_model\\PDDN_model_550_Fresh_HB.pt -- Complete\n",
      "*** PDDN DENOISING FILTER *** \n",
      " >> PDDN Denoising: total time-points: 1000\n",
      " >> PDDN Denoising: start time-point: 1\n",
      " >> PDDN Denoising: final time-point: 0\n",
      " >> PDDN Denoising: recursive filtering enabled (2 x cascade): False\n",
      " >> MPI Denoising PDDN Performance: Elapsed time = 15.169 s\n",
      " \n",
      " >> Exported X3D .cod file as: ./temp_processing\\2024-03-06_T_DW-S1-T4_FR_M2\\raw_data\\550nm\\550_Intensite_PDDN.cod\n",
      " >> PDDN Loading Model: C:\\Users\\romai\\Documents\\repositories\\processingMM\\src\\processingmm\\PDDN_model\\PDDN_model_550_Fresh_HB.pt -- ...\n",
      " [wrn] PDDN Model Summary NOT Available!\n",
      " >> PDDN Loading Model: C:\\Users\\romai\\Documents\\repositories\\processingMM\\src\\processingmm\\PDDN_model\\PDDN_model_550_Fresh_HB.pt -- Complete\n",
      "*** PDDN DENOISING FILTER *** \n",
      " >> PDDN Denoising: total time-points: 1000\n",
      " >> PDDN Denoising: start time-point: 1\n",
      " >> PDDN Denoising: final time-point: 0\n",
      " >> PDDN Denoising: recursive filtering enabled (2 x cascade): False\n",
      " >> MPI Denoising PDDN Performance: Elapsed time = 3.106 s\n",
      " \n",
      " >> Exported X3D .cod file as: ./temp_processing\\2024-03-07_T_DW-S1-T0_FR_M3\\raw_data\\550nm\\550_Intensite_PDDN.cod\n"
     ]
    },
    {
     "name": "stderr",
     "output_type": "stream",
     "text": [
      "\r",
      "  1%|▊                                                                               | 1/100 [00:51<1:25:05, 51.57s/it]"
     ]
    },
    {
     "name": "stdout",
     "output_type": "stream",
     "text": [
      "E:\\Ardit\\nas\\PR\\2024-03-06_T_PR-S1-T8_FR_M1\n",
      "['MMProcessing.txt', 'polarimetry', 'raw_data', 'TemperatureBook.txt']\n",
      "E:\\Ardit\\nas\\PR\\2024-06-12_T_PR-S1-T0_FR_M3\n",
      "['annotation', 'histology', 'MMProcessing.txt', 'polarimetry', 'raw_data']\n",
      " >> PDDN Loading Model: C:\\Users\\romai\\Documents\\repositories\\processingMM\\src\\processingmm\\PDDN_model\\PDDN_model_550_Fresh_HB.pt -- ...\n",
      " [wrn] PDDN Model Summary NOT Available!\n",
      " >> PDDN Loading Model: C:\\Users\\romai\\Documents\\repositories\\processingMM\\src\\processingmm\\PDDN_model\\PDDN_model_550_Fresh_HB.pt -- Complete\n",
      "*** PDDN DENOISING FILTER *** \n",
      " >> PDDN Denoising: total time-points: 1000\n",
      " >> PDDN Denoising: start time-point: 1\n",
      " >> PDDN Denoising: final time-point: 0\n",
      " >> PDDN Denoising: recursive filtering enabled (2 x cascade): False\n",
      " >> MPI Denoising PDDN Performance: Elapsed time = 2.857 s\n",
      " \n",
      " >> Exported X3D .cod file as: ./temp_processing\\2024-03-06_T_PR-S1-T8_FR_M1\\raw_data\\550nm\\550_Intensite_PDDN.cod\n",
      " >> PDDN Loading Model: C:\\Users\\romai\\Documents\\repositories\\processingMM\\src\\processingmm\\PDDN_model\\PDDN_model_550_Fresh_HB.pt -- ...\n",
      " [wrn] PDDN Model Summary NOT Available!\n",
      " >> PDDN Loading Model: C:\\Users\\romai\\Documents\\repositories\\processingMM\\src\\processingmm\\PDDN_model\\PDDN_model_550_Fresh_HB.pt -- Complete\n",
      "*** PDDN DENOISING FILTER *** \n",
      " >> PDDN Denoising: total time-points: 1000\n",
      " >> PDDN Denoising: start time-point: 1\n",
      " >> PDDN Denoising: final time-point: 0\n",
      " >> PDDN Denoising: recursive filtering enabled (2 x cascade): False\n",
      " >> MPI Denoising PDDN Performance: Elapsed time = 2.984 s\n",
      " \n",
      " >> Exported X3D .cod file as: ./temp_processing\\2024-06-12_T_PR-S1-T0_FR_M3\\raw_data\\550nm\\550_Intensite_PDDN.cod\n"
     ]
    },
    {
     "name": "stderr",
     "output_type": "stream",
     "text": [
      "\r",
      "  2%|█▌                                                                              | 2/100 [01:30<1:12:20, 44.29s/it]"
     ]
    },
    {
     "name": "stdout",
     "output_type": "stream",
     "text": [
      "E:\\Ardit\\nas\\PBS\\2024-05-01_T_PBS-S1-T6_FR_M4\n",
      "['annotation', 'histology', 'MMProcessing.txt', 'polarimetry', 'raw_data']\n",
      "E:\\Ardit\\nas\\DW\\2024-05-02_T_DW-S1-T5_FR_M3\n",
      "['annotation', 'histology', 'MMProcessing.txt', 'polarimetry', 'raw_data']\n",
      " >> PDDN Loading Model: C:\\Users\\romai\\Documents\\repositories\\processingMM\\src\\processingmm\\PDDN_model\\PDDN_model_550_Fresh_HB.pt -- ...\n",
      " [wrn] PDDN Model Summary NOT Available!\n",
      " >> PDDN Loading Model: C:\\Users\\romai\\Documents\\repositories\\processingMM\\src\\processingmm\\PDDN_model\\PDDN_model_550_Fresh_HB.pt -- Complete\n",
      "*** PDDN DENOISING FILTER *** \n",
      " >> PDDN Denoising: total time-points: 1000\n",
      " >> PDDN Denoising: start time-point: 1\n",
      " >> PDDN Denoising: final time-point: 0\n",
      " >> PDDN Denoising: recursive filtering enabled (2 x cascade): False\n",
      " >> MPI Denoising PDDN Performance: Elapsed time = 2.795 s\n",
      " \n",
      " >> Exported X3D .cod file as: ./temp_processing\\2024-05-01_T_PBS-S1-T6_FR_M4\\raw_data\\550nm\\550_Intensite_PDDN.cod\n",
      " >> PDDN Loading Model: C:\\Users\\romai\\Documents\\repositories\\processingMM\\src\\processingmm\\PDDN_model\\PDDN_model_550_Fresh_HB.pt -- ...\n",
      " [wrn] PDDN Model Summary NOT Available!\n",
      " >> PDDN Loading Model: C:\\Users\\romai\\Documents\\repositories\\processingMM\\src\\processingmm\\PDDN_model\\PDDN_model_550_Fresh_HB.pt -- Complete\n",
      "*** PDDN DENOISING FILTER *** \n",
      " >> PDDN Denoising: total time-points: 1000\n",
      " >> PDDN Denoising: start time-point: 1\n",
      " >> PDDN Denoising: final time-point: 0\n",
      " >> PDDN Denoising: recursive filtering enabled (2 x cascade): False\n",
      " >> MPI Denoising PDDN Performance: Elapsed time = 3.072 s\n",
      " \n",
      " >> Exported X3D .cod file as: ./temp_processing\\2024-05-02_T_DW-S1-T5_FR_M3\\raw_data\\550nm\\550_Intensite_PDDN.cod\n"
     ]
    },
    {
     "name": "stderr",
     "output_type": "stream",
     "text": [
      "\r",
      "  3%|██▍                                                                             | 3/100 [02:10<1:08:16, 42.24s/it]"
     ]
    },
    {
     "name": "stdout",
     "output_type": "stream",
     "text": [
      "E:\\Ardit\\nas\\DW\\2024-05-02_T_DW-S1-T6_FR_M2\n",
      "['annotation', 'histology', 'MMProcessing.txt', 'polarimetry', 'raw_data']\n",
      "E:\\Ardit\\nas\\PR\\2024-06-13_T_PR-S1-T0_FR_M3\n",
      "['annotation', 'histology', 'MMProcessing.txt', 'polarimetry', 'raw_data']\n",
      " >> PDDN Loading Model: C:\\Users\\romai\\Documents\\repositories\\processingMM\\src\\processingmm\\PDDN_model\\PDDN_model_550_Fresh_HB.pt -- ...\n",
      " [wrn] PDDN Model Summary NOT Available!\n",
      " >> PDDN Loading Model: C:\\Users\\romai\\Documents\\repositories\\processingMM\\src\\processingmm\\PDDN_model\\PDDN_model_550_Fresh_HB.pt -- Complete\n",
      "*** PDDN DENOISING FILTER *** \n",
      " >> PDDN Denoising: total time-points: 1000\n",
      " >> PDDN Denoising: start time-point: 1\n",
      " >> PDDN Denoising: final time-point: 0\n",
      " >> PDDN Denoising: recursive filtering enabled (2 x cascade): False\n",
      " >> MPI Denoising PDDN Performance: Elapsed time = 2.817 s\n",
      " \n",
      " >> Exported X3D .cod file as: ./temp_processing\\2024-05-02_T_DW-S1-T6_FR_M2\\raw_data\\550nm\\550_Intensite_PDDN.cod\n",
      " >> PDDN Loading Model: C:\\Users\\romai\\Documents\\repositories\\processingMM\\src\\processingmm\\PDDN_model\\PDDN_model_550_Fresh_HB.pt -- ...\n",
      " [wrn] PDDN Model Summary NOT Available!\n",
      " >> PDDN Loading Model: C:\\Users\\romai\\Documents\\repositories\\processingMM\\src\\processingmm\\PDDN_model\\PDDN_model_550_Fresh_HB.pt -- Complete\n",
      "*** PDDN DENOISING FILTER *** \n",
      " >> PDDN Denoising: total time-points: 1000\n",
      " >> PDDN Denoising: start time-point: 1\n",
      " >> PDDN Denoising: final time-point: 0\n",
      " >> PDDN Denoising: recursive filtering enabled (2 x cascade): False\n",
      " >> MPI Denoising PDDN Performance: Elapsed time = 3.045 s\n",
      " \n",
      " >> Exported X3D .cod file as: ./temp_processing\\2024-06-13_T_PR-S1-T0_FR_M3\\raw_data\\550nm\\550_Intensite_PDDN.cod\n"
     ]
    },
    {
     "name": "stderr",
     "output_type": "stream",
     "text": [
      "\r",
      "  4%|███▏                                                                            | 4/100 [02:49<1:05:25, 40.89s/it]"
     ]
    },
    {
     "name": "stdout",
     "output_type": "stream",
     "text": [
      "E:\\Ardit\\nas\\PR\\2024-06-13_T_PR-S1-T5_FR_M2\n",
      "['annotation', 'histology', 'MMProcessing.txt', 'polarimetry', 'raw_data']\n",
      "E:\\Ardit\\nas\\PR\\2024-03-06_T_PR-S1-T6_FR_M2\n",
      "['annotation', 'histology', 'MMProcessing.txt', 'polarimetry', 'raw_data']\n",
      " >> PDDN Loading Model: C:\\Users\\romai\\Documents\\repositories\\processingMM\\src\\processingmm\\PDDN_model\\PDDN_model_550_Fresh_HB.pt -- ...\n",
      " [wrn] PDDN Model Summary NOT Available!\n",
      " >> PDDN Loading Model: C:\\Users\\romai\\Documents\\repositories\\processingMM\\src\\processingmm\\PDDN_model\\PDDN_model_550_Fresh_HB.pt -- Complete\n",
      "*** PDDN DENOISING FILTER *** \n",
      " >> PDDN Denoising: total time-points: 1000\n",
      " >> PDDN Denoising: start time-point: 1\n",
      " >> PDDN Denoising: final time-point: 0\n",
      " >> PDDN Denoising: recursive filtering enabled (2 x cascade): False\n",
      " >> MPI Denoising PDDN Performance: Elapsed time = 2.897 s\n",
      " \n",
      " >> Exported X3D .cod file as: ./temp_processing\\2024-03-06_T_PR-S1-T6_FR_M2\\raw_data\\550nm\\550_Intensite_PDDN.cod\n",
      " >> PDDN Loading Model: C:\\Users\\romai\\Documents\\repositories\\processingMM\\src\\processingmm\\PDDN_model\\PDDN_model_550_Fresh_HB.pt -- ...\n",
      " [wrn] PDDN Model Summary NOT Available!\n",
      " >> PDDN Loading Model: C:\\Users\\romai\\Documents\\repositories\\processingMM\\src\\processingmm\\PDDN_model\\PDDN_model_550_Fresh_HB.pt -- Complete\n",
      "*** PDDN DENOISING FILTER *** \n",
      " >> PDDN Denoising: total time-points: 1000\n",
      " >> PDDN Denoising: start time-point: 1\n",
      " >> PDDN Denoising: final time-point: 0\n",
      " >> PDDN Denoising: recursive filtering enabled (2 x cascade): False\n",
      " >> MPI Denoising PDDN Performance: Elapsed time = 3.094 s\n",
      " \n",
      " >> Exported X3D .cod file as: ./temp_processing\\2024-06-13_T_PR-S1-T5_FR_M2\\raw_data\\550nm\\550_Intensite_PDDN.cod\n"
     ]
    },
    {
     "name": "stderr",
     "output_type": "stream",
     "text": [
      "\r",
      "  5%|████                                                                            | 5/100 [03:33<1:06:23, 41.93s/it]"
     ]
    },
    {
     "name": "stdout",
     "output_type": "stream",
     "text": [
      "E:\\Ardit\\nas\\DW\\2024-03-06_T_DW-S1-T8_FR_M1\n",
      "['annotation', 'histology', 'MMProcessing.txt', 'polarimetry', 'raw_data']\n",
      "E:\\Ardit\\nas\\PBS\\2024-03-06_T_PBS-S1-T8_FR_M2\n",
      "['annotation', 'histology', 'MMProcessing.txt', 'polarimetry', 'raw_data']\n",
      " >> PDDN Loading Model: C:\\Users\\romai\\Documents\\repositories\\processingMM\\src\\processingmm\\PDDN_model\\PDDN_model_550_Fresh_HB.pt -- ...\n",
      " [wrn] PDDN Model Summary NOT Available!\n",
      " >> PDDN Loading Model: C:\\Users\\romai\\Documents\\repositories\\processingMM\\src\\processingmm\\PDDN_model\\PDDN_model_550_Fresh_HB.pt -- Complete\n",
      "*** PDDN DENOISING FILTER *** \n",
      " >> PDDN Denoising: total time-points: 1000\n",
      " >> PDDN Denoising: start time-point: 1\n",
      " >> PDDN Denoising: final time-point: 0\n",
      " >> PDDN Denoising: recursive filtering enabled (2 x cascade): False\n",
      " >> MPI Denoising PDDN Performance: Elapsed time = 2.742 s\n",
      " \n",
      " >> Exported X3D .cod file as: ./temp_processing\\2024-03-06_T_DW-S1-T8_FR_M1\\raw_data\\550nm\\550_Intensite_PDDN.cod\n",
      " >> PDDN Loading Model: C:\\Users\\romai\\Documents\\repositories\\processingMM\\src\\processingmm\\PDDN_model\\PDDN_model_550_Fresh_HB.pt -- ...\n",
      " [wrn] PDDN Model Summary NOT Available!\n",
      " >> PDDN Loading Model: C:\\Users\\romai\\Documents\\repositories\\processingMM\\src\\processingmm\\PDDN_model\\PDDN_model_550_Fresh_HB.pt -- Complete\n",
      "*** PDDN DENOISING FILTER *** \n",
      " >> PDDN Denoising: total time-points: 1000\n",
      " >> PDDN Denoising: start time-point: 1\n",
      " >> PDDN Denoising: final time-point: 0\n",
      " >> PDDN Denoising: recursive filtering enabled (2 x cascade): False\n",
      " >> MPI Denoising PDDN Performance: Elapsed time = 2.987 s\n",
      " \n",
      " >> Exported X3D .cod file as: ./temp_processing\\2024-03-06_T_PBS-S1-T8_FR_M2\\raw_data\\550nm\\550_Intensite_PDDN.cod\n"
     ]
    },
    {
     "name": "stderr",
     "output_type": "stream",
     "text": [
      "\r",
      "  6%|████▊                                                                           | 6/100 [04:12<1:04:26, 41.13s/it]"
     ]
    },
    {
     "name": "stdout",
     "output_type": "stream",
     "text": [
      "E:\\Ardit\\nas\\PR\\2024-03-06_T_PR-S1-T5_FR_M1\n",
      "['annotation', 'histology', 'MMProcessing.txt', 'polarimetry', 'raw_data']\n",
      "E:\\Ardit\\nas\\PR\\2024-03-06_T_PR-S1-T4_FR_M2\n",
      "['annotation', 'histology', 'MMProcessing.txt', 'polarimetry', 'raw_data']\n",
      " >> PDDN Loading Model: C:\\Users\\romai\\Documents\\repositories\\processingMM\\src\\processingmm\\PDDN_model\\PDDN_model_550_Fresh_HB.pt -- ...\n",
      " [wrn] PDDN Model Summary NOT Available!\n",
      " >> PDDN Loading Model: C:\\Users\\romai\\Documents\\repositories\\processingMM\\src\\processingmm\\PDDN_model\\PDDN_model_550_Fresh_HB.pt -- Complete\n",
      "*** PDDN DENOISING FILTER *** \n",
      " >> PDDN Denoising: total time-points: 1000\n",
      " >> PDDN Denoising: start time-point: 1\n",
      " >> PDDN Denoising: final time-point: 0\n",
      " >> PDDN Denoising: recursive filtering enabled (2 x cascade): False\n",
      " >> MPI Denoising PDDN Performance: Elapsed time = 2.925 s\n",
      " \n",
      " >> Exported X3D .cod file as: ./temp_processing\\2024-03-06_T_PR-S1-T4_FR_M2\\raw_data\\550nm\\550_Intensite_PDDN.cod\n",
      " >> PDDN Loading Model: C:\\Users\\romai\\Documents\\repositories\\processingMM\\src\\processingmm\\PDDN_model\\PDDN_model_550_Fresh_HB.pt -- ...\n",
      " [wrn] PDDN Model Summary NOT Available!\n",
      " >> PDDN Loading Model: C:\\Users\\romai\\Documents\\repositories\\processingMM\\src\\processingmm\\PDDN_model\\PDDN_model_550_Fresh_HB.pt -- Complete\n",
      "*** PDDN DENOISING FILTER *** \n",
      " >> PDDN Denoising: total time-points: 1000\n",
      " >> PDDN Denoising: start time-point: 1\n",
      " >> PDDN Denoising: final time-point: 0\n",
      " >> PDDN Denoising: recursive filtering enabled (2 x cascade): False\n",
      " >> MPI Denoising PDDN Performance: Elapsed time = 2.980 s\n",
      " \n",
      " >> Exported X3D .cod file as: ./temp_processing\\2024-03-06_T_PR-S1-T5_FR_M1\\raw_data\\550nm\\550_Intensite_PDDN.cod\n"
     ]
    },
    {
     "name": "stderr",
     "output_type": "stream",
     "text": [
      "\r",
      "  7%|█████▌                                                                          | 7/100 [04:53<1:03:34, 41.02s/it]"
     ]
    },
    {
     "name": "stdout",
     "output_type": "stream",
     "text": [
      "E:\\Ardit\\nas\\DW\\2024-05-02_T_DW-S1-T7_FR_M2\n",
      "['annotation', 'histology', 'MMProcessing.txt', 'polarimetry', 'raw_data']\n",
      "E:\\Ardit\\nas\\DW\\2024-03-07_T_DW-S1-T0_FR_M2\n",
      "['annotation', 'histology', 'MMProcessing.txt', 'polarimetry', 'raw_data']\n",
      " >> PDDN Loading Model: C:\\Users\\romai\\Documents\\repositories\\processingMM\\src\\processingmm\\PDDN_model\\PDDN_model_550_Fresh_HB.pt -- ...\n",
      " [wrn] PDDN Model Summary NOT Available!\n",
      " >> PDDN Loading Model: C:\\Users\\romai\\Documents\\repositories\\processingMM\\src\\processingmm\\PDDN_model\\PDDN_model_550_Fresh_HB.pt -- Complete\n",
      "*** PDDN DENOISING FILTER *** \n",
      " >> PDDN Denoising: total time-points: 1000\n",
      " >> PDDN Denoising: start time-point: 1\n",
      " >> PDDN Denoising: final time-point: 0\n",
      " >> PDDN Denoising: recursive filtering enabled (2 x cascade): False\n",
      " >> MPI Denoising PDDN Performance: Elapsed time = 2.902 s\n",
      " \n",
      " >> Exported X3D .cod file as: ./temp_processing\\2024-03-07_T_DW-S1-T0_FR_M2\\raw_data\\550nm\\550_Intensite_PDDN.cod\n",
      " >> PDDN Loading Model: C:\\Users\\romai\\Documents\\repositories\\processingMM\\src\\processingmm\\PDDN_model\\PDDN_model_550_Fresh_HB.pt -- ...\n",
      " [wrn] PDDN Model Summary NOT Available!\n",
      " >> PDDN Loading Model: C:\\Users\\romai\\Documents\\repositories\\processingMM\\src\\processingmm\\PDDN_model\\PDDN_model_550_Fresh_HB.pt -- Complete\n",
      "*** PDDN DENOISING FILTER *** \n",
      " >> PDDN Denoising: total time-points: 1000\n",
      " >> PDDN Denoising: start time-point: 1\n",
      " >> PDDN Denoising: final time-point: 0\n",
      " >> PDDN Denoising: recursive filtering enabled (2 x cascade): False\n",
      " >> MPI Denoising PDDN Performance: Elapsed time = 2.973 s\n",
      " \n",
      " >> Exported X3D .cod file as: ./temp_processing\\2024-05-02_T_DW-S1-T7_FR_M2\\raw_data\\550nm\\550_Intensite_PDDN.cod\n"
     ]
    },
    {
     "name": "stderr",
     "output_type": "stream",
     "text": [
      "\r",
      "  8%|██████▍                                                                         | 8/100 [05:34<1:02:38, 40.85s/it]"
     ]
    },
    {
     "name": "stdout",
     "output_type": "stream",
     "text": [
      "E:\\Ardit\\nas\\PR\\2024-06-12_T_PR-S1-T6_FR_M1\n",
      "['annotation', 'histology', 'MMProcessing.txt', 'polarimetry', 'raw_data']\n",
      "E:\\Ardit\\nas\\PR\\2024-03-06_T_PR-S1-T5_FR_M2\n",
      "['annotation', 'histology', 'MMProcessing.txt', 'polarimetry', 'raw_data']\n",
      " >> PDDN Loading Model: C:\\Users\\romai\\Documents\\repositories\\processingMM\\src\\processingmm\\PDDN_model\\PDDN_model_550_Fresh_HB.pt -- ...\n",
      " [wrn] PDDN Model Summary NOT Available!\n",
      " >> PDDN Loading Model: C:\\Users\\romai\\Documents\\repositories\\processingMM\\src\\processingmm\\PDDN_model\\PDDN_model_550_Fresh_HB.pt -- Complete\n",
      "*** PDDN DENOISING FILTER *** \n",
      " >> PDDN Denoising: total time-points: 1000\n",
      " >> PDDN Denoising: start time-point: 1\n",
      " >> PDDN Denoising: final time-point: 0\n",
      " >> PDDN Denoising: recursive filtering enabled (2 x cascade): False\n",
      " >> MPI Denoising PDDN Performance: Elapsed time = 2.902 s\n",
      " \n",
      " >> Exported X3D .cod file as: ./temp_processing\\2024-03-06_T_PR-S1-T5_FR_M2\\raw_data\\550nm\\550_Intensite_PDDN.cod\n",
      " >> PDDN Loading Model: C:\\Users\\romai\\Documents\\repositories\\processingMM\\src\\processingmm\\PDDN_model\\PDDN_model_550_Fresh_HB.pt -- ...\n",
      " [wrn] PDDN Model Summary NOT Available!\n",
      " >> PDDN Loading Model: C:\\Users\\romai\\Documents\\repositories\\processingMM\\src\\processingmm\\PDDN_model\\PDDN_model_550_Fresh_HB.pt -- Complete\n",
      "*** PDDN DENOISING FILTER *** \n",
      " >> PDDN Denoising: total time-points: 1000\n",
      " >> PDDN Denoising: start time-point: 1\n",
      " >> PDDN Denoising: final time-point: 0\n",
      " >> PDDN Denoising: recursive filtering enabled (2 x cascade): False\n",
      " >> MPI Denoising PDDN Performance: Elapsed time = 3.150 s\n",
      " \n",
      " >> Exported X3D .cod file as: ./temp_processing\\2024-06-12_T_PR-S1-T6_FR_M1\\raw_data\\550nm\\550_Intensite_PDDN.cod\n"
     ]
    },
    {
     "name": "stderr",
     "output_type": "stream",
     "text": [
      "\r",
      "  9%|███████▏                                                                        | 9/100 [06:18<1:03:35, 41.92s/it]"
     ]
    },
    {
     "name": "stdout",
     "output_type": "stream",
     "text": [
      "E:\\Ardit\\nas\\DW\\2024-05-08_T_DW_S1-T5_FR_M1\n",
      "['annotation', 'histology', 'MMProcessing.txt', 'polarimetry', 'raw_data']\n",
      "E:\\Ardit\\nas\\PBS\\2024-05-01_T_PBS-S1-T7_FR_M4\n",
      "['annotation', 'histology', 'MMProcessing.txt', 'polarimetry', 'raw_data']\n",
      " >> PDDN Loading Model: C:\\Users\\romai\\Documents\\repositories\\processingMM\\src\\processingmm\\PDDN_model\\PDDN_model_550_Fresh_HB.pt -- ...\n",
      " [wrn] PDDN Model Summary NOT Available!\n",
      " >> PDDN Loading Model: C:\\Users\\romai\\Documents\\repositories\\processingMM\\src\\processingmm\\PDDN_model\\PDDN_model_550_Fresh_HB.pt -- Complete\n",
      "*** PDDN DENOISING FILTER *** \n",
      " >> PDDN Denoising: total time-points: 1000\n",
      " >> PDDN Denoising: start time-point: 1\n",
      " >> PDDN Denoising: final time-point: 0\n",
      " >> PDDN Denoising: recursive filtering enabled (2 x cascade): False\n",
      " >> MPI Denoising PDDN Performance: Elapsed time = 2.776 s\n",
      " \n",
      " >> Exported X3D .cod file as: ./temp_processing\\2024-05-01_T_PBS-S1-T7_FR_M4\\raw_data\\550nm\\550_Intensite_PDDN.cod\n",
      " >> PDDN Loading Model: C:\\Users\\romai\\Documents\\repositories\\processingMM\\src\\processingmm\\PDDN_model\\PDDN_model_550_Fresh_HB.pt -- ...\n",
      " [wrn] PDDN Model Summary NOT Available!\n",
      " >> PDDN Loading Model: C:\\Users\\romai\\Documents\\repositories\\processingMM\\src\\processingmm\\PDDN_model\\PDDN_model_550_Fresh_HB.pt -- Complete\n",
      "*** PDDN DENOISING FILTER *** \n",
      " >> PDDN Denoising: total time-points: 1000\n",
      " >> PDDN Denoising: start time-point: 1\n",
      " >> PDDN Denoising: final time-point: 0\n",
      " >> PDDN Denoising: recursive filtering enabled (2 x cascade): False\n",
      " >> MPI Denoising PDDN Performance: Elapsed time = 3.139 s\n",
      " \n",
      " >> Exported X3D .cod file as: ./temp_processing\\2024-05-08_T_DW_S1-T5_FR_M1\\raw_data\\550nm\\550_Intensite_PDDN.cod\n"
     ]
    },
    {
     "name": "stderr",
     "output_type": "stream",
     "text": [
      "\r",
      " 10%|███████▉                                                                       | 10/100 [07:01<1:03:33, 42.37s/it]"
     ]
    },
    {
     "name": "stdout",
     "output_type": "stream",
     "text": [
      "E:\\Ardit\\nas\\DW\\2024-05-02_T_DW-S1-T4_FR_M3\n",
      "['annotation', 'histology', 'MMProcessing.txt', 'polarimetry', 'raw_data']\n",
      "E:\\Ardit\\nas\\DW\\2024-05-08_T_DW_S1-T6_FR_M1\n",
      "['annotation', 'histology', 'MMProcessing.txt', 'polarimetry', 'raw_data']\n",
      " >> PDDN Loading Model: C:\\Users\\romai\\Documents\\repositories\\processingMM\\src\\processingmm\\PDDN_model\\PDDN_model_550_Fresh_HB.pt -- ...\n",
      " [wrn] PDDN Model Summary NOT Available!\n",
      " >> PDDN Loading Model: C:\\Users\\romai\\Documents\\repositories\\processingMM\\src\\processingmm\\PDDN_model\\PDDN_model_550_Fresh_HB.pt -- Complete\n",
      "*** PDDN DENOISING FILTER *** \n",
      " >> PDDN Denoising: total time-points: 1000\n",
      " >> PDDN Denoising: start time-point: 1\n",
      " >> PDDN Denoising: final time-point: 0\n",
      " >> PDDN Denoising: recursive filtering enabled (2 x cascade): False\n",
      " >> MPI Denoising PDDN Performance: Elapsed time = 2.848 s\n",
      " \n",
      " >> Exported X3D .cod file as: ./temp_processing\\2024-05-02_T_DW-S1-T4_FR_M3\\raw_data\\550nm\\550_Intensite_PDDN.cod\n",
      " >> PDDN Loading Model: C:\\Users\\romai\\Documents\\repositories\\processingMM\\src\\processingmm\\PDDN_model\\PDDN_model_550_Fresh_HB.pt -- ...\n",
      " [wrn] PDDN Model Summary NOT Available!\n",
      " >> PDDN Loading Model: C:\\Users\\romai\\Documents\\repositories\\processingMM\\src\\processingmm\\PDDN_model\\PDDN_model_550_Fresh_HB.pt -- Complete\n",
      "*** PDDN DENOISING FILTER *** \n",
      " >> PDDN Denoising: total time-points: 1000\n",
      " >> PDDN Denoising: start time-point: 1\n",
      " >> PDDN Denoising: final time-point: 0\n",
      " >> PDDN Denoising: recursive filtering enabled (2 x cascade): False\n",
      " >> MPI Denoising PDDN Performance: Elapsed time = 3.054 s\n",
      " \n",
      " >> Exported X3D .cod file as: ./temp_processing\\2024-05-08_T_DW_S1-T6_FR_M1\\raw_data\\550nm\\550_Intensite_PDDN.cod\n"
     ]
    },
    {
     "name": "stderr",
     "output_type": "stream",
     "text": [
      "\r",
      " 11%|████████▋                                                                      | 11/100 [07:46<1:03:51, 43.05s/it]"
     ]
    },
    {
     "name": "stdout",
     "output_type": "stream",
     "text": [
      "E:\\Ardit\\nas\\PBS\\2024-03-06_T_PBS-S1-T7_FR_M2\n",
      "['annotation', 'histology', 'MMProcessing.txt', 'polarimetry', 'raw_data']\n",
      "E:\\Ardit\\nas\\PBS\\2024-05-08_T_PBS_S1-T3_FR_M2\n",
      "['annotation', 'histology', 'MMProcessing.txt', 'polarimetry', 'raw_data']\n",
      " >> PDDN Loading Model: C:\\Users\\romai\\Documents\\repositories\\processingMM\\src\\processingmm\\PDDN_model\\PDDN_model_550_Fresh_HB.pt -- ...\n",
      " [wrn] PDDN Model Summary NOT Available!\n",
      " >> PDDN Loading Model: C:\\Users\\romai\\Documents\\repositories\\processingMM\\src\\processingmm\\PDDN_model\\PDDN_model_550_Fresh_HB.pt -- Complete\n",
      "*** PDDN DENOISING FILTER *** \n",
      " >> PDDN Denoising: total time-points: 1000\n",
      " >> PDDN Denoising: start time-point: 1\n",
      " >> PDDN Denoising: final time-point: 0\n",
      " >> PDDN Denoising: recursive filtering enabled (2 x cascade): False\n",
      " >> MPI Denoising PDDN Performance: Elapsed time = 2.931 s\n",
      " \n",
      " >> Exported X3D .cod file as: ./temp_processing\\2024-03-06_T_PBS-S1-T7_FR_M2\\raw_data\\550nm\\550_Intensite_PDDN.cod\n",
      " >> PDDN Loading Model: C:\\Users\\romai\\Documents\\repositories\\processingMM\\src\\processingmm\\PDDN_model\\PDDN_model_550_Fresh_HB.pt -- ...\n",
      " [wrn] PDDN Model Summary NOT Available!\n",
      " >> PDDN Loading Model: C:\\Users\\romai\\Documents\\repositories\\processingMM\\src\\processingmm\\PDDN_model\\PDDN_model_550_Fresh_HB.pt -- Complete\n",
      "*** PDDN DENOISING FILTER *** \n",
      " >> PDDN Denoising: total time-points: 1000\n",
      " >> PDDN Denoising: start time-point: 1\n",
      " >> PDDN Denoising: final time-point: 0\n",
      " >> PDDN Denoising: recursive filtering enabled (2 x cascade): False\n",
      " >> MPI Denoising PDDN Performance: Elapsed time = 3.040 s\n",
      " \n",
      " >> Exported X3D .cod file as: ./temp_processing\\2024-05-08_T_PBS_S1-T3_FR_M2\\raw_data\\550nm\\550_Intensite_PDDN.cod\n"
     ]
    },
    {
     "name": "stderr",
     "output_type": "stream",
     "text": [
      "\r",
      " 12%|█████████▍                                                                     | 12/100 [08:30<1:03:31, 43.31s/it]"
     ]
    },
    {
     "name": "stdout",
     "output_type": "stream",
     "text": [
      "E:\\Ardit\\nas\\PR\\2024-06-13_T_PR-S1-T7_FR_M1\n",
      "['annotation', 'histology', 'MMProcessing.txt', 'polarimetry', 'raw_data']\n",
      "E:\\Ardit\\nas\\DW\\2024-05-02_T_DW-S1-T1_FR_M4\n",
      "['annotation', 'histology', 'MMProcessing.txt', 'polarimetry', 'raw_data']\n",
      " >> PDDN Loading Model: C:\\Users\\romai\\Documents\\repositories\\processingMM\\src\\processingmm\\PDDN_model\\PDDN_model_550_Fresh_HB.pt -- ...\n",
      " [wrn] PDDN Model Summary NOT Available!\n",
      " >> PDDN Loading Model: C:\\Users\\romai\\Documents\\repositories\\processingMM\\src\\processingmm\\PDDN_model\\PDDN_model_550_Fresh_HB.pt -- Complete\n",
      "*** PDDN DENOISING FILTER *** \n",
      " >> PDDN Denoising: total time-points: 1000\n",
      " >> PDDN Denoising: start time-point: 1\n",
      " >> PDDN Denoising: final time-point: 0\n",
      " >> PDDN Denoising: recursive filtering enabled (2 x cascade): False\n",
      " >> MPI Denoising PDDN Performance: Elapsed time = 2.756 s\n",
      " \n",
      " >> Exported X3D .cod file as: ./temp_processing\\2024-05-02_T_DW-S1-T1_FR_M4\\raw_data\\550nm\\550_Intensite_PDDN.cod\n",
      " >> PDDN Loading Model: C:\\Users\\romai\\Documents\\repositories\\processingMM\\src\\processingmm\\PDDN_model\\PDDN_model_550_Fresh_HB.pt -- ...\n",
      " [wrn] PDDN Model Summary NOT Available!\n",
      " >> PDDN Loading Model: C:\\Users\\romai\\Documents\\repositories\\processingMM\\src\\processingmm\\PDDN_model\\PDDN_model_550_Fresh_HB.pt -- Complete\n",
      "*** PDDN DENOISING FILTER *** \n",
      " >> PDDN Denoising: total time-points: 1000\n",
      " >> PDDN Denoising: start time-point: 1\n",
      " >> PDDN Denoising: final time-point: 0\n",
      " >> PDDN Denoising: recursive filtering enabled (2 x cascade): False\n",
      " >> MPI Denoising PDDN Performance: Elapsed time = 3.051 s\n",
      " \n",
      " >> Exported X3D .cod file as: ./temp_processing\\2024-06-13_T_PR-S1-T7_FR_M1\\raw_data\\550nm\\550_Intensite_PDDN.cod\n"
     ]
    },
    {
     "name": "stderr",
     "output_type": "stream",
     "text": [
      "\r",
      " 13%|██████████▎                                                                    | 13/100 [09:11<1:01:52, 42.68s/it]"
     ]
    },
    {
     "name": "stdout",
     "output_type": "stream",
     "text": [
      "E:\\Ardit\\nas\\PBS\\2024-03-06_T_PBS-S1-T4_FR_M1\n",
      "['annotation', 'histology', 'MMProcessing.txt', 'polarimetry', 'raw_data']\n",
      "E:\\Ardit\\nas\\PR\\2024-06-12_T_PR-S1-T5_FR_M3\n",
      "['annotation', 'histology', 'MMProcessing.txt', 'polarimetry', 'raw_data']\n",
      " >> PDDN Loading Model: C:\\Users\\romai\\Documents\\repositories\\processingMM\\src\\processingmm\\PDDN_model\\PDDN_model_550_Fresh_HB.pt -- ...\n",
      " [wrn] PDDN Model Summary NOT Available!\n",
      " >> PDDN Loading Model: C:\\Users\\romai\\Documents\\repositories\\processingMM\\src\\processingmm\\PDDN_model\\PDDN_model_550_Fresh_HB.pt -- Complete\n",
      "*** PDDN DENOISING FILTER *** \n",
      " >> PDDN Denoising: total time-points: 1000\n",
      " >> PDDN Denoising: start time-point: 1\n",
      " >> PDDN Denoising: final time-point: 0\n",
      " >> PDDN Denoising: recursive filtering enabled (2 x cascade): False\n",
      " >> MPI Denoising PDDN Performance: Elapsed time = 2.958 s\n",
      " \n",
      " >> Exported X3D .cod file as: ./temp_processing\\2024-03-06_T_PBS-S1-T4_FR_M1\\raw_data\\550nm\\550_Intensite_PDDN.cod\n",
      " >> PDDN Loading Model: C:\\Users\\romai\\Documents\\repositories\\processingMM\\src\\processingmm\\PDDN_model\\PDDN_model_550_Fresh_HB.pt -- ...\n",
      " [wrn] PDDN Model Summary NOT Available!\n",
      " >> PDDN Loading Model: C:\\Users\\romai\\Documents\\repositories\\processingMM\\src\\processingmm\\PDDN_model\\PDDN_model_550_Fresh_HB.pt -- Complete\n",
      "*** PDDN DENOISING FILTER *** \n",
      " >> PDDN Denoising: total time-points: 1000\n",
      " >> PDDN Denoising: start time-point: 1\n",
      " >> PDDN Denoising: final time-point: 0\n",
      " >> PDDN Denoising: recursive filtering enabled (2 x cascade): False\n",
      " >> MPI Denoising PDDN Performance: Elapsed time = 3.110 s\n",
      " \n",
      " >> Exported X3D .cod file as: ./temp_processing\\2024-06-12_T_PR-S1-T5_FR_M3\\raw_data\\550nm\\550_Intensite_PDDN.cod\n"
     ]
    },
    {
     "name": "stderr",
     "output_type": "stream",
     "text": [
      "\r",
      " 14%|███████████                                                                    | 14/100 [09:52<1:00:38, 42.31s/it]"
     ]
    },
    {
     "name": "stdout",
     "output_type": "stream",
     "text": [
      "E:\\Ardit\\nas\\PBS\\2024-05-01_T_PBS-S1-T5_FR_M1\n",
      "['annotation', 'histology', 'MMProcessing.txt', 'polarimetry', 'raw_data']\n",
      "E:\\Ardit\\nas\\PBS\\2024-03-06_T_PBS-S1-T5_FR_M2\n",
      "['annotation', 'histology', 'MMProcessing.txt', 'polarimetry', 'raw_data']\n",
      " >> PDDN Loading Model: C:\\Users\\romai\\Documents\\repositories\\processingMM\\src\\processingmm\\PDDN_model\\PDDN_model_550_Fresh_HB.pt -- ...\n",
      " [wrn] PDDN Model Summary NOT Available!\n",
      " >> PDDN Loading Model: C:\\Users\\romai\\Documents\\repositories\\processingMM\\src\\processingmm\\PDDN_model\\PDDN_model_550_Fresh_HB.pt -- Complete\n",
      "*** PDDN DENOISING FILTER *** \n",
      " >> PDDN Denoising: total time-points: 1000\n",
      " >> PDDN Denoising: start time-point: 1\n",
      " >> PDDN Denoising: final time-point: 0\n",
      " >> PDDN Denoising: recursive filtering enabled (2 x cascade): False\n",
      " >> MPI Denoising PDDN Performance: Elapsed time = 2.878 s\n",
      " \n",
      " >> Exported X3D .cod file as: ./temp_processing\\2024-03-06_T_PBS-S1-T5_FR_M2\\raw_data\\550nm\\550_Intensite_PDDN.cod\n",
      " >> PDDN Loading Model: C:\\Users\\romai\\Documents\\repositories\\processingMM\\src\\processingmm\\PDDN_model\\PDDN_model_550_Fresh_HB.pt -- ...\n",
      " [wrn] PDDN Model Summary NOT Available!\n",
      " >> PDDN Loading Model: C:\\Users\\romai\\Documents\\repositories\\processingMM\\src\\processingmm\\PDDN_model\\PDDN_model_550_Fresh_HB.pt -- Complete\n",
      "*** PDDN DENOISING FILTER *** \n",
      " >> PDDN Denoising: total time-points: 1000\n",
      " >> PDDN Denoising: start time-point: 1\n",
      " >> PDDN Denoising: final time-point: 0\n",
      " >> PDDN Denoising: recursive filtering enabled (2 x cascade): False\n",
      " >> MPI Denoising PDDN Performance: Elapsed time = 3.005 s\n",
      " \n",
      " >> Exported X3D .cod file as: ./temp_processing\\2024-05-01_T_PBS-S1-T5_FR_M1\\raw_data\\550nm\\550_Intensite_PDDN.cod\n"
     ]
    },
    {
     "name": "stderr",
     "output_type": "stream",
     "text": [
      "\r",
      " 15%|████████████▏                                                                    | 15/100 [10:34<59:38, 42.10s/it]"
     ]
    },
    {
     "name": "stdout",
     "output_type": "stream",
     "text": [
      "E:\\Ardit\\nas\\PBS\\2024-03-07_T_PBS-S1-T5_FR_M2\n",
      "['annotation', 'histology', 'MMProcessing.txt', 'polarimetry', 'raw_data']\n",
      "E:\\Ardit\\nas\\PR\\2024-06-13_T_PR-S1-T1_FR_M2\n",
      "['annotation', 'histology', 'MMProcessing.txt', 'polarimetry', 'raw_data']\n",
      " >> PDDN Loading Model: C:\\Users\\romai\\Documents\\repositories\\processingMM\\src\\processingmm\\PDDN_model\\PDDN_model_550_Fresh_HB.pt -- ...\n",
      " [wrn] PDDN Model Summary NOT Available!\n",
      " >> PDDN Loading Model: C:\\Users\\romai\\Documents\\repositories\\processingMM\\src\\processingmm\\PDDN_model\\PDDN_model_550_Fresh_HB.pt -- Complete\n",
      "*** PDDN DENOISING FILTER *** \n",
      " >> PDDN Denoising: total time-points: 1000\n",
      " >> PDDN Denoising: start time-point: 1\n",
      " >> PDDN Denoising: final time-point: 0\n",
      " >> PDDN Denoising: recursive filtering enabled (2 x cascade): False\n",
      " >> MPI Denoising PDDN Performance: Elapsed time = 2.897 s\n",
      " \n",
      " >> Exported X3D .cod file as: ./temp_processing\\2024-03-07_T_PBS-S1-T5_FR_M2\\raw_data\\550nm\\550_Intensite_PDDN.cod\n",
      " >> PDDN Loading Model: C:\\Users\\romai\\Documents\\repositories\\processingMM\\src\\processingmm\\PDDN_model\\PDDN_model_550_Fresh_HB.pt -- ...\n",
      " [wrn] PDDN Model Summary NOT Available!\n",
      " >> PDDN Loading Model: C:\\Users\\romai\\Documents\\repositories\\processingMM\\src\\processingmm\\PDDN_model\\PDDN_model_550_Fresh_HB.pt -- Complete\n",
      "*** PDDN DENOISING FILTER *** \n",
      " >> PDDN Denoising: total time-points: 1000\n",
      " >> PDDN Denoising: start time-point: 1\n",
      " >> PDDN Denoising: final time-point: 0\n",
      " >> PDDN Denoising: recursive filtering enabled (2 x cascade): False\n",
      " >> MPI Denoising PDDN Performance: Elapsed time = 3.045 s\n",
      " \n",
      " >> Exported X3D .cod file as: ./temp_processing\\2024-06-13_T_PR-S1-T1_FR_M2\\raw_data\\550nm\\550_Intensite_PDDN.cod\n"
     ]
    },
    {
     "name": "stderr",
     "output_type": "stream",
     "text": [
      "\r",
      " 16%|████████████▉                                                                    | 16/100 [11:14<58:15, 41.61s/it]"
     ]
    },
    {
     "name": "stdout",
     "output_type": "stream",
     "text": [
      "E:\\Ardit\\nas\\PR\\2024-06-12_T_PR-S1-T4_FR_M3\n",
      "['annotation', 'histology', 'MMProcessing.txt', 'polarimetry', 'raw_data']\n",
      "E:\\Ardit\\nas\\PR\\2024-06-13_T_PR-S1-T3_FR_M2\n",
      "['annotation', 'histology', 'MMProcessing.txt', 'polarimetry', 'raw_data']\n",
      " >> PDDN Loading Model: C:\\Users\\romai\\Documents\\repositories\\processingMM\\src\\processingmm\\PDDN_model\\PDDN_model_550_Fresh_HB.pt -- ...\n",
      " [wrn] PDDN Model Summary NOT Available!\n",
      " >> PDDN Loading Model: C:\\Users\\romai\\Documents\\repositories\\processingMM\\src\\processingmm\\PDDN_model\\PDDN_model_550_Fresh_HB.pt -- Complete\n",
      "*** PDDN DENOISING FILTER *** \n",
      " >> PDDN Denoising: total time-points: 1000\n",
      " >> PDDN Denoising: start time-point: 1\n",
      " >> PDDN Denoising: final time-point: 0\n",
      " >> PDDN Denoising: recursive filtering enabled (2 x cascade): False\n",
      " >> MPI Denoising PDDN Performance: Elapsed time = 2.935 s\n",
      " \n",
      " >> Exported X3D .cod file as: ./temp_processing\\2024-06-12_T_PR-S1-T4_FR_M3\\raw_data\\550nm\\550_Intensite_PDDN.cod\n",
      " >> PDDN Loading Model: C:\\Users\\romai\\Documents\\repositories\\processingMM\\src\\processingmm\\PDDN_model\\PDDN_model_550_Fresh_HB.pt -- ...\n",
      " [wrn] PDDN Model Summary NOT Available!\n",
      " >> PDDN Loading Model: C:\\Users\\romai\\Documents\\repositories\\processingMM\\src\\processingmm\\PDDN_model\\PDDN_model_550_Fresh_HB.pt -- Complete\n",
      "*** PDDN DENOISING FILTER *** \n",
      " >> PDDN Denoising: total time-points: 1000\n",
      " >> PDDN Denoising: start time-point: 1\n",
      " >> PDDN Denoising: final time-point: 0\n",
      " >> PDDN Denoising: recursive filtering enabled (2 x cascade): False\n",
      " >> MPI Denoising PDDN Performance: Elapsed time = 2.990 s\n",
      " \n",
      " >> Exported X3D .cod file as: ./temp_processing\\2024-06-13_T_PR-S1-T3_FR_M2\\raw_data\\550nm\\550_Intensite_PDDN.cod\n"
     ]
    },
    {
     "name": "stderr",
     "output_type": "stream",
     "text": [
      "\r",
      " 17%|█████████████▊                                                                   | 17/100 [11:57<57:51, 41.83s/it]"
     ]
    },
    {
     "name": "stdout",
     "output_type": "stream",
     "text": [
      "E:\\Ardit\\nas\\DW\\2024-03-06_T_DW-S1-T0_FR_M2\n",
      "['annotation', 'histology', 'MMProcessing.txt', 'polarimetry', 'raw_data']\n",
      "E:\\Ardit\\nas\\PBS\\2024-03-06_T_PBS-S1-T0_FR_M2\n",
      "['annotation', 'histology', 'MMProcessing.txt', 'polarimetry', 'raw_data']\n",
      " >> PDDN Loading Model: C:\\Users\\romai\\Documents\\repositories\\processingMM\\src\\processingmm\\PDDN_model\\PDDN_model_550_Fresh_HB.pt -- ...\n",
      " [wrn] PDDN Model Summary NOT Available!\n",
      " >> PDDN Loading Model: C:\\Users\\romai\\Documents\\repositories\\processingMM\\src\\processingmm\\PDDN_model\\PDDN_model_550_Fresh_HB.pt -- Complete\n",
      "*** PDDN DENOISING FILTER *** \n",
      " >> PDDN Denoising: total time-points: 1000\n",
      " >> PDDN Denoising: start time-point: 1\n",
      " >> PDDN Denoising: final time-point: 0\n",
      " >> PDDN Denoising: recursive filtering enabled (2 x cascade): False\n",
      " >> MPI Denoising PDDN Performance: Elapsed time = 2.920 s\n",
      " \n",
      " >> Exported X3D .cod file as: ./temp_processing\\2024-03-06_T_DW-S1-T0_FR_M2\\raw_data\\550nm\\550_Intensite_PDDN.cod\n",
      " >> PDDN Loading Model: C:\\Users\\romai\\Documents\\repositories\\processingMM\\src\\processingmm\\PDDN_model\\PDDN_model_550_Fresh_HB.pt -- ...\n",
      " [wrn] PDDN Model Summary NOT Available!\n",
      " >> PDDN Loading Model: C:\\Users\\romai\\Documents\\repositories\\processingMM\\src\\processingmm\\PDDN_model\\PDDN_model_550_Fresh_HB.pt -- Complete\n",
      "*** PDDN DENOISING FILTER *** \n",
      " >> PDDN Denoising: total time-points: 1000\n",
      " >> PDDN Denoising: start time-point: 1\n",
      " >> PDDN Denoising: final time-point: 0\n",
      " >> PDDN Denoising: recursive filtering enabled (2 x cascade): False\n",
      " >> MPI Denoising PDDN Performance: Elapsed time = 3.022 s\n",
      " \n",
      " >> Exported X3D .cod file as: ./temp_processing\\2024-03-06_T_PBS-S1-T0_FR_M2\\raw_data\\550nm\\550_Intensite_PDDN.cod\n"
     ]
    },
    {
     "name": "stderr",
     "output_type": "stream",
     "text": [
      "\r",
      " 18%|██████████████▌                                                                  | 18/100 [12:37<56:31, 41.36s/it]"
     ]
    },
    {
     "name": "stdout",
     "output_type": "stream",
     "text": [
      "E:\\Ardit\\nas\\PBS\\2024-05-08_T_PBS_S1-T1_FR_M2\n",
      "['annotation', 'histology', 'MMProcessing.txt', 'polarimetry', 'raw_data']\n",
      "E:\\Ardit\\nas\\PR\\2024-02-15_T_PR-S1-T2_FR_M2\n",
      "['annotation', 'histology', 'MMProcessing.txt', 'polarimetry', 'raw_data']\n",
      " >> PDDN Loading Model: C:\\Users\\romai\\Documents\\repositories\\processingMM\\src\\processingmm\\PDDN_model\\PDDN_model_550_Fresh_HB.pt -- ...\n",
      " [wrn] PDDN Model Summary NOT Available!\n",
      " >> PDDN Loading Model: C:\\Users\\romai\\Documents\\repositories\\processingMM\\src\\processingmm\\PDDN_model\\PDDN_model_550_Fresh_HB.pt -- Complete\n",
      "*** PDDN DENOISING FILTER *** \n",
      " >> PDDN Denoising: total time-points: 1000\n",
      " >> PDDN Denoising: start time-point: 1\n",
      " >> PDDN Denoising: final time-point: 0\n",
      " >> PDDN Denoising: recursive filtering enabled (2 x cascade): False\n",
      " >> MPI Denoising PDDN Performance: Elapsed time = 3.055 s\n",
      " \n",
      " >> Exported X3D .cod file as: ./temp_processing\\2024-02-15_T_PR-S1-T2_FR_M2\\raw_data\\550nm\\550_Intensite_PDDN.cod\n",
      " >> PDDN Loading Model: C:\\Users\\romai\\Documents\\repositories\\processingMM\\src\\processingmm\\PDDN_model\\PDDN_model_550_Fresh_HB.pt -- ...\n",
      " [wrn] PDDN Model Summary NOT Available!\n",
      " >> PDDN Loading Model: C:\\Users\\romai\\Documents\\repositories\\processingMM\\src\\processingmm\\PDDN_model\\PDDN_model_550_Fresh_HB.pt -- Complete\n",
      "*** PDDN DENOISING FILTER *** \n",
      " >> PDDN Denoising: total time-points: 1000\n",
      " >> PDDN Denoising: start time-point: 1\n",
      " >> PDDN Denoising: final time-point: 0\n",
      " >> PDDN Denoising: recursive filtering enabled (2 x cascade): False\n",
      " >> MPI Denoising PDDN Performance: Elapsed time = 3.243 s\n",
      " \n",
      " >> Exported X3D .cod file as: ./temp_processing\\2024-05-08_T_PBS_S1-T1_FR_M2\\raw_data\\550nm\\550_Intensite_PDDN.cod\n"
     ]
    },
    {
     "name": "stderr",
     "output_type": "stream",
     "text": [
      "\r",
      " 19%|███████████████▍                                                                 | 19/100 [13:16<54:46, 40.58s/it]"
     ]
    },
    {
     "name": "stdout",
     "output_type": "stream",
     "text": [
      "E:\\Ardit\\nas\\DW\\2024-03-07_T_DW-S1-T4_FR_M1\n",
      "['annotation', 'histology', 'MMProcessing.txt', 'polarimetry', 'raw_data']\n",
      "E:\\Ardit\\nas\\DW\\2024-05-08_T_DW_S1-T1_FR_M1\n",
      "['annotation', 'histology', 'MMProcessing.txt', 'polarimetry', 'raw_data']\n",
      " >> PDDN Loading Model: C:\\Users\\romai\\Documents\\repositories\\processingMM\\src\\processingmm\\PDDN_model\\PDDN_model_550_Fresh_HB.pt -- ...\n",
      " [wrn] PDDN Model Summary NOT Available!\n",
      " >> PDDN Loading Model: C:\\Users\\romai\\Documents\\repositories\\processingMM\\src\\processingmm\\PDDN_model\\PDDN_model_550_Fresh_HB.pt -- Complete\n",
      "*** PDDN DENOISING FILTER *** \n",
      " >> PDDN Denoising: total time-points: 1000\n",
      " >> PDDN Denoising: start time-point: 1\n",
      " >> PDDN Denoising: final time-point: 0\n",
      " >> PDDN Denoising: recursive filtering enabled (2 x cascade): False\n",
      " >> MPI Denoising PDDN Performance: Elapsed time = 2.880 s\n",
      " \n",
      " >> Exported X3D .cod file as: ./temp_processing\\2024-03-07_T_DW-S1-T4_FR_M1\\raw_data\\550nm\\550_Intensite_PDDN.cod\n",
      " >> PDDN Loading Model: C:\\Users\\romai\\Documents\\repositories\\processingMM\\src\\processingmm\\PDDN_model\\PDDN_model_550_Fresh_HB.pt -- ...\n",
      " [wrn] PDDN Model Summary NOT Available!\n",
      " >> PDDN Loading Model: C:\\Users\\romai\\Documents\\repositories\\processingMM\\src\\processingmm\\PDDN_model\\PDDN_model_550_Fresh_HB.pt -- Complete\n",
      "*** PDDN DENOISING FILTER *** \n",
      " >> PDDN Denoising: total time-points: 1000\n",
      " >> PDDN Denoising: start time-point: 1\n",
      " >> PDDN Denoising: final time-point: 0\n",
      " >> PDDN Denoising: recursive filtering enabled (2 x cascade): False\n",
      " >> MPI Denoising PDDN Performance: Elapsed time = 3.039 s\n",
      " \n",
      " >> Exported X3D .cod file as: ./temp_processing\\2024-05-08_T_DW_S1-T1_FR_M1\\raw_data\\550nm\\550_Intensite_PDDN.cod\n"
     ]
    },
    {
     "name": "stderr",
     "output_type": "stream",
     "text": [
      "\r",
      " 20%|████████████████▏                                                                | 20/100 [13:57<54:28, 40.86s/it]"
     ]
    },
    {
     "name": "stdout",
     "output_type": "stream",
     "text": [
      "E:\\Ardit\\nas\\PBS\\2024-05-08_T_PBS_S1-T5_FR_M2\n",
      "['annotation', 'histology', 'MMProcessing.txt', 'polarimetry', 'raw_data']\n",
      "E:\\Ardit\\nas\\PBS\\2024-05-01_T_PBS-S1-T4_FR_M1\n",
      "['annotation', 'histology', 'MMProcessing.txt', 'polarimetry', 'raw_data']\n",
      " >> PDDN Loading Model: C:\\Users\\romai\\Documents\\repositories\\processingMM\\src\\processingmm\\PDDN_model\\PDDN_model_550_Fresh_HB.pt -- ...\n",
      " [wrn] PDDN Model Summary NOT Available!\n",
      " >> PDDN Loading Model: C:\\Users\\romai\\Documents\\repositories\\processingMM\\src\\processingmm\\PDDN_model\\PDDN_model_550_Fresh_HB.pt -- Complete\n",
      "*** PDDN DENOISING FILTER *** \n",
      " >> PDDN Denoising: total time-points: 1000\n",
      " >> PDDN Denoising: start time-point: 1\n",
      " >> PDDN Denoising: final time-point: 0\n",
      " >> PDDN Denoising: recursive filtering enabled (2 x cascade): False\n",
      " >> MPI Denoising PDDN Performance: Elapsed time = 3.018 s\n",
      " \n",
      " >> Exported X3D .cod file as: ./temp_processing\\2024-05-01_T_PBS-S1-T4_FR_M1\\raw_data\\550nm\\550_Intensite_PDDN.cod\n",
      " >> PDDN Loading Model: C:\\Users\\romai\\Documents\\repositories\\processingMM\\src\\processingmm\\PDDN_model\\PDDN_model_550_Fresh_HB.pt -- ...\n",
      " [wrn] PDDN Model Summary NOT Available!\n",
      " >> PDDN Loading Model: C:\\Users\\romai\\Documents\\repositories\\processingMM\\src\\processingmm\\PDDN_model\\PDDN_model_550_Fresh_HB.pt -- Complete\n",
      "*** PDDN DENOISING FILTER *** \n",
      " >> PDDN Denoising: total time-points: 1000\n",
      " >> PDDN Denoising: start time-point: 1\n",
      " >> PDDN Denoising: final time-point: 0\n",
      " >> PDDN Denoising: recursive filtering enabled (2 x cascade): False\n",
      " >> MPI Denoising PDDN Performance: Elapsed time = 2.978 s\n",
      " \n",
      " >> Exported X3D .cod file as: ./temp_processing\\2024-05-08_T_PBS_S1-T5_FR_M2\\raw_data\\550nm\\550_Intensite_PDDN.cod\n"
     ]
    },
    {
     "name": "stderr",
     "output_type": "stream",
     "text": [
      "\r",
      " 21%|█████████████████                                                                | 21/100 [14:39<53:58, 40.99s/it]"
     ]
    },
    {
     "name": "stdout",
     "output_type": "stream",
     "text": [
      "E:\\Ardit\\nas\\DW\\2024-03-07_T_DW-S1-T4_FR_M3\n",
      "['annotation', 'histology', 'MMProcessing.txt', 'polarimetry', 'raw_data']\n",
      "E:\\Ardit\\nas\\DW\\2024-05-02_T_DW-S1-T4_FR_M1\n",
      "['annotation', 'histology', 'MMProcessing.txt', 'polarimetry', 'raw_data']\n",
      " >> PDDN Loading Model: C:\\Users\\romai\\Documents\\repositories\\processingMM\\src\\processingmm\\PDDN_model\\PDDN_model_550_Fresh_HB.pt -- ...\n",
      " [wrn] PDDN Model Summary NOT Available!\n",
      " >> PDDN Loading Model: C:\\Users\\romai\\Documents\\repositories\\processingMM\\src\\processingmm\\PDDN_model\\PDDN_model_550_Fresh_HB.pt -- Complete\n",
      "*** PDDN DENOISING FILTER *** \n",
      " >> PDDN Denoising: total time-points: 1000\n",
      " >> PDDN Denoising: start time-point: 1\n",
      " >> PDDN Denoising: final time-point: 0\n",
      " >> PDDN Denoising: recursive filtering enabled (2 x cascade): False\n",
      " >> MPI Denoising PDDN Performance: Elapsed time = 2.896 s\n",
      " \n",
      " >> Exported X3D .cod file as: ./temp_processing\\2024-03-07_T_DW-S1-T4_FR_M3\\raw_data\\550nm\\550_Intensite_PDDN.cod\n",
      " >> PDDN Loading Model: C:\\Users\\romai\\Documents\\repositories\\processingMM\\src\\processingmm\\PDDN_model\\PDDN_model_550_Fresh_HB.pt -- ...\n",
      " [wrn] PDDN Model Summary NOT Available!\n",
      " >> PDDN Loading Model: C:\\Users\\romai\\Documents\\repositories\\processingMM\\src\\processingmm\\PDDN_model\\PDDN_model_550_Fresh_HB.pt -- Complete\n",
      "*** PDDN DENOISING FILTER *** \n",
      " >> PDDN Denoising: total time-points: 1000\n",
      " >> PDDN Denoising: start time-point: 1\n",
      " >> PDDN Denoising: final time-point: 0\n",
      " >> PDDN Denoising: recursive filtering enabled (2 x cascade): False\n",
      " >> MPI Denoising PDDN Performance: Elapsed time = 3.098 s\n",
      " \n",
      " >> Exported X3D .cod file as: ./temp_processing\\2024-05-02_T_DW-S1-T4_FR_M1\\raw_data\\550nm\\550_Intensite_PDDN.cod\n"
     ]
    },
    {
     "name": "stderr",
     "output_type": "stream",
     "text": [
      "\r",
      " 22%|█████████████████▊                                                               | 22/100 [15:20<53:18, 41.01s/it]"
     ]
    },
    {
     "name": "stdout",
     "output_type": "stream",
     "text": [
      "E:\\Ardit\\nas\\PBS\\2024-03-06_T_PBS-S1-T8_FR_M1\n",
      "['annotation', 'histology', 'MMProcessing.txt', 'polarimetry', 'raw_data']\n",
      "E:\\Ardit\\nas\\PBS\\2024-03-07_T_PBS-S1-T2_FR_M2\n",
      "['annotation', 'histology', 'MMProcessing.txt', 'polarimetry', 'raw_data']\n",
      " >> PDDN Loading Model: C:\\Users\\romai\\Documents\\repositories\\processingMM\\src\\processingmm\\PDDN_model\\PDDN_model_550_Fresh_HB.pt -- ...\n",
      " [wrn] PDDN Model Summary NOT Available!\n",
      " >> PDDN Loading Model: C:\\Users\\romai\\Documents\\repositories\\processingMM\\src\\processingmm\\PDDN_model\\PDDN_model_550_Fresh_HB.pt -- Complete\n",
      "*** PDDN DENOISING FILTER *** \n",
      " >> PDDN Denoising: total time-points: 1000\n",
      " >> PDDN Denoising: start time-point: 1\n",
      " >> PDDN Denoising: final time-point: 0\n",
      " >> PDDN Denoising: recursive filtering enabled (2 x cascade): False\n",
      " >> MPI Denoising PDDN Performance: Elapsed time = 2.879 s\n",
      " \n",
      " >> Exported X3D .cod file as: ./temp_processing\\2024-03-06_T_PBS-S1-T8_FR_M1\\raw_data\\550nm\\550_Intensite_PDDN.cod\n",
      " >> PDDN Loading Model: C:\\Users\\romai\\Documents\\repositories\\processingMM\\src\\processingmm\\PDDN_model\\PDDN_model_550_Fresh_HB.pt -- ...\n",
      " [wrn] PDDN Model Summary NOT Available!\n",
      " >> PDDN Loading Model: C:\\Users\\romai\\Documents\\repositories\\processingMM\\src\\processingmm\\PDDN_model\\PDDN_model_550_Fresh_HB.pt -- Complete\n",
      "*** PDDN DENOISING FILTER *** \n",
      " >> PDDN Denoising: total time-points: 1000\n",
      " >> PDDN Denoising: start time-point: 1\n",
      " >> PDDN Denoising: final time-point: 0\n",
      " >> PDDN Denoising: recursive filtering enabled (2 x cascade): False\n",
      " >> MPI Denoising PDDN Performance: Elapsed time = 3.034 s\n",
      " \n",
      " >> Exported X3D .cod file as: ./temp_processing\\2024-03-07_T_PBS-S1-T2_FR_M2\\raw_data\\550nm\\550_Intensite_PDDN.cod\n"
     ]
    },
    {
     "name": "stderr",
     "output_type": "stream",
     "text": [
      "\r",
      " 23%|██████████████████▋                                                              | 23/100 [15:58<51:41, 40.28s/it]"
     ]
    },
    {
     "name": "stdout",
     "output_type": "stream",
     "text": [
      "E:\\Ardit\\nas\\PBS\\2024-05-01_T_PBS-S1-T6_FR_M1\n",
      "['annotation', 'histology', 'MMProcessing.txt', 'polarimetry', 'raw_data']\n",
      "E:\\Ardit\\nas\\DW\\2024-03-06_T_DW-S1-T4_FR_M1\n",
      "['annotation', 'histology', 'MMProcessing.txt', 'polarimetry', 'raw_data']\n",
      " >> PDDN Loading Model: C:\\Users\\romai\\Documents\\repositories\\processingMM\\src\\processingmm\\PDDN_model\\PDDN_model_550_Fresh_HB.pt -- ...\n",
      " [wrn] PDDN Model Summary NOT Available!\n",
      " >> PDDN Loading Model: C:\\Users\\romai\\Documents\\repositories\\processingMM\\src\\processingmm\\PDDN_model\\PDDN_model_550_Fresh_HB.pt -- Complete\n",
      "*** PDDN DENOISING FILTER *** \n",
      " >> PDDN Denoising: total time-points: 1000\n",
      " >> PDDN Denoising: start time-point: 1\n",
      " >> PDDN Denoising: final time-point: 0\n",
      " >> PDDN Denoising: recursive filtering enabled (2 x cascade): False\n",
      " >> MPI Denoising PDDN Performance: Elapsed time = 2.844 s\n",
      " \n",
      " >> Exported X3D .cod file as: ./temp_processing\\2024-03-06_T_DW-S1-T4_FR_M1\\raw_data\\550nm\\550_Intensite_PDDN.cod\n",
      " >> PDDN Loading Model: C:\\Users\\romai\\Documents\\repositories\\processingMM\\src\\processingmm\\PDDN_model\\PDDN_model_550_Fresh_HB.pt -- ...\n",
      " [wrn] PDDN Model Summary NOT Available!\n",
      " >> PDDN Loading Model: C:\\Users\\romai\\Documents\\repositories\\processingMM\\src\\processingmm\\PDDN_model\\PDDN_model_550_Fresh_HB.pt -- Complete\n",
      "*** PDDN DENOISING FILTER *** \n",
      " >> PDDN Denoising: total time-points: 1000\n",
      " >> PDDN Denoising: start time-point: 1\n",
      " >> PDDN Denoising: final time-point: 0\n",
      " >> PDDN Denoising: recursive filtering enabled (2 x cascade): False\n",
      " >> MPI Denoising PDDN Performance: Elapsed time = 2.967 s\n",
      " \n",
      " >> Exported X3D .cod file as: ./temp_processing\\2024-05-01_T_PBS-S1-T6_FR_M1\\raw_data\\550nm\\550_Intensite_PDDN.cod\n"
     ]
    },
    {
     "name": "stderr",
     "output_type": "stream",
     "text": [
      "\r",
      " 24%|███████████████████▍                                                             | 24/100 [16:40<51:36, 40.74s/it]"
     ]
    },
    {
     "name": "stdout",
     "output_type": "stream",
     "text": [
      "E:\\Ardit\\nas\\PBS\\2024-05-01_T_PBS-S1-T7_FR_M1\n",
      "['annotation', 'histology', 'MMProcessing.txt', 'polarimetry', 'raw_data']\n",
      "E:\\Ardit\\nas\\PBS\\2024-05-01_T_PBS-S1-T5_FR_M2\n",
      "['annotation', 'histology', 'MMProcessing.txt', 'polarimetry', 'raw_data']\n",
      " >> PDDN Loading Model: C:\\Users\\romai\\Documents\\repositories\\processingMM\\src\\processingmm\\PDDN_model\\PDDN_model_550_Fresh_HB.pt -- ...\n",
      " [wrn] PDDN Model Summary NOT Available!\n",
      " >> PDDN Loading Model: C:\\Users\\romai\\Documents\\repositories\\processingMM\\src\\processingmm\\PDDN_model\\PDDN_model_550_Fresh_HB.pt -- Complete\n",
      "*** PDDN DENOISING FILTER *** \n",
      " >> PDDN Denoising: total time-points: 1000\n",
      " >> PDDN Denoising: start time-point: 1\n",
      " >> PDDN Denoising: final time-point: 0\n",
      " >> PDDN Denoising: recursive filtering enabled (2 x cascade): False\n",
      " >> MPI Denoising PDDN Performance: Elapsed time = 2.892 s\n",
      " \n",
      " >> Exported X3D .cod file as: ./temp_processing\\2024-05-01_T_PBS-S1-T5_FR_M2\\raw_data\\550nm\\550_Intensite_PDDN.cod\n",
      " >> PDDN Loading Model: C:\\Users\\romai\\Documents\\repositories\\processingMM\\src\\processingmm\\PDDN_model\\PDDN_model_550_Fresh_HB.pt -- ...\n",
      " [wrn] PDDN Model Summary NOT Available!\n",
      " >> PDDN Loading Model: C:\\Users\\romai\\Documents\\repositories\\processingMM\\src\\processingmm\\PDDN_model\\PDDN_model_550_Fresh_HB.pt -- Complete\n",
      "*** PDDN DENOISING FILTER *** \n",
      " >> PDDN Denoising: total time-points: 1000\n",
      " >> PDDN Denoising: start time-point: 1\n",
      " >> PDDN Denoising: final time-point: 0\n",
      " >> PDDN Denoising: recursive filtering enabled (2 x cascade): False\n",
      " >> MPI Denoising PDDN Performance: Elapsed time = 2.980 s\n",
      " \n",
      " >> Exported X3D .cod file as: ./temp_processing\\2024-05-01_T_PBS-S1-T7_FR_M1\\raw_data\\550nm\\550_Intensite_PDDN.cod\n"
     ]
    },
    {
     "name": "stderr",
     "output_type": "stream",
     "text": [
      "\r",
      " 25%|████████████████████▎                                                            | 25/100 [17:23<51:41, 41.35s/it]"
     ]
    },
    {
     "name": "stdout",
     "output_type": "stream",
     "text": [
      "E:\\Ardit\\nas\\DW\\2024-03-07_T_DW-S1-T5_FR_M2\n",
      "['annotation', 'histology', 'MMProcessing.txt', 'polarimetry', 'raw_data']\n",
      "E:\\Ardit\\nas\\PR\\2024-03-06_T_PR-S1-T3_FR_M2\n",
      "['annotation', 'histology', 'MMProcessing.txt', 'polarimetry', 'raw_data']\n",
      " >> PDDN Loading Model: C:\\Users\\romai\\Documents\\repositories\\processingMM\\src\\processingmm\\PDDN_model\\PDDN_model_550_Fresh_HB.pt -- ...\n",
      " [wrn] PDDN Model Summary NOT Available!\n",
      " >> PDDN Loading Model: C:\\Users\\romai\\Documents\\repositories\\processingMM\\src\\processingmm\\PDDN_model\\PDDN_model_550_Fresh_HB.pt -- Complete\n",
      "*** PDDN DENOISING FILTER *** \n",
      " >> PDDN Denoising: total time-points: 1000\n",
      " >> PDDN Denoising: start time-point: 1\n",
      " >> PDDN Denoising: final time-point: 0\n",
      " >> PDDN Denoising: recursive filtering enabled (2 x cascade): False\n",
      " >> MPI Denoising PDDN Performance: Elapsed time = 2.902 s\n",
      " \n",
      " >> Exported X3D .cod file as: ./temp_processing\\2024-03-06_T_PR-S1-T3_FR_M2\\raw_data\\550nm\\550_Intensite_PDDN.cod\n",
      " >> PDDN Loading Model: C:\\Users\\romai\\Documents\\repositories\\processingMM\\src\\processingmm\\PDDN_model\\PDDN_model_550_Fresh_HB.pt -- ...\n",
      " [wrn] PDDN Model Summary NOT Available!\n",
      " >> PDDN Loading Model: C:\\Users\\romai\\Documents\\repositories\\processingMM\\src\\processingmm\\PDDN_model\\PDDN_model_550_Fresh_HB.pt -- Complete\n",
      "*** PDDN DENOISING FILTER *** \n",
      " >> PDDN Denoising: total time-points: 1000\n",
      " >> PDDN Denoising: start time-point: 1\n",
      " >> PDDN Denoising: final time-point: 0\n",
      " >> PDDN Denoising: recursive filtering enabled (2 x cascade): False\n",
      " >> MPI Denoising PDDN Performance: Elapsed time = 2.991 s\n",
      " \n",
      " >> Exported X3D .cod file as: ./temp_processing\\2024-03-07_T_DW-S1-T5_FR_M2\\raw_data\\550nm\\550_Intensite_PDDN.cod\n"
     ]
    },
    {
     "name": "stderr",
     "output_type": "stream",
     "text": [
      "\r",
      " 26%|█████████████████████                                                            | 26/100 [18:06<51:31, 41.77s/it]"
     ]
    },
    {
     "name": "stdout",
     "output_type": "stream",
     "text": [
      "E:\\Ardit\\nas\\PBS\\2024-05-01_T_PBS-S1-T1_FR_M2\n",
      "['annotation', 'histology', 'MMProcessing.txt', 'polarimetry', 'raw_data']\n",
      "E:\\Ardit\\nas\\PBS\\2024-05-01_T_PBS-S1-T5_FR_M4\n",
      "['annotation', 'histology', 'MMProcessing.txt', 'polarimetry', 'raw_data']\n",
      " >> PDDN Loading Model: C:\\Users\\romai\\Documents\\repositories\\processingMM\\src\\processingmm\\PDDN_model\\PDDN_model_550_Fresh_HB.pt -- ...\n",
      " [wrn] PDDN Model Summary NOT Available!\n",
      " >> PDDN Loading Model: C:\\Users\\romai\\Documents\\repositories\\processingMM\\src\\processingmm\\PDDN_model\\PDDN_model_550_Fresh_HB.pt -- Complete\n",
      "*** PDDN DENOISING FILTER *** \n",
      " >> PDDN Denoising: total time-points: 1000\n",
      " >> PDDN Denoising: start time-point: 1\n",
      " >> PDDN Denoising: final time-point: 0\n",
      " >> PDDN Denoising: recursive filtering enabled (2 x cascade): False\n",
      " >> MPI Denoising PDDN Performance: Elapsed time = 3.004 s\n",
      " \n",
      " >> Exported X3D .cod file as: ./temp_processing\\2024-05-01_T_PBS-S1-T1_FR_M2\\raw_data\\550nm\\550_Intensite_PDDN.cod\n",
      " >> PDDN Loading Model: C:\\Users\\romai\\Documents\\repositories\\processingMM\\src\\processingmm\\PDDN_model\\PDDN_model_550_Fresh_HB.pt -- ...\n",
      " [wrn] PDDN Model Summary NOT Available!\n",
      " >> PDDN Loading Model: C:\\Users\\romai\\Documents\\repositories\\processingMM\\src\\processingmm\\PDDN_model\\PDDN_model_550_Fresh_HB.pt -- Complete\n",
      "*** PDDN DENOISING FILTER *** \n",
      " >> PDDN Denoising: total time-points: 1000\n",
      " >> PDDN Denoising: start time-point: 1\n",
      " >> PDDN Denoising: final time-point: 0\n",
      " >> PDDN Denoising: recursive filtering enabled (2 x cascade): False\n",
      " >> MPI Denoising PDDN Performance: Elapsed time = 3.038 s\n",
      " \n",
      " >> Exported X3D .cod file as: ./temp_processing\\2024-05-01_T_PBS-S1-T5_FR_M4\\raw_data\\550nm\\550_Intensite_PDDN.cod\n"
     ]
    },
    {
     "name": "stderr",
     "output_type": "stream",
     "text": [
      "\r",
      " 27%|█████████████████████▊                                                           | 27/100 [18:46<50:27, 41.47s/it]"
     ]
    },
    {
     "name": "stdout",
     "output_type": "stream",
     "text": [
      "E:\\Ardit\\nas\\PR\\2024-06-13_T_PR-S1-T6_FR_M2\n",
      "['annotation', 'histology', 'MMProcessing.txt', 'polarimetry', 'raw_data']\n",
      "E:\\Ardit\\nas\\PR\\2024-06-13_T_PR-S1-T7_FR_M2\n",
      "['annotation', 'histology', 'MMProcessing.txt', 'polarimetry', 'raw_data']\n",
      " >> PDDN Loading Model: C:\\Users\\romai\\Documents\\repositories\\processingMM\\src\\processingmm\\PDDN_model\\PDDN_model_550_Fresh_HB.pt -- ...\n",
      " [wrn] PDDN Model Summary NOT Available!\n",
      " >> PDDN Loading Model: C:\\Users\\romai\\Documents\\repositories\\processingMM\\src\\processingmm\\PDDN_model\\PDDN_model_550_Fresh_HB.pt -- Complete\n",
      "*** PDDN DENOISING FILTER *** \n",
      " >> PDDN Denoising: total time-points: 1000\n",
      " >> PDDN Denoising: start time-point: 1\n",
      " >> PDDN Denoising: final time-point: 0\n",
      " >> PDDN Denoising: recursive filtering enabled (2 x cascade): False\n",
      " >> MPI Denoising PDDN Performance: Elapsed time = 2.870 s\n",
      " \n",
      " >> Exported X3D .cod file as: ./temp_processing\\2024-06-13_T_PR-S1-T6_FR_M2\\raw_data\\550nm\\550_Intensite_PDDN.cod\n",
      " >> PDDN Loading Model: C:\\Users\\romai\\Documents\\repositories\\processingMM\\src\\processingmm\\PDDN_model\\PDDN_model_550_Fresh_HB.pt -- ...\n",
      " [wrn] PDDN Model Summary NOT Available!\n",
      " >> PDDN Loading Model: C:\\Users\\romai\\Documents\\repositories\\processingMM\\src\\processingmm\\PDDN_model\\PDDN_model_550_Fresh_HB.pt -- Complete\n",
      "*** PDDN DENOISING FILTER *** \n",
      " >> PDDN Denoising: total time-points: 1000\n",
      " >> PDDN Denoising: start time-point: 1\n",
      " >> PDDN Denoising: final time-point: 0\n",
      " >> PDDN Denoising: recursive filtering enabled (2 x cascade): False\n",
      " >> MPI Denoising PDDN Performance: Elapsed time = 3.148 s\n",
      " \n",
      " >> Exported X3D .cod file as: ./temp_processing\\2024-06-13_T_PR-S1-T7_FR_M2\\raw_data\\550nm\\550_Intensite_PDDN.cod\n"
     ]
    },
    {
     "name": "stderr",
     "output_type": "stream",
     "text": [
      "\r",
      " 28%|██████████████████████▋                                                          | 28/100 [19:29<50:17, 41.90s/it]"
     ]
    },
    {
     "name": "stdout",
     "output_type": "stream",
     "text": [
      "E:\\Ardit\\nas\\DW\\2024-03-06_T_DW-S1-T7_FR_M1\n",
      "['._GM_1.tif', '._GM_2.tif', '._WM.tif', 'annotation', 'GM_1.tif', 'GM_2.tif', 'histology', 'MMProcessing.txt', 'polarimetry', 'raw_data', 'WM.tif']\n",
      "E:\\Ardit\\nas\\PR\\2024-02-15_T_PR-S1-T3_FR_M2\n",
      "['annotation', 'histology', 'MMProcessing.txt', 'polarimetry', 'raw_data']\n",
      " >> PDDN Loading Model: C:\\Users\\romai\\Documents\\repositories\\processingMM\\src\\processingmm\\PDDN_model\\PDDN_model_550_Fresh_HB.pt -- ...\n",
      " [wrn] PDDN Model Summary NOT Available!\n",
      " >> PDDN Loading Model: C:\\Users\\romai\\Documents\\repositories\\processingMM\\src\\processingmm\\PDDN_model\\PDDN_model_550_Fresh_HB.pt -- Complete\n",
      "*** PDDN DENOISING FILTER *** \n",
      " >> PDDN Denoising: total time-points: 1000\n",
      " >> PDDN Denoising: start time-point: 1\n",
      " >> PDDN Denoising: final time-point: 0\n",
      " >> PDDN Denoising: recursive filtering enabled (2 x cascade): False\n",
      " >> MPI Denoising PDDN Performance: Elapsed time = 2.886 s\n",
      " \n",
      " >> Exported X3D .cod file as: ./temp_processing\\2024-02-15_T_PR-S1-T3_FR_M2\\raw_data\\550nm\\550_Intensite_PDDN.cod\n",
      " >> PDDN Loading Model: C:\\Users\\romai\\Documents\\repositories\\processingMM\\src\\processingmm\\PDDN_model\\PDDN_model_550_Fresh_HB.pt -- ...\n",
      " [wrn] PDDN Model Summary NOT Available!\n",
      " >> PDDN Loading Model: C:\\Users\\romai\\Documents\\repositories\\processingMM\\src\\processingmm\\PDDN_model\\PDDN_model_550_Fresh_HB.pt -- Complete\n",
      "*** PDDN DENOISING FILTER *** \n",
      " >> PDDN Denoising: total time-points: 1000\n",
      " >> PDDN Denoising: start time-point: 1\n",
      " >> PDDN Denoising: final time-point: 0\n",
      " >> PDDN Denoising: recursive filtering enabled (2 x cascade): False\n",
      " >> MPI Denoising PDDN Performance: Elapsed time = 3.137 s\n",
      " \n",
      " >> Exported X3D .cod file as: ./temp_processing\\2024-03-06_T_DW-S1-T7_FR_M1\\raw_data\\550nm\\550_Intensite_PDDN.cod\n"
     ]
    },
    {
     "name": "stderr",
     "output_type": "stream",
     "text": [
      "\r",
      " 29%|███████████████████████▍                                                         | 29/100 [20:08<48:35, 41.06s/it]"
     ]
    },
    {
     "name": "stdout",
     "output_type": "stream",
     "text": [
      "E:\\Ardit\\nas\\PR\\2024-02-15_T_PR-S1-T1_FR_M2\n",
      "['annotation', 'histology', 'MMProcessing.txt', 'polarimetry', 'raw_data']\n",
      "E:\\Ardit\\nas\\PBS\\2024-05-01_T_PBS-S1-T7_FR_M3\n",
      "['annotation', 'histology', 'MMProcessing.txt', 'polarimetry', 'raw_data']\n",
      " >> PDDN Loading Model: C:\\Users\\romai\\Documents\\repositories\\processingMM\\src\\processingmm\\PDDN_model\\PDDN_model_550_Fresh_HB.pt -- ...\n",
      " [wrn] PDDN Model Summary NOT Available!\n",
      " >> PDDN Loading Model: C:\\Users\\romai\\Documents\\repositories\\processingMM\\src\\processingmm\\PDDN_model\\PDDN_model_550_Fresh_HB.pt -- Complete\n",
      "*** PDDN DENOISING FILTER *** \n",
      " >> PDDN Denoising: total time-points: 1000\n",
      " >> PDDN Denoising: start time-point: 1\n",
      " >> PDDN Denoising: final time-point: 0\n",
      " >> PDDN Denoising: recursive filtering enabled (2 x cascade): False\n",
      " >> MPI Denoising PDDN Performance: Elapsed time = 2.829 s\n",
      " \n",
      " >> Exported X3D .cod file as: ./temp_processing\\2024-02-15_T_PR-S1-T1_FR_M2\\raw_data\\550nm\\550_Intensite_PDDN.cod\n",
      " >> PDDN Loading Model: C:\\Users\\romai\\Documents\\repositories\\processingMM\\src\\processingmm\\PDDN_model\\PDDN_model_550_Fresh_HB.pt -- ...\n",
      " [wrn] PDDN Model Summary NOT Available!\n",
      " >> PDDN Loading Model: C:\\Users\\romai\\Documents\\repositories\\processingMM\\src\\processingmm\\PDDN_model\\PDDN_model_550_Fresh_HB.pt -- Complete\n",
      "*** PDDN DENOISING FILTER *** \n",
      " >> PDDN Denoising: total time-points: 1000\n",
      " >> PDDN Denoising: start time-point: 1\n",
      " >> PDDN Denoising: final time-point: 0\n",
      " >> PDDN Denoising: recursive filtering enabled (2 x cascade): False\n",
      " >> MPI Denoising PDDN Performance: Elapsed time = 3.168 s\n",
      " \n",
      " >> Exported X3D .cod file as: ./temp_processing\\2024-05-01_T_PBS-S1-T7_FR_M3\\raw_data\\550nm\\550_Intensite_PDDN.cod\n"
     ]
    },
    {
     "name": "stderr",
     "output_type": "stream",
     "text": [
      "\r",
      " 30%|████████████████████████▎                                                        | 30/100 [20:49<47:39, 40.85s/it]"
     ]
    },
    {
     "name": "stdout",
     "output_type": "stream",
     "text": [
      "E:\\Ardit\\nas\\PBS\\2024-03-06_T_PBS-S1-T3_FR_M2\n",
      "['annotation', 'histology', 'MMProcessing.txt', 'polarimetry', 'raw_data']\n",
      "E:\\Ardit\\nas\\DW\\2024-03-07_T_DW-S1-T0_FR_M1\n",
      "['annotation', 'histology', 'MMProcessing.txt', 'polarimetry', 'raw_data']\n",
      " >> PDDN Loading Model: C:\\Users\\romai\\Documents\\repositories\\processingMM\\src\\processingmm\\PDDN_model\\PDDN_model_550_Fresh_HB.pt -- ...\n",
      " [wrn] PDDN Model Summary NOT Available!\n",
      " >> PDDN Loading Model: C:\\Users\\romai\\Documents\\repositories\\processingMM\\src\\processingmm\\PDDN_model\\PDDN_model_550_Fresh_HB.pt -- Complete\n",
      "*** PDDN DENOISING FILTER *** \n",
      " >> PDDN Denoising: total time-points: 1000\n",
      " >> PDDN Denoising: start time-point: 1\n",
      " >> PDDN Denoising: final time-point: 0\n",
      " >> PDDN Denoising: recursive filtering enabled (2 x cascade): False\n",
      " >> MPI Denoising PDDN Performance: Elapsed time = 2.837 s\n",
      " \n",
      " >> Exported X3D .cod file as: ./temp_processing\\2024-03-06_T_PBS-S1-T3_FR_M2\\raw_data\\550nm\\550_Intensite_PDDN.cod\n",
      " >> PDDN Loading Model: C:\\Users\\romai\\Documents\\repositories\\processingMM\\src\\processingmm\\PDDN_model\\PDDN_model_550_Fresh_HB.pt -- ...\n",
      " [wrn] PDDN Model Summary NOT Available!\n",
      " >> PDDN Loading Model: C:\\Users\\romai\\Documents\\repositories\\processingMM\\src\\processingmm\\PDDN_model\\PDDN_model_550_Fresh_HB.pt -- Complete\n",
      "*** PDDN DENOISING FILTER *** \n",
      " >> PDDN Denoising: total time-points: 1000\n",
      " >> PDDN Denoising: start time-point: 1\n",
      " >> PDDN Denoising: final time-point: 0\n",
      " >> PDDN Denoising: recursive filtering enabled (2 x cascade): False\n",
      " >> MPI Denoising PDDN Performance: Elapsed time = 3.046 s\n",
      " \n",
      " >> Exported X3D .cod file as: ./temp_processing\\2024-03-07_T_DW-S1-T0_FR_M1\\raw_data\\550nm\\550_Intensite_PDDN.cod\n"
     ]
    },
    {
     "name": "stderr",
     "output_type": "stream",
     "text": [
      "\r",
      " 31%|█████████████████████████                                                        | 31/100 [21:28<46:19, 40.29s/it]"
     ]
    },
    {
     "name": "stdout",
     "output_type": "stream",
     "text": [
      "E:\\Ardit\\nas\\PBS\\2024-03-06_T_PBS-S1-T7_FR_M1\n",
      "['annotation', 'histology', 'MMProcessing.txt', 'polarimetry', 'raw_data']\n",
      "E:\\Ardit\\nas\\PBS\\2024-05-01_T_PBS-S1-T4_FR_M4\n",
      "['annotation', 'histology', 'MMProcessing.txt', 'polarimetry', 'raw_data']\n",
      " >> PDDN Loading Model: C:\\Users\\romai\\Documents\\repositories\\processingMM\\src\\processingmm\\PDDN_model\\PDDN_model_550_Fresh_HB.pt -- ...\n",
      " [wrn] PDDN Model Summary NOT Available!\n",
      " >> PDDN Loading Model: C:\\Users\\romai\\Documents\\repositories\\processingMM\\src\\processingmm\\PDDN_model\\PDDN_model_550_Fresh_HB.pt -- Complete\n",
      "*** PDDN DENOISING FILTER *** \n",
      " >> PDDN Denoising: total time-points: 1000\n",
      " >> PDDN Denoising: start time-point: 1\n",
      " >> PDDN Denoising: final time-point: 0\n",
      " >> PDDN Denoising: recursive filtering enabled (2 x cascade): False\n",
      " >> MPI Denoising PDDN Performance: Elapsed time = 2.814 s\n",
      " \n",
      " >> Exported X3D .cod file as: ./temp_processing\\2024-03-06_T_PBS-S1-T7_FR_M1\\raw_data\\550nm\\550_Intensite_PDDN.cod\n",
      " >> PDDN Loading Model: C:\\Users\\romai\\Documents\\repositories\\processingMM\\src\\processingmm\\PDDN_model\\PDDN_model_550_Fresh_HB.pt -- ...\n",
      " [wrn] PDDN Model Summary NOT Available!\n",
      " >> PDDN Loading Model: C:\\Users\\romai\\Documents\\repositories\\processingMM\\src\\processingmm\\PDDN_model\\PDDN_model_550_Fresh_HB.pt -- Complete\n",
      "*** PDDN DENOISING FILTER *** \n",
      " >> PDDN Denoising: total time-points: 1000\n",
      " >> PDDN Denoising: start time-point: 1\n",
      " >> PDDN Denoising: final time-point: 0\n",
      " >> PDDN Denoising: recursive filtering enabled (2 x cascade): False\n",
      " >> MPI Denoising PDDN Performance: Elapsed time = 3.024 s\n",
      " \n",
      " >> Exported X3D .cod file as: ./temp_processing\\2024-05-01_T_PBS-S1-T4_FR_M4\\raw_data\\550nm\\550_Intensite_PDDN.cod\n"
     ]
    },
    {
     "name": "stderr",
     "output_type": "stream",
     "text": [
      "\r",
      " 32%|█████████████████████████▉                                                       | 32/100 [22:09<45:52, 40.48s/it]"
     ]
    },
    {
     "name": "stdout",
     "output_type": "stream",
     "text": [
      "E:\\Ardit\\nas\\PR\\2024-06-13_T_PR-S1-T4_FR_M2\n",
      "['annotation', 'histology', 'MMProcessing.txt', 'polarimetry', 'raw_data']\n",
      "E:\\Ardit\\nas\\DW\\2024-05-08_T_DW_S1-T0_FR_M1\n",
      "['annotation', 'histology', 'MMProcessing.txt', 'polarimetry', 'raw_data']\n",
      " >> PDDN Loading Model: C:\\Users\\romai\\Documents\\repositories\\processingMM\\src\\processingmm\\PDDN_model\\PDDN_model_550_Fresh_HB.pt -- ...\n",
      " [wrn] PDDN Model Summary NOT Available!\n",
      " >> PDDN Loading Model: C:\\Users\\romai\\Documents\\repositories\\processingMM\\src\\processingmm\\PDDN_model\\PDDN_model_550_Fresh_HB.pt -- Complete\n",
      "*** PDDN DENOISING FILTER *** \n",
      " >> PDDN Denoising: total time-points: 1000\n",
      " >> PDDN Denoising: start time-point: 1\n",
      " >> PDDN Denoising: final time-point: 0\n",
      " >> PDDN Denoising: recursive filtering enabled (2 x cascade): False\n",
      " >> MPI Denoising PDDN Performance: Elapsed time = 2.793 s\n",
      " \n",
      " >> Exported X3D .cod file as: ./temp_processing\\2024-05-08_T_DW_S1-T0_FR_M1\\raw_data\\550nm\\550_Intensite_PDDN.cod\n",
      " >> PDDN Loading Model: C:\\Users\\romai\\Documents\\repositories\\processingMM\\src\\processingmm\\PDDN_model\\PDDN_model_550_Fresh_HB.pt -- ...\n",
      " [wrn] PDDN Model Summary NOT Available!\n",
      " >> PDDN Loading Model: C:\\Users\\romai\\Documents\\repositories\\processingMM\\src\\processingmm\\PDDN_model\\PDDN_model_550_Fresh_HB.pt -- Complete\n",
      "*** PDDN DENOISING FILTER *** \n",
      " >> PDDN Denoising: total time-points: 1000\n",
      " >> PDDN Denoising: start time-point: 1\n",
      " >> PDDN Denoising: final time-point: 0\n",
      " >> PDDN Denoising: recursive filtering enabled (2 x cascade): False\n",
      " >> MPI Denoising PDDN Performance: Elapsed time = 2.894 s\n",
      " \n",
      " >> Exported X3D .cod file as: ./temp_processing\\2024-06-13_T_PR-S1-T4_FR_M2\\raw_data\\550nm\\550_Intensite_PDDN.cod\n"
     ]
    },
    {
     "name": "stderr",
     "output_type": "stream",
     "text": [
      "\r",
      " 33%|██████████████████████████▋                                                      | 33/100 [22:51<45:58, 41.17s/it]"
     ]
    },
    {
     "name": "stdout",
     "output_type": "stream",
     "text": [
      "E:\\Ardit\\nas\\DW\\2024-05-02_T_DW-S1-T2_FR_M1\n",
      "['annotation', 'histology', 'MMProcessing.txt', 'polarimetry', 'raw_data']\n",
      "E:\\Ardit\\nas\\PR\\2024-06-13_T_PR-S1-T6_FR_M1\n",
      "['annotation', 'histology', 'MMProcessing.txt', 'polarimetry', 'raw_data']\n",
      " >> PDDN Loading Model: C:\\Users\\romai\\Documents\\repositories\\processingMM\\src\\processingmm\\PDDN_model\\PDDN_model_550_Fresh_HB.pt -- ...\n",
      " [wrn] PDDN Model Summary NOT Available!\n",
      " >> PDDN Loading Model: C:\\Users\\romai\\Documents\\repositories\\processingMM\\src\\processingmm\\PDDN_model\\PDDN_model_550_Fresh_HB.pt -- Complete\n",
      "*** PDDN DENOISING FILTER *** \n",
      " >> PDDN Denoising: total time-points: 1000\n",
      " >> PDDN Denoising: start time-point: 1\n",
      " >> PDDN Denoising: final time-point: 0\n",
      " >> PDDN Denoising: recursive filtering enabled (2 x cascade): False\n",
      " >> MPI Denoising PDDN Performance: Elapsed time = 2.871 s\n",
      " \n",
      " >> Exported X3D .cod file as: ./temp_processing\\2024-05-02_T_DW-S1-T2_FR_M1\\raw_data\\550nm\\550_Intensite_PDDN.cod\n",
      " >> PDDN Loading Model: C:\\Users\\romai\\Documents\\repositories\\processingMM\\src\\processingmm\\PDDN_model\\PDDN_model_550_Fresh_HB.pt -- ...\n",
      " [wrn] PDDN Model Summary NOT Available!\n",
      " >> PDDN Loading Model: C:\\Users\\romai\\Documents\\repositories\\processingMM\\src\\processingmm\\PDDN_model\\PDDN_model_550_Fresh_HB.pt -- Complete\n",
      "*** PDDN DENOISING FILTER *** \n",
      " >> PDDN Denoising: total time-points: 1000\n",
      " >> PDDN Denoising: start time-point: 1\n",
      " >> PDDN Denoising: final time-point: 0\n",
      " >> PDDN Denoising: recursive filtering enabled (2 x cascade): False\n",
      " >> MPI Denoising PDDN Performance: Elapsed time = 3.000 s\n",
      " \n",
      " >> Exported X3D .cod file as: ./temp_processing\\2024-06-13_T_PR-S1-T6_FR_M1\\raw_data\\550nm\\550_Intensite_PDDN.cod\n"
     ]
    },
    {
     "name": "stderr",
     "output_type": "stream",
     "text": [
      "\r",
      " 34%|███████████████████████████▌                                                     | 34/100 [23:35<46:01, 41.84s/it]"
     ]
    },
    {
     "name": "stdout",
     "output_type": "stream",
     "text": [
      "E:\\Ardit\\nas\\PBS\\2024-05-01_T_PBS-S1-T3_FR_M4\n",
      "['annotation', 'histology', 'MMProcessing.txt', 'polarimetry', 'raw_data']\n",
      "E:\\Ardit\\nas\\PR\\2024-06-13_T_PR-S1-T4_FR_M3\n",
      "['annotation', 'histology', 'MMProcessing.txt', 'polarimetry', 'raw_data']\n",
      " >> PDDN Loading Model: C:\\Users\\romai\\Documents\\repositories\\processingMM\\src\\processingmm\\PDDN_model\\PDDN_model_550_Fresh_HB.pt -- ...\n",
      " [wrn] PDDN Model Summary NOT Available!\n",
      " >> PDDN Loading Model: C:\\Users\\romai\\Documents\\repositories\\processingMM\\src\\processingmm\\PDDN_model\\PDDN_model_550_Fresh_HB.pt -- Complete\n",
      "*** PDDN DENOISING FILTER *** \n",
      " >> PDDN Denoising: total time-points: 1000\n",
      " >> PDDN Denoising: start time-point: 1\n",
      " >> PDDN Denoising: final time-point: 0\n",
      " >> PDDN Denoising: recursive filtering enabled (2 x cascade): False\n",
      " >> MPI Denoising PDDN Performance: Elapsed time = 2.923 s\n",
      " \n",
      " >> Exported X3D .cod file as: ./temp_processing\\2024-05-01_T_PBS-S1-T3_FR_M4\\raw_data\\550nm\\550_Intensite_PDDN.cod\n",
      " >> PDDN Loading Model: C:\\Users\\romai\\Documents\\repositories\\processingMM\\src\\processingmm\\PDDN_model\\PDDN_model_550_Fresh_HB.pt -- ...\n",
      " [wrn] PDDN Model Summary NOT Available!\n",
      " >> PDDN Loading Model: C:\\Users\\romai\\Documents\\repositories\\processingMM\\src\\processingmm\\PDDN_model\\PDDN_model_550_Fresh_HB.pt -- Complete\n",
      "*** PDDN DENOISING FILTER *** \n",
      " >> PDDN Denoising: total time-points: 1000\n",
      " >> PDDN Denoising: start time-point: 1\n",
      " >> PDDN Denoising: final time-point: 0\n",
      " >> PDDN Denoising: recursive filtering enabled (2 x cascade): False\n",
      " >> MPI Denoising PDDN Performance: Elapsed time = 3.168 s\n",
      " \n",
      " >> Exported X3D .cod file as: ./temp_processing\\2024-06-13_T_PR-S1-T4_FR_M3\\raw_data\\550nm\\550_Intensite_PDDN.cod\n"
     ]
    },
    {
     "name": "stderr",
     "output_type": "stream",
     "text": [
      "\r",
      " 35%|████████████████████████████▎                                                    | 35/100 [24:17<45:21, 41.87s/it]"
     ]
    },
    {
     "name": "stdout",
     "output_type": "stream",
     "text": [
      "E:\\Ardit\\nas\\DW\\2024-05-02_T_DW-S1-T2_FR_M3\n",
      "['annotation', 'histology', 'MMProcessing.txt', 'polarimetry', 'raw_data']\n",
      "E:\\Ardit\\nas\\PBS\\2024-05-01_T_PBS-S1-T7_FR_M2\n",
      "['annotation', 'histology', 'MMProcessing.txt', 'polarimetry', 'raw_data']\n",
      " >> PDDN Loading Model: C:\\Users\\romai\\Documents\\repositories\\processingMM\\src\\processingmm\\PDDN_model\\PDDN_model_550_Fresh_HB.pt -- ...\n",
      " [wrn] PDDN Model Summary NOT Available!\n",
      " >> PDDN Loading Model: C:\\Users\\romai\\Documents\\repositories\\processingMM\\src\\processingmm\\PDDN_model\\PDDN_model_550_Fresh_HB.pt -- Complete\n",
      "*** PDDN DENOISING FILTER *** \n",
      " >> PDDN Denoising: total time-points: 1000\n",
      " >> PDDN Denoising: start time-point: 1\n",
      " >> PDDN Denoising: final time-point: 0\n",
      " >> PDDN Denoising: recursive filtering enabled (2 x cascade): False\n",
      " >> MPI Denoising PDDN Performance: Elapsed time = 2.803 s\n",
      " \n",
      " >> Exported X3D .cod file as: ./temp_processing\\2024-05-01_T_PBS-S1-T7_FR_M2\\raw_data\\550nm\\550_Intensite_PDDN.cod\n",
      " >> PDDN Loading Model: C:\\Users\\romai\\Documents\\repositories\\processingMM\\src\\processingmm\\PDDN_model\\PDDN_model_550_Fresh_HB.pt -- ...\n",
      " [wrn] PDDN Model Summary NOT Available!\n",
      " >> PDDN Loading Model: C:\\Users\\romai\\Documents\\repositories\\processingMM\\src\\processingmm\\PDDN_model\\PDDN_model_550_Fresh_HB.pt -- Complete\n",
      "*** PDDN DENOISING FILTER *** \n",
      " >> PDDN Denoising: total time-points: 1000\n",
      " >> PDDN Denoising: start time-point: 1\n",
      " >> PDDN Denoising: final time-point: 0\n",
      " >> PDDN Denoising: recursive filtering enabled (2 x cascade): False\n",
      " >> MPI Denoising PDDN Performance: Elapsed time = 3.055 s\n",
      " \n",
      " >> Exported X3D .cod file as: ./temp_processing\\2024-05-02_T_DW-S1-T2_FR_M3\\raw_data\\550nm\\550_Intensite_PDDN.cod\n"
     ]
    },
    {
     "name": "stderr",
     "output_type": "stream",
     "text": [
      "\r",
      " 36%|█████████████████████████████▏                                                   | 36/100 [24:58<44:34, 41.78s/it]"
     ]
    },
    {
     "name": "stdout",
     "output_type": "stream",
     "text": [
      "E:\\Ardit\\nas\\DW\\2024-05-02_T_DW-S1-T0_FR_M3\n",
      "['annotation', 'histology', 'MMProcessing.txt', 'polarimetry', 'raw_data']\n",
      "E:\\Ardit\\nas\\PR\\2024-06-13_T_PR-S1-T5_FR_M3\n",
      "['annotation', 'histology', 'MMProcessing.txt', 'polarimetry', 'raw_data']\n",
      " >> PDDN Loading Model: C:\\Users\\romai\\Documents\\repositories\\processingMM\\src\\processingmm\\PDDN_model\\PDDN_model_550_Fresh_HB.pt -- ...\n",
      " [wrn] PDDN Model Summary NOT Available!\n",
      " >> PDDN Loading Model: C:\\Users\\romai\\Documents\\repositories\\processingMM\\src\\processingmm\\PDDN_model\\PDDN_model_550_Fresh_HB.pt -- Complete\n",
      "*** PDDN DENOISING FILTER *** \n",
      " >> PDDN Denoising: total time-points: 1000\n",
      " >> PDDN Denoising: start time-point: 1\n",
      " >> PDDN Denoising: final time-point: 0\n",
      " >> PDDN Denoising: recursive filtering enabled (2 x cascade): False\n",
      " >> MPI Denoising PDDN Performance: Elapsed time = 2.876 s\n",
      " \n",
      " >> Exported X3D .cod file as: ./temp_processing\\2024-05-02_T_DW-S1-T0_FR_M3\\raw_data\\550nm\\550_Intensite_PDDN.cod\n",
      " >> PDDN Loading Model: C:\\Users\\romai\\Documents\\repositories\\processingMM\\src\\processingmm\\PDDN_model\\PDDN_model_550_Fresh_HB.pt -- ...\n",
      " [wrn] PDDN Model Summary NOT Available!\n",
      " >> PDDN Loading Model: C:\\Users\\romai\\Documents\\repositories\\processingMM\\src\\processingmm\\PDDN_model\\PDDN_model_550_Fresh_HB.pt -- Complete\n",
      "*** PDDN DENOISING FILTER *** \n",
      " >> PDDN Denoising: total time-points: 1000\n",
      " >> PDDN Denoising: start time-point: 1\n",
      " >> PDDN Denoising: final time-point: 0\n",
      " >> PDDN Denoising: recursive filtering enabled (2 x cascade): False\n",
      " >> MPI Denoising PDDN Performance: Elapsed time = 3.046 s\n",
      " \n",
      " >> Exported X3D .cod file as: ./temp_processing\\2024-06-13_T_PR-S1-T5_FR_M3\\raw_data\\550nm\\550_Intensite_PDDN.cod\n"
     ]
    },
    {
     "name": "stderr",
     "output_type": "stream",
     "text": [
      "\r",
      " 37%|█████████████████████████████▉                                                   | 37/100 [25:39<43:25, 41.35s/it]"
     ]
    },
    {
     "name": "stdout",
     "output_type": "stream",
     "text": [
      "E:\\Ardit\\nas\\PBS\\2024-05-08_T_PBS_S1-T0_FR_M2\n",
      "['annotation', 'histology', 'MMProcessing.txt', 'polarimetry', 'raw_data']\n",
      "E:\\Ardit\\nas\\PBS\\2024-05-01_T_PBS-S1-T3_FR_M1\n",
      "['annotation', 'histology', 'MMProcessing.txt', 'polarimetry', 'raw_data']\n",
      " >> PDDN Loading Model: C:\\Users\\romai\\Documents\\repositories\\processingMM\\src\\processingmm\\PDDN_model\\PDDN_model_550_Fresh_HB.pt -- ...\n",
      " [wrn] PDDN Model Summary NOT Available!\n",
      " >> PDDN Loading Model: C:\\Users\\romai\\Documents\\repositories\\processingMM\\src\\processingmm\\PDDN_model\\PDDN_model_550_Fresh_HB.pt -- Complete\n",
      "*** PDDN DENOISING FILTER *** \n",
      " >> PDDN Denoising: total time-points: 1000\n",
      " >> PDDN Denoising: start time-point: 1\n",
      " >> PDDN Denoising: final time-point: 0\n",
      " >> PDDN Denoising: recursive filtering enabled (2 x cascade): False\n",
      " >> MPI Denoising PDDN Performance: Elapsed time = 2.836 s\n",
      " \n",
      " >> Exported X3D .cod file as: ./temp_processing\\2024-05-01_T_PBS-S1-T3_FR_M1\\raw_data\\550nm\\550_Intensite_PDDN.cod\n",
      " >> PDDN Loading Model: C:\\Users\\romai\\Documents\\repositories\\processingMM\\src\\processingmm\\PDDN_model\\PDDN_model_550_Fresh_HB.pt -- ...\n",
      " [wrn] PDDN Model Summary NOT Available!\n",
      " >> PDDN Loading Model: C:\\Users\\romai\\Documents\\repositories\\processingMM\\src\\processingmm\\PDDN_model\\PDDN_model_550_Fresh_HB.pt -- Complete\n",
      "*** PDDN DENOISING FILTER *** \n",
      " >> PDDN Denoising: total time-points: 1000\n",
      " >> PDDN Denoising: start time-point: 1\n",
      " >> PDDN Denoising: final time-point: 0\n",
      " >> PDDN Denoising: recursive filtering enabled (2 x cascade): False\n",
      " >> MPI Denoising PDDN Performance: Elapsed time = 3.064 s\n",
      " \n",
      " >> Exported X3D .cod file as: ./temp_processing\\2024-05-08_T_PBS_S1-T0_FR_M2\\raw_data\\550nm\\550_Intensite_PDDN.cod\n"
     ]
    },
    {
     "name": "stderr",
     "output_type": "stream",
     "text": [
      "\r",
      " 38%|██████████████████████████████▊                                                  | 38/100 [26:21<43:05, 41.70s/it]"
     ]
    },
    {
     "name": "stdout",
     "output_type": "stream",
     "text": [
      "E:\\Ardit\\nas\\PBS\\2024-03-07_T_PBS-S1-T2_FR_M1\n",
      "['annotation', 'histology', 'MMProcessing.txt', 'polarimetry', 'raw_data']\n",
      "E:\\Ardit\\nas\\DW\\2024-05-02_T_DW-S1-T1_FR_M2\n",
      "['annotation', 'histology', 'MMProcessing.txt', 'polarimetry', 'raw_data']\n",
      " >> PDDN Loading Model: C:\\Users\\romai\\Documents\\repositories\\processingMM\\src\\processingmm\\PDDN_model\\PDDN_model_550_Fresh_HB.pt -- ...\n",
      " [wrn] PDDN Model Summary NOT Available!\n",
      " >> PDDN Loading Model: C:\\Users\\romai\\Documents\\repositories\\processingMM\\src\\processingmm\\PDDN_model\\PDDN_model_550_Fresh_HB.pt -- Complete\n",
      "*** PDDN DENOISING FILTER *** \n",
      " >> PDDN Denoising: total time-points: 1000\n",
      " >> PDDN Denoising: start time-point: 1\n",
      " >> PDDN Denoising: final time-point: 0\n",
      " >> PDDN Denoising: recursive filtering enabled (2 x cascade): False\n",
      " >> MPI Denoising PDDN Performance: Elapsed time = 2.819 s\n",
      " \n",
      " >> Exported X3D .cod file as: ./temp_processing\\2024-03-07_T_PBS-S1-T2_FR_M1\\raw_data\\550nm\\550_Intensite_PDDN.cod\n",
      " >> PDDN Loading Model: C:\\Users\\romai\\Documents\\repositories\\processingMM\\src\\processingmm\\PDDN_model\\PDDN_model_550_Fresh_HB.pt -- ...\n",
      " [wrn] PDDN Model Summary NOT Available!\n",
      " >> PDDN Loading Model: C:\\Users\\romai\\Documents\\repositories\\processingMM\\src\\processingmm\\PDDN_model\\PDDN_model_550_Fresh_HB.pt -- Complete\n",
      "*** PDDN DENOISING FILTER *** \n",
      " >> PDDN Denoising: total time-points: 1000\n",
      " >> PDDN Denoising: start time-point: 1\n",
      " >> PDDN Denoising: final time-point: 0\n",
      " >> PDDN Denoising: recursive filtering enabled (2 x cascade): False\n",
      " >> MPI Denoising PDDN Performance: Elapsed time = 2.973 s\n",
      " \n",
      " >> Exported X3D .cod file as: ./temp_processing\\2024-05-02_T_DW-S1-T1_FR_M2\\raw_data\\550nm\\550_Intensite_PDDN.cod\n"
     ]
    },
    {
     "name": "stderr",
     "output_type": "stream",
     "text": [
      "\r",
      " 39%|███████████████████████████████▌                                                 | 39/100 [27:03<42:20, 41.65s/it]"
     ]
    },
    {
     "name": "stdout",
     "output_type": "stream",
     "text": [
      "E:\\Ardit\\nas\\PBS\\2024-03-07_T_PBS-S1-T3_FR_M1\n",
      "['annotation', 'histology', 'MMProcessing.txt', 'polarimetry', 'raw_data']\n",
      "E:\\Ardit\\nas\\DW\\2024-05-02_T_DW-S1-T6_FR_M1\n",
      "['annotation', 'histology', 'MMProcessing.txt', 'polarimetry', 'raw_data']\n",
      " >> PDDN Loading Model: C:\\Users\\romai\\Documents\\repositories\\processingMM\\src\\processingmm\\PDDN_model\\PDDN_model_550_Fresh_HB.pt -- ...\n",
      " [wrn] PDDN Model Summary NOT Available!\n",
      " >> PDDN Loading Model: C:\\Users\\romai\\Documents\\repositories\\processingMM\\src\\processingmm\\PDDN_model\\PDDN_model_550_Fresh_HB.pt -- Complete\n",
      "*** PDDN DENOISING FILTER *** \n",
      " >> PDDN Denoising: total time-points: 1000\n",
      " >> PDDN Denoising: start time-point: 1\n",
      " >> PDDN Denoising: final time-point: 0\n",
      " >> PDDN Denoising: recursive filtering enabled (2 x cascade): False\n",
      " >> MPI Denoising PDDN Performance: Elapsed time = 2.855 s\n",
      " \n",
      " >> Exported X3D .cod file as: ./temp_processing\\2024-03-07_T_PBS-S1-T3_FR_M1\\raw_data\\550nm\\550_Intensite_PDDN.cod\n",
      " >> PDDN Loading Model: C:\\Users\\romai\\Documents\\repositories\\processingMM\\src\\processingmm\\PDDN_model\\PDDN_model_550_Fresh_HB.pt -- ...\n",
      " [wrn] PDDN Model Summary NOT Available!\n",
      " >> PDDN Loading Model: C:\\Users\\romai\\Documents\\repositories\\processingMM\\src\\processingmm\\PDDN_model\\PDDN_model_550_Fresh_HB.pt -- Complete\n",
      "*** PDDN DENOISING FILTER *** \n",
      " >> PDDN Denoising: total time-points: 1000\n",
      " >> PDDN Denoising: start time-point: 1\n",
      " >> PDDN Denoising: final time-point: 0\n",
      " >> PDDN Denoising: recursive filtering enabled (2 x cascade): False\n",
      " >> MPI Denoising PDDN Performance: Elapsed time = 3.013 s\n",
      " \n",
      " >> Exported X3D .cod file as: ./temp_processing\\2024-05-02_T_DW-S1-T6_FR_M1\\raw_data\\550nm\\550_Intensite_PDDN.cod\n"
     ]
    },
    {
     "name": "stderr",
     "output_type": "stream",
     "text": [
      "\r",
      " 40%|████████████████████████████████▍                                                | 40/100 [27:44<41:35, 41.60s/it]"
     ]
    },
    {
     "name": "stdout",
     "output_type": "stream",
     "text": [
      "E:\\Ardit\\nas\\PR\\2024-06-12_T_PR-S1-T2_FR_M3\n",
      "['annotation', 'histology', 'MMProcessing.txt', 'polarimetry', 'raw_data']\n",
      "E:\\Ardit\\nas\\PR\\2024-06-12_T_PR-S1-T1_FR_M1\n",
      "['annotation', 'histology', 'MMProcessing.txt', 'polarimetry', 'raw_data']\n",
      " >> PDDN Loading Model: C:\\Users\\romai\\Documents\\repositories\\processingMM\\src\\processingmm\\PDDN_model\\PDDN_model_550_Fresh_HB.pt -- ...\n",
      " [wrn] PDDN Model Summary NOT Available!\n",
      " >> PDDN Loading Model: C:\\Users\\romai\\Documents\\repositories\\processingMM\\src\\processingmm\\PDDN_model\\PDDN_model_550_Fresh_HB.pt -- Complete\n",
      "*** PDDN DENOISING FILTER *** \n",
      " >> PDDN Denoising: total time-points: 1000\n",
      " >> PDDN Denoising: start time-point: 1\n",
      " >> PDDN Denoising: final time-point: 0\n",
      " >> PDDN Denoising: recursive filtering enabled (2 x cascade): False\n",
      " >> MPI Denoising PDDN Performance: Elapsed time = 2.946 s\n",
      " \n",
      " >> Exported X3D .cod file as: ./temp_processing\\2024-06-12_T_PR-S1-T1_FR_M1\\raw_data\\550nm\\550_Intensite_PDDN.cod\n",
      " >> PDDN Loading Model: C:\\Users\\romai\\Documents\\repositories\\processingMM\\src\\processingmm\\PDDN_model\\PDDN_model_550_Fresh_HB.pt -- ...\n",
      " [wrn] PDDN Model Summary NOT Available!\n",
      " >> PDDN Loading Model: C:\\Users\\romai\\Documents\\repositories\\processingMM\\src\\processingmm\\PDDN_model\\PDDN_model_550_Fresh_HB.pt -- Complete\n",
      "*** PDDN DENOISING FILTER *** \n",
      " >> PDDN Denoising: total time-points: 1000\n",
      " >> PDDN Denoising: start time-point: 1\n",
      " >> PDDN Denoising: final time-point: 0\n",
      " >> PDDN Denoising: recursive filtering enabled (2 x cascade): False\n",
      " >> MPI Denoising PDDN Performance: Elapsed time = 3.068 s\n",
      " \n",
      " >> Exported X3D .cod file as: ./temp_processing\\2024-06-12_T_PR-S1-T2_FR_M3\\raw_data\\550nm\\550_Intensite_PDDN.cod\n"
     ]
    },
    {
     "name": "stderr",
     "output_type": "stream",
     "text": [
      "\r",
      " 41%|█████████████████████████████████▏                                               | 41/100 [28:28<41:25, 42.14s/it]"
     ]
    },
    {
     "name": "stdout",
     "output_type": "stream",
     "text": [
      "E:\\Ardit\\nas\\DW\\2024-03-06_T_DW-S1-T3_FR_M2\n",
      "['annotation', 'histology', 'MMProcessing.txt', 'polarimetry', 'raw_data']\n",
      "E:\\Ardit\\nas\\PR\\2024-06-12_T_PR-S1-T1_FR_M3\n",
      "['annotation', 'histology', 'MMProcessing.txt', 'polarimetry', 'raw_data']\n",
      " >> PDDN Loading Model: C:\\Users\\romai\\Documents\\repositories\\processingMM\\src\\processingmm\\PDDN_model\\PDDN_model_550_Fresh_HB.pt -- ...\n",
      " [wrn] PDDN Model Summary NOT Available!\n",
      " >> PDDN Loading Model: C:\\Users\\romai\\Documents\\repositories\\processingMM\\src\\processingmm\\PDDN_model\\PDDN_model_550_Fresh_HB.pt -- Complete\n",
      "*** PDDN DENOISING FILTER *** \n",
      " >> PDDN Denoising: total time-points: 1000\n",
      " >> PDDN Denoising: start time-point: 1\n",
      " >> PDDN Denoising: final time-point: 0\n",
      " >> PDDN Denoising: recursive filtering enabled (2 x cascade): False\n",
      " >> MPI Denoising PDDN Performance: Elapsed time = 2.853 s\n",
      " \n",
      " >> Exported X3D .cod file as: ./temp_processing\\2024-03-06_T_DW-S1-T3_FR_M2\\raw_data\\550nm\\550_Intensite_PDDN.cod\n",
      " >> PDDN Loading Model: C:\\Users\\romai\\Documents\\repositories\\processingMM\\src\\processingmm\\PDDN_model\\PDDN_model_550_Fresh_HB.pt -- ...\n",
      " [wrn] PDDN Model Summary NOT Available!\n",
      " >> PDDN Loading Model: C:\\Users\\romai\\Documents\\repositories\\processingMM\\src\\processingmm\\PDDN_model\\PDDN_model_550_Fresh_HB.pt -- Complete\n",
      "*** PDDN DENOISING FILTER *** \n",
      " >> PDDN Denoising: total time-points: 1000\n",
      " >> PDDN Denoising: start time-point: 1\n",
      " >> PDDN Denoising: final time-point: 0\n",
      " >> PDDN Denoising: recursive filtering enabled (2 x cascade): False\n",
      " >> MPI Denoising PDDN Performance: Elapsed time = 3.114 s\n",
      " \n",
      " >> Exported X3D .cod file as: ./temp_processing\\2024-06-12_T_PR-S1-T1_FR_M3\\raw_data\\550nm\\550_Intensite_PDDN.cod\n"
     ]
    },
    {
     "name": "stderr",
     "output_type": "stream",
     "text": [
      "\r",
      " 42%|██████████████████████████████████                                               | 42/100 [29:08<40:21, 41.75s/it]"
     ]
    },
    {
     "name": "stdout",
     "output_type": "stream",
     "text": [
      "E:\\Ardit\\nas\\PBS\\2024-03-07_T_PBS-S1-T0_FR_M1\n",
      "['annotation', 'histology', 'MMProcessing.txt', 'polarimetry', 'raw_data']\n",
      "E:\\Ardit\\nas\\DW\\2024-05-02_T_DW-S1-T5_FR_M1\n",
      "['annotation', 'histology', 'MMProcessing.txt', 'polarimetry', 'raw_data']\n",
      " >> PDDN Loading Model: C:\\Users\\romai\\Documents\\repositories\\processingMM\\src\\processingmm\\PDDN_model\\PDDN_model_550_Fresh_HB.pt -- ...\n",
      " [wrn] PDDN Model Summary NOT Available!\n",
      " >> PDDN Loading Model: C:\\Users\\romai\\Documents\\repositories\\processingMM\\src\\processingmm\\PDDN_model\\PDDN_model_550_Fresh_HB.pt -- Complete\n",
      "*** PDDN DENOISING FILTER *** \n",
      " >> PDDN Denoising: total time-points: 1000\n",
      " >> PDDN Denoising: start time-point: 1\n",
      " >> PDDN Denoising: final time-point: 0\n",
      " >> PDDN Denoising: recursive filtering enabled (2 x cascade): False\n",
      " >> MPI Denoising PDDN Performance: Elapsed time = 2.817 s\n",
      " \n",
      " >> Exported X3D .cod file as: ./temp_processing\\2024-03-07_T_PBS-S1-T0_FR_M1\\raw_data\\550nm\\550_Intensite_PDDN.cod\n",
      " >> PDDN Loading Model: C:\\Users\\romai\\Documents\\repositories\\processingMM\\src\\processingmm\\PDDN_model\\PDDN_model_550_Fresh_HB.pt -- ...\n",
      " [wrn] PDDN Model Summary NOT Available!\n",
      " >> PDDN Loading Model: C:\\Users\\romai\\Documents\\repositories\\processingMM\\src\\processingmm\\PDDN_model\\PDDN_model_550_Fresh_HB.pt -- Complete\n",
      "*** PDDN DENOISING FILTER *** \n",
      " >> PDDN Denoising: total time-points: 1000\n",
      " >> PDDN Denoising: start time-point: 1\n",
      " >> PDDN Denoising: final time-point: 0\n",
      " >> PDDN Denoising: recursive filtering enabled (2 x cascade): False\n",
      " >> MPI Denoising PDDN Performance: Elapsed time = 3.062 s\n",
      " \n",
      " >> Exported X3D .cod file as: ./temp_processing\\2024-05-02_T_DW-S1-T5_FR_M1\\raw_data\\550nm\\550_Intensite_PDDN.cod\n"
     ]
    },
    {
     "name": "stderr",
     "output_type": "stream",
     "text": [
      "\r",
      " 43%|██████████████████████████████████▊                                              | 43/100 [29:49<39:21, 41.43s/it]"
     ]
    },
    {
     "name": "stdout",
     "output_type": "stream",
     "text": [
      "E:\\Ardit\\nas\\PR\\2024-03-06_T_PR-S1-T8_FR_M2\n",
      "['annotation', 'histology', 'MMProcessing.txt', 'polarimetry', 'raw_data']\n",
      "E:\\Ardit\\nas\\PR\\2024-06-12_T_PR-S1-T7_FR_M3\n",
      "['annotation', 'histology', 'MMProcessing.txt', 'polarimetry', 'raw_data']\n",
      " >> PDDN Loading Model: C:\\Users\\romai\\Documents\\repositories\\processingMM\\src\\processingmm\\PDDN_model\\PDDN_model_550_Fresh_HB.pt -- ...\n",
      " [wrn] PDDN Model Summary NOT Available!\n",
      " >> PDDN Loading Model: C:\\Users\\romai\\Documents\\repositories\\processingMM\\src\\processingmm\\PDDN_model\\PDDN_model_550_Fresh_HB.pt -- Complete\n",
      "*** PDDN DENOISING FILTER *** \n",
      " >> PDDN Denoising: total time-points: 1000\n",
      " >> PDDN Denoising: start time-point: 1\n",
      " >> PDDN Denoising: final time-point: 0\n",
      " >> PDDN Denoising: recursive filtering enabled (2 x cascade): False\n",
      " >> MPI Denoising PDDN Performance: Elapsed time = 2.948 s\n",
      " \n",
      " >> Exported X3D .cod file as: ./temp_processing\\2024-03-06_T_PR-S1-T8_FR_M2\\raw_data\\550nm\\550_Intensite_PDDN.cod\n",
      " >> PDDN Loading Model: C:\\Users\\romai\\Documents\\repositories\\processingMM\\src\\processingmm\\PDDN_model\\PDDN_model_550_Fresh_HB.pt -- ...\n",
      " [wrn] PDDN Model Summary NOT Available!\n",
      " >> PDDN Loading Model: C:\\Users\\romai\\Documents\\repositories\\processingMM\\src\\processingmm\\PDDN_model\\PDDN_model_550_Fresh_HB.pt -- Complete\n",
      "*** PDDN DENOISING FILTER *** \n",
      " >> PDDN Denoising: total time-points: 1000\n",
      " >> PDDN Denoising: start time-point: 1\n",
      " >> PDDN Denoising: final time-point: 0\n",
      " >> PDDN Denoising: recursive filtering enabled (2 x cascade): False\n",
      " >> MPI Denoising PDDN Performance: Elapsed time = 2.964 s\n",
      " \n",
      " >> Exported X3D .cod file as: ./temp_processing\\2024-06-12_T_PR-S1-T7_FR_M3\\raw_data\\550nm\\550_Intensite_PDDN.cod\n"
     ]
    },
    {
     "name": "stderr",
     "output_type": "stream",
     "text": [
      "\r",
      " 44%|███████████████████████████████████▋                                             | 44/100 [30:31<38:39, 41.42s/it]"
     ]
    },
    {
     "name": "stdout",
     "output_type": "stream",
     "text": [
      "E:\\Ardit\\nas\\DW\\2024-05-02_T_DW-S1-T2_FR_M2\n",
      "['annotation', 'histology', 'MMProcessing.txt', 'polarimetry', 'raw_data']\n",
      "E:\\Ardit\\nas\\DW\\2024-05-02_T_DW-S1-T5_FR_M4\n",
      "['annotation', 'histology', 'MMProcessing.txt', 'polarimetry', 'raw_data']\n",
      " >> PDDN Loading Model: C:\\Users\\romai\\Documents\\repositories\\processingMM\\src\\processingmm\\PDDN_model\\PDDN_model_550_Fresh_HB.pt -- ...\n",
      " [wrn] PDDN Model Summary NOT Available!\n",
      " >> PDDN Loading Model: C:\\Users\\romai\\Documents\\repositories\\processingMM\\src\\processingmm\\PDDN_model\\PDDN_model_550_Fresh_HB.pt -- Complete\n",
      "*** PDDN DENOISING FILTER *** \n",
      " >> PDDN Denoising: total time-points: 1000\n",
      " >> PDDN Denoising: start time-point: 1\n",
      " >> PDDN Denoising: final time-point: 0\n",
      " >> PDDN Denoising: recursive filtering enabled (2 x cascade): False\n",
      " >> MPI Denoising PDDN Performance: Elapsed time = 2.852 s\n",
      " \n",
      " >> Exported X3D .cod file as: ./temp_processing\\2024-05-02_T_DW-S1-T2_FR_M2\\raw_data\\550nm\\550_Intensite_PDDN.cod\n",
      " >> PDDN Loading Model: C:\\Users\\romai\\Documents\\repositories\\processingMM\\src\\processingmm\\PDDN_model\\PDDN_model_550_Fresh_HB.pt -- ...\n",
      " [wrn] PDDN Model Summary NOT Available!\n",
      " >> PDDN Loading Model: C:\\Users\\romai\\Documents\\repositories\\processingMM\\src\\processingmm\\PDDN_model\\PDDN_model_550_Fresh_HB.pt -- Complete\n",
      "*** PDDN DENOISING FILTER *** \n",
      " >> PDDN Denoising: total time-points: 1000\n",
      " >> PDDN Denoising: start time-point: 1\n",
      " >> PDDN Denoising: final time-point: 0\n",
      " >> PDDN Denoising: recursive filtering enabled (2 x cascade): False\n",
      " >> MPI Denoising PDDN Performance: Elapsed time = 3.071 s\n",
      " \n",
      " >> Exported X3D .cod file as: ./temp_processing\\2024-05-02_T_DW-S1-T5_FR_M4\\raw_data\\550nm\\550_Intensite_PDDN.cod\n"
     ]
    },
    {
     "name": "stderr",
     "output_type": "stream",
     "text": [
      "\r",
      " 45%|████████████████████████████████████▍                                            | 45/100 [31:12<37:51, 41.30s/it]"
     ]
    },
    {
     "name": "stdout",
     "output_type": "stream",
     "text": [
      "E:\\Ardit\\nas\\DW\\2024-03-07_T_DW-S1-T3_FR_M3\n",
      "['annotation', 'histology', 'MMProcessing.txt', 'polarimetry', 'raw_data']\n",
      "E:\\Ardit\\nas\\DW\\2024-03-07_T_DW-S1-T3_FR_M1\n",
      "['annotation', 'histology', 'MMProcessing.txt', 'polarimetry', 'raw_data']\n",
      " >> PDDN Loading Model: C:\\Users\\romai\\Documents\\repositories\\processingMM\\src\\processingmm\\PDDN_model\\PDDN_model_550_Fresh_HB.pt -- ...\n",
      " [wrn] PDDN Model Summary NOT Available!\n",
      " >> PDDN Loading Model: C:\\Users\\romai\\Documents\\repositories\\processingMM\\src\\processingmm\\PDDN_model\\PDDN_model_550_Fresh_HB.pt -- Complete\n",
      "*** PDDN DENOISING FILTER *** \n",
      " >> PDDN Denoising: total time-points: 1000\n",
      " >> PDDN Denoising: start time-point: 1\n",
      " >> PDDN Denoising: final time-point: 0\n",
      " >> PDDN Denoising: recursive filtering enabled (2 x cascade): False\n",
      " >> MPI Denoising PDDN Performance: Elapsed time = 2.900 s\n",
      " \n",
      " >> Exported X3D .cod file as: ./temp_processing\\2024-03-07_T_DW-S1-T3_FR_M1\\raw_data\\550nm\\550_Intensite_PDDN.cod\n",
      " >> PDDN Loading Model: C:\\Users\\romai\\Documents\\repositories\\processingMM\\src\\processingmm\\PDDN_model\\PDDN_model_550_Fresh_HB.pt -- ...\n",
      " [wrn] PDDN Model Summary NOT Available!\n",
      " >> PDDN Loading Model: C:\\Users\\romai\\Documents\\repositories\\processingMM\\src\\processingmm\\PDDN_model\\PDDN_model_550_Fresh_HB.pt -- Complete\n",
      "*** PDDN DENOISING FILTER *** \n",
      " >> PDDN Denoising: total time-points: 1000\n",
      " >> PDDN Denoising: start time-point: 1\n",
      " >> PDDN Denoising: final time-point: 0\n",
      " >> PDDN Denoising: recursive filtering enabled (2 x cascade): False\n",
      " >> MPI Denoising PDDN Performance: Elapsed time = 3.097 s\n",
      " \n",
      " >> Exported X3D .cod file as: ./temp_processing\\2024-03-07_T_DW-S1-T3_FR_M3\\raw_data\\550nm\\550_Intensite_PDDN.cod\n"
     ]
    },
    {
     "name": "stderr",
     "output_type": "stream",
     "text": [
      "\r",
      " 46%|█████████████████████████████████████▎                                           | 46/100 [31:53<37:10, 41.31s/it]"
     ]
    },
    {
     "name": "stdout",
     "output_type": "stream",
     "text": [
      "E:\\Ardit\\nas\\DW\\2024-05-02_T_DW-S1-T7_FR_M1\n",
      "['annotation', 'histology', 'MMProcessing.txt', 'polarimetry', 'raw_data']\n",
      "E:\\Ardit\\nas\\DW\\2024-05-02_T_DW-S1-T2_FR_M4\n",
      "['annotation', 'histology', 'MMProcessing.txt', 'polarimetry', 'raw_data']\n",
      " >> PDDN Loading Model: C:\\Users\\romai\\Documents\\repositories\\processingMM\\src\\processingmm\\PDDN_model\\PDDN_model_550_Fresh_HB.pt -- ...\n",
      " [wrn] PDDN Model Summary NOT Available!\n",
      " >> PDDN Loading Model: C:\\Users\\romai\\Documents\\repositories\\processingMM\\src\\processingmm\\PDDN_model\\PDDN_model_550_Fresh_HB.pt -- Complete\n",
      "*** PDDN DENOISING FILTER *** \n",
      " >> PDDN Denoising: total time-points: 1000\n",
      " >> PDDN Denoising: start time-point: 1\n",
      " >> PDDN Denoising: final time-point: 0\n",
      " >> PDDN Denoising: recursive filtering enabled (2 x cascade): False\n",
      " >> MPI Denoising PDDN Performance: Elapsed time = 2.884 s\n",
      " \n",
      " >> Exported X3D .cod file as: ./temp_processing\\2024-05-02_T_DW-S1-T2_FR_M4\\raw_data\\550nm\\550_Intensite_PDDN.cod\n",
      " >> PDDN Loading Model: C:\\Users\\romai\\Documents\\repositories\\processingMM\\src\\processingmm\\PDDN_model\\PDDN_model_550_Fresh_HB.pt -- ...\n",
      " [wrn] PDDN Model Summary NOT Available!\n",
      " >> PDDN Loading Model: C:\\Users\\romai\\Documents\\repositories\\processingMM\\src\\processingmm\\PDDN_model\\PDDN_model_550_Fresh_HB.pt -- Complete\n",
      "*** PDDN DENOISING FILTER *** \n",
      " >> PDDN Denoising: total time-points: 1000\n",
      " >> PDDN Denoising: start time-point: 1\n",
      " >> PDDN Denoising: final time-point: 0\n",
      " >> PDDN Denoising: recursive filtering enabled (2 x cascade): False\n",
      " >> MPI Denoising PDDN Performance: Elapsed time = 3.032 s\n",
      " \n",
      " >> Exported X3D .cod file as: ./temp_processing\\2024-05-02_T_DW-S1-T7_FR_M1\\raw_data\\550nm\\550_Intensite_PDDN.cod\n"
     ]
    },
    {
     "name": "stderr",
     "output_type": "stream",
     "text": [
      "\r",
      " 47%|██████████████████████████████████████                                           | 47/100 [32:36<36:50, 41.71s/it]"
     ]
    },
    {
     "name": "stdout",
     "output_type": "stream",
     "text": [
      "E:\\Ardit\\nas\\DW\\2024-05-02_T_DW-S1-T6_FR_M4\n",
      "['annotation', 'histology', 'MMProcessing.txt', 'polarimetry', 'raw_data']\n",
      "E:\\Ardit\\nas\\PBS\\2024-03-06_T_PBS-S1-T5_FR_M1\n",
      "['annotation', 'histology', 'MMProcessing.txt', 'polarimetry', 'raw_data']\n",
      " >> PDDN Loading Model: C:\\Users\\romai\\Documents\\repositories\\processingMM\\src\\processingmm\\PDDN_model\\PDDN_model_550_Fresh_HB.pt -- ...\n",
      " [wrn] PDDN Model Summary NOT Available!\n",
      " >> PDDN Loading Model: C:\\Users\\romai\\Documents\\repositories\\processingMM\\src\\processingmm\\PDDN_model\\PDDN_model_550_Fresh_HB.pt -- Complete\n",
      "*** PDDN DENOISING FILTER *** \n",
      " >> PDDN Denoising: total time-points: 1000\n",
      " >> PDDN Denoising: start time-point: 1\n",
      " >> PDDN Denoising: final time-point: 0\n",
      " >> PDDN Denoising: recursive filtering enabled (2 x cascade): False\n",
      " >> MPI Denoising PDDN Performance: Elapsed time = 2.728 s\n",
      " \n",
      " >> Exported X3D .cod file as: ./temp_processing\\2024-03-06_T_PBS-S1-T5_FR_M1\\raw_data\\550nm\\550_Intensite_PDDN.cod\n",
      " >> PDDN Loading Model: C:\\Users\\romai\\Documents\\repositories\\processingMM\\src\\processingmm\\PDDN_model\\PDDN_model_550_Fresh_HB.pt -- ...\n",
      " [wrn] PDDN Model Summary NOT Available!\n",
      " >> PDDN Loading Model: C:\\Users\\romai\\Documents\\repositories\\processingMM\\src\\processingmm\\PDDN_model\\PDDN_model_550_Fresh_HB.pt -- Complete\n",
      "*** PDDN DENOISING FILTER *** \n",
      " >> PDDN Denoising: total time-points: 1000\n",
      " >> PDDN Denoising: start time-point: 1\n",
      " >> PDDN Denoising: final time-point: 0\n",
      " >> PDDN Denoising: recursive filtering enabled (2 x cascade): False\n",
      " >> MPI Denoising PDDN Performance: Elapsed time = 3.093 s\n",
      " \n",
      " >> Exported X3D .cod file as: ./temp_processing\\2024-05-02_T_DW-S1-T6_FR_M4\\raw_data\\550nm\\550_Intensite_PDDN.cod\n"
     ]
    },
    {
     "name": "stderr",
     "output_type": "stream",
     "text": [
      "\r",
      " 48%|██████████████████████████████████████▉                                          | 48/100 [33:16<35:50, 41.36s/it]"
     ]
    },
    {
     "name": "stdout",
     "output_type": "stream",
     "text": [
      "E:\\Ardit\\nas\\DW\\2024-03-06_T_DW-S1-T6_FR_M2\n",
      "['annotation', 'histology', 'MMProcessing.txt', 'polarimetry', 'raw_data']\n",
      "E:\\Ardit\\nas\\PR\\2024-02-15_T_PR-S1-T0_FR_M2\n",
      "['annotation', 'histology', 'MMProcessing.txt', 'polarimetry', 'raw_data']\n",
      " >> PDDN Loading Model: C:\\Users\\romai\\Documents\\repositories\\processingMM\\src\\processingmm\\PDDN_model\\PDDN_model_550_Fresh_HB.pt -- ...\n",
      " [wrn] PDDN Model Summary NOT Available!\n",
      " >> PDDN Loading Model: C:\\Users\\romai\\Documents\\repositories\\processingMM\\src\\processingmm\\PDDN_model\\PDDN_model_550_Fresh_HB.pt -- Complete\n",
      "*** PDDN DENOISING FILTER *** \n",
      " >> PDDN Denoising: total time-points: 1000\n",
      " >> PDDN Denoising: start time-point: 1\n",
      " >> PDDN Denoising: final time-point: 0\n",
      " >> PDDN Denoising: recursive filtering enabled (2 x cascade): False\n",
      " >> MPI Denoising PDDN Performance: Elapsed time = 2.845 s\n",
      " \n",
      " >> Exported X3D .cod file as: ./temp_processing\\2024-02-15_T_PR-S1-T0_FR_M2\\raw_data\\550nm\\550_Intensite_PDDN.cod\n",
      " >> PDDN Loading Model: C:\\Users\\romai\\Documents\\repositories\\processingMM\\src\\processingmm\\PDDN_model\\PDDN_model_550_Fresh_HB.pt -- ...\n",
      " [wrn] PDDN Model Summary NOT Available!\n",
      " >> PDDN Loading Model: C:\\Users\\romai\\Documents\\repositories\\processingMM\\src\\processingmm\\PDDN_model\\PDDN_model_550_Fresh_HB.pt -- Complete\n",
      "*** PDDN DENOISING FILTER *** \n",
      " >> PDDN Denoising: total time-points: 1000\n",
      " >> PDDN Denoising: start time-point: 1\n",
      " >> PDDN Denoising: final time-point: 0\n",
      " >> PDDN Denoising: recursive filtering enabled (2 x cascade): False\n",
      " >> MPI Denoising PDDN Performance: Elapsed time = 3.034 s\n",
      " \n",
      " >> Exported X3D .cod file as: ./temp_processing\\2024-03-06_T_DW-S1-T6_FR_M2\\raw_data\\550nm\\550_Intensite_PDDN.cod\n"
     ]
    },
    {
     "name": "stderr",
     "output_type": "stream",
     "text": [
      "\r",
      " 49%|███████████████████████████████████████▋                                         | 49/100 [34:01<36:09, 42.54s/it]"
     ]
    },
    {
     "name": "stdout",
     "output_type": "stream",
     "text": [
      "E:\\Ardit\\nas\\PR\\2024-03-06_T_PR-S1-T4_FR_M1\n",
      "['annotation', 'histology', 'MMProcessing.txt', 'polarimetry', 'raw_data']\n",
      "E:\\Ardit\\nas\\PR\\2024-06-13_T_PR-S1-T7_FR_M3\n",
      "['annotation', 'histology', 'MMProcessing.txt', 'polarimetry', 'raw_data']\n",
      " >> PDDN Loading Model: C:\\Users\\romai\\Documents\\repositories\\processingMM\\src\\processingmm\\PDDN_model\\PDDN_model_550_Fresh_HB.pt -- ...\n",
      " [wrn] PDDN Model Summary NOT Available!\n",
      " >> PDDN Loading Model: C:\\Users\\romai\\Documents\\repositories\\processingMM\\src\\processingmm\\PDDN_model\\PDDN_model_550_Fresh_HB.pt -- Complete\n",
      "*** PDDN DENOISING FILTER *** \n",
      " >> PDDN Denoising: total time-points: 1000\n",
      " >> PDDN Denoising: start time-point: 1\n",
      " >> PDDN Denoising: final time-point: 0\n",
      " >> PDDN Denoising: recursive filtering enabled (2 x cascade): False\n",
      " >> MPI Denoising PDDN Performance: Elapsed time = 2.827 s\n",
      " \n",
      " >> Exported X3D .cod file as: ./temp_processing\\2024-03-06_T_PR-S1-T4_FR_M1\\raw_data\\550nm\\550_Intensite_PDDN.cod\n",
      " >> PDDN Loading Model: C:\\Users\\romai\\Documents\\repositories\\processingMM\\src\\processingmm\\PDDN_model\\PDDN_model_550_Fresh_HB.pt -- ...\n",
      " [wrn] PDDN Model Summary NOT Available!\n",
      " >> PDDN Loading Model: C:\\Users\\romai\\Documents\\repositories\\processingMM\\src\\processingmm\\PDDN_model\\PDDN_model_550_Fresh_HB.pt -- Complete\n",
      "*** PDDN DENOISING FILTER *** \n",
      " >> PDDN Denoising: total time-points: 1000\n",
      " >> PDDN Denoising: start time-point: 1\n",
      " >> PDDN Denoising: final time-point: 0\n",
      " >> PDDN Denoising: recursive filtering enabled (2 x cascade): False\n",
      " >> MPI Denoising PDDN Performance: Elapsed time = 2.971 s\n",
      " \n",
      " >> Exported X3D .cod file as: ./temp_processing\\2024-06-13_T_PR-S1-T7_FR_M3\\raw_data\\550nm\\550_Intensite_PDDN.cod\n"
     ]
    },
    {
     "name": "stderr",
     "output_type": "stream",
     "text": [
      "\r",
      " 50%|████████████████████████████████████████▌                                        | 50/100 [34:38<33:56, 40.73s/it]"
     ]
    },
    {
     "name": "stdout",
     "output_type": "stream",
     "text": [
      "E:\\Ardit\\nas\\PBS\\2024-05-01_T_PBS-S1-T3_FR_M3\n",
      "['annotation', 'histology', 'MMProcessing.txt', 'polarimetry', 'raw_data']\n",
      "E:\\Ardit\\nas\\PR\\2024-06-13_T_PR-S1-T0_FR_M1\n",
      "['annotation', 'histology', 'MMProcessing.txt', 'polarimetry', 'raw_data']\n",
      " >> PDDN Loading Model: C:\\Users\\romai\\Documents\\repositories\\processingMM\\src\\processingmm\\PDDN_model\\PDDN_model_550_Fresh_HB.pt -- ...\n",
      " [wrn] PDDN Model Summary NOT Available!\n",
      " >> PDDN Loading Model: C:\\Users\\romai\\Documents\\repositories\\processingMM\\src\\processingmm\\PDDN_model\\PDDN_model_550_Fresh_HB.pt -- Complete\n",
      "*** PDDN DENOISING FILTER *** \n",
      " >> PDDN Denoising: total time-points: 1000\n",
      " >> PDDN Denoising: start time-point: 1\n",
      " >> PDDN Denoising: final time-point: 0\n",
      " >> PDDN Denoising: recursive filtering enabled (2 x cascade): False\n",
      " >> MPI Denoising PDDN Performance: Elapsed time = 2.752 s\n",
      " \n",
      " >> Exported X3D .cod file as: ./temp_processing\\2024-05-01_T_PBS-S1-T3_FR_M3\\raw_data\\550nm\\550_Intensite_PDDN.cod\n",
      " >> PDDN Loading Model: C:\\Users\\romai\\Documents\\repositories\\processingMM\\src\\processingmm\\PDDN_model\\PDDN_model_550_Fresh_HB.pt -- ...\n",
      " [wrn] PDDN Model Summary NOT Available!\n",
      " >> PDDN Loading Model: C:\\Users\\romai\\Documents\\repositories\\processingMM\\src\\processingmm\\PDDN_model\\PDDN_model_550_Fresh_HB.pt -- Complete\n",
      "*** PDDN DENOISING FILTER *** \n",
      " >> PDDN Denoising: total time-points: 1000\n",
      " >> PDDN Denoising: start time-point: 1\n",
      " >> PDDN Denoising: final time-point: 0\n",
      " >> PDDN Denoising: recursive filtering enabled (2 x cascade): False\n",
      " >> MPI Denoising PDDN Performance: Elapsed time = 2.852 s\n",
      " \n",
      " >> Exported X3D .cod file as: ./temp_processing\\2024-06-13_T_PR-S1-T0_FR_M1\\raw_data\\550nm\\550_Intensite_PDDN.cod\n"
     ]
    },
    {
     "name": "stderr",
     "output_type": "stream",
     "text": [
      "\r",
      " 51%|█████████████████████████████████████████▎                                       | 51/100 [35:16<32:38, 39.97s/it]"
     ]
    },
    {
     "name": "stdout",
     "output_type": "stream",
     "text": [
      "E:\\Ardit\\nas\\PR\\2024-06-12_T_PR-S1-T2_FR_M1\n",
      "['annotation', 'histology', 'MMProcessing.txt', 'polarimetry', 'raw_data']\n",
      "E:\\Ardit\\nas\\PR\\2024-06-12_T_PR-S1-T4_FR_M1\n",
      "['annotation', 'histology', 'MMProcessing.txt', 'polarimetry', 'raw_data']\n",
      " >> PDDN Loading Model: C:\\Users\\romai\\Documents\\repositories\\processingMM\\src\\processingmm\\PDDN_model\\PDDN_model_550_Fresh_HB.pt -- ...\n",
      " [wrn] PDDN Model Summary NOT Available!\n",
      " >> PDDN Loading Model: C:\\Users\\romai\\Documents\\repositories\\processingMM\\src\\processingmm\\PDDN_model\\PDDN_model_550_Fresh_HB.pt -- Complete\n",
      "*** PDDN DENOISING FILTER *** \n",
      " >> PDDN Denoising: total time-points: 1000\n",
      " >> PDDN Denoising: start time-point: 1\n",
      " >> PDDN Denoising: final time-point: 0\n",
      " >> PDDN Denoising: recursive filtering enabled (2 x cascade): False\n",
      " >> MPI Denoising PDDN Performance: Elapsed time = 2.908 s\n",
      " \n",
      " >> Exported X3D .cod file as: ./temp_processing\\2024-06-12_T_PR-S1-T2_FR_M1\\raw_data\\550nm\\550_Intensite_PDDN.cod\n",
      " >> PDDN Loading Model: C:\\Users\\romai\\Documents\\repositories\\processingMM\\src\\processingmm\\PDDN_model\\PDDN_model_550_Fresh_HB.pt -- ...\n",
      " [wrn] PDDN Model Summary NOT Available!\n",
      " >> PDDN Loading Model: C:\\Users\\romai\\Documents\\repositories\\processingMM\\src\\processingmm\\PDDN_model\\PDDN_model_550_Fresh_HB.pt -- Complete\n",
      "*** PDDN DENOISING FILTER *** \n",
      " >> PDDN Denoising: total time-points: 1000\n",
      " >> PDDN Denoising: start time-point: 1\n",
      " >> PDDN Denoising: final time-point: 0\n",
      " >> PDDN Denoising: recursive filtering enabled (2 x cascade): False\n",
      " >> MPI Denoising PDDN Performance: Elapsed time = 3.154 s\n",
      " \n",
      " >> Exported X3D .cod file as: ./temp_processing\\2024-06-12_T_PR-S1-T4_FR_M1\\raw_data\\550nm\\550_Intensite_PDDN.cod\n"
     ]
    },
    {
     "name": "stderr",
     "output_type": "stream",
     "text": [
      "\r",
      " 52%|██████████████████████████████████████████                                       | 52/100 [36:06<34:23, 42.98s/it]"
     ]
    },
    {
     "name": "stdout",
     "output_type": "stream",
     "text": [
      "E:\\Ardit\\nas\\PR\\2024-02-15_T_PR-S1-T5_FR_M2\n",
      "['annotation', 'histology', 'MMProcessing.txt', 'polarimetry', 'raw_data']\n",
      "E:\\Ardit\\nas\\DW\\2024-03-07_T_DW-S1-T2_FR_M3\n",
      "['annotation', 'histology', 'MMProcessing.txt', 'polarimetry', 'raw_data']\n",
      " >> PDDN Loading Model: C:\\Users\\romai\\Documents\\repositories\\processingMM\\src\\processingmm\\PDDN_model\\PDDN_model_550_Fresh_HB.pt -- ...\n",
      " [wrn] PDDN Model Summary NOT Available!\n",
      " >> PDDN Loading Model: C:\\Users\\romai\\Documents\\repositories\\processingMM\\src\\processingmm\\PDDN_model\\PDDN_model_550_Fresh_HB.pt -- Complete\n",
      "*** PDDN DENOISING FILTER *** \n",
      " >> PDDN Denoising: total time-points: 1000\n",
      " >> PDDN Denoising: start time-point: 1\n",
      " >> PDDN Denoising: final time-point: 0\n",
      " >> PDDN Denoising: recursive filtering enabled (2 x cascade): False\n",
      " >> MPI Denoising PDDN Performance: Elapsed time = 2.946 s\n",
      " \n",
      " >> Exported X3D .cod file as: ./temp_processing\\2024-02-15_T_PR-S1-T5_FR_M2\\raw_data\\550nm\\550_Intensite_PDDN.cod\n",
      " >> PDDN Loading Model: C:\\Users\\romai\\Documents\\repositories\\processingMM\\src\\processingmm\\PDDN_model\\PDDN_model_550_Fresh_HB.pt -- ...\n",
      " [wrn] PDDN Model Summary NOT Available!\n",
      " >> PDDN Loading Model: C:\\Users\\romai\\Documents\\repositories\\processingMM\\src\\processingmm\\PDDN_model\\PDDN_model_550_Fresh_HB.pt -- Complete\n",
      "*** PDDN DENOISING FILTER *** \n",
      " >> PDDN Denoising: total time-points: 1000\n",
      " >> PDDN Denoising: start time-point: 1\n",
      " >> PDDN Denoising: final time-point: 0\n",
      " >> PDDN Denoising: recursive filtering enabled (2 x cascade): False\n"
     ]
    }
   ],
   "source": [
    "times, time_complete = batch_processing.batch_process_master(directories, calib_directory, run_all = run_all, \n",
    "                                parameter_set = parameter_set, PDDN = PDDN_mode, \n",
    "                                wavelengths = wavelengths, processing_mode = processing_mode,\n",
    "                                time_mode = time_mode)\n",
    "times"
   ]
  },
  {
   "cell_type": "code",
   "execution_count": null,
   "id": "d6590f67",
   "metadata": {},
   "outputs": [],
   "source": []
  },
  {
   "cell_type": "code",
   "execution_count": null,
   "id": "b032ce3f",
   "metadata": {},
   "outputs": [],
   "source": []
  }
 ],
 "metadata": {
  "kernelspec": {
   "display_name": "Python 3 (ipykernel)",
   "language": "python",
   "name": "python3"
  },
  "language_info": {
   "codemirror_mode": {
    "name": "ipython",
    "version": 3
   },
   "file_extension": ".py",
   "mimetype": "text/x-python",
   "name": "python",
   "nbconvert_exporter": "python",
   "pygments_lexer": "ipython3",
   "version": "3.8.17"
  }
 },
 "nbformat": 4,
 "nbformat_minor": 5
}
