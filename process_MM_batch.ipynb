{
 "cells": [
  {
   "cell_type": "markdown",
   "id": "5833fa74",
   "metadata": {},
   "source": [
    "# Process the data obtained from polarimetry and reorganize the data into the correct folders"
   ]
  },
  {
   "cell_type": "code",
   "execution_count": 2,
   "id": "a9006a18",
   "metadata": {},
   "outputs": [],
   "source": [
    "%load_ext autoreload\n",
    "%autoreload 2\n",
    "\n",
    "import os\n",
    "from processingmm import batch_processing, libmpMuelMat, visualization_lines, plot_polarimetry"
   ]
  },
  {
   "cell_type": "code",
   "execution_count": 3,
   "id": "35f24a20",
   "metadata": {},
   "outputs": [],
   "source": [
    "# set the parameters to run the script\n",
    "# directories = [r'E:\\tumor_new_measurement']\n",
    "directories = [r'E:\\TumorMeasurements\\dev\\HT']\n",
    "calib_directory = r'E:\\calib'"
   ]
  },
  {
   "cell_type": "code",
   "execution_count": null,
   "id": "1c5a3606",
   "metadata": {
    "scrolled": true
   },
   "outputs": [
    {
     "name": "stderr",
     "output_type": "stream",
     "text": [
      "\r",
      "  0%|                                                                                            | 0/1 [00:00<?, ?it/s]"
     ]
    },
    {
     "name": "stdout",
     "output_type": "stream",
     "text": [
      "./temp_processing\\2022-07-07_T_autopsy-cryo-AF_FR_S2_1 False False True\n",
      "['550nm', '650nm']\n",
      "\n",
      "./temp_processing\\2022-07-07_T_autopsy-cryo-AF_FR_S2_1 False False True\n",
      "['550nm', '650nm']\n",
      "\n",
      "dict_keys(['./temp_processing\\\\2022-07-07_T_autopsy-cryo-AF_FR_S2_1\\\\polarimetry_PDDN\\\\550nm'])\n",
      "./temp_processing\\2022-07-07_T_autopsy-cryo-AF_FR_S2_1 True False False\n",
      "['550nm', '650nm']\n",
      "\n"
     ]
    }
   ],
   "source": [
    "# set run_all to true in order to run the pipeline on all the folders (even the ones already processed)\n",
    "# set the parameters to be used for the line visualisation with the parameter parameter_set\n",
    "batch_processing.batch_process(directories, calib_directory, run_all = False, \n",
    "                               parameter_set = 'TheoniPics', PDDN = True)"
   ]
  },
  {
   "cell_type": "code",
   "execution_count": null,
   "id": "a14da6f2",
   "metadata": {},
   "outputs": [],
   "source": []
  },
  {
   "cell_type": "code",
   "execution_count": null,
   "id": "b62fde6f",
   "metadata": {},
   "outputs": [],
   "source": []
  }
 ],
 "metadata": {
  "kernelspec": {
   "display_name": "Python 3 (ipykernel)",
   "language": "python",
   "name": "python3"
  },
  "language_info": {
   "codemirror_mode": {
    "name": "ipython",
    "version": 3
   },
   "file_extension": ".py",
   "mimetype": "text/x-python",
   "name": "python",
   "nbconvert_exporter": "python",
   "pygments_lexer": "ipython3",
   "version": "3.10.9"
  }
 },
 "nbformat": 4,
 "nbformat_minor": 5
}
