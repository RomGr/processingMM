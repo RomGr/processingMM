{
 "cells": [
  {
   "cell_type": "markdown",
   "id": "5833fa74",
   "metadata": {},
   "source": [
    "# Process the data obtained from polarimetry and reorganize the data into the correct folders"
   ]
  },
  {
   "cell_type": "code",
   "execution_count": 1,
   "id": "a9006a18",
   "metadata": {},
   "outputs": [],
   "source": [
    "%load_ext autoreload\n",
    "%autoreload 2\n",
    "\n",
    "import os\n",
    "from processingmm import batch_processing, libmpMuelMat, visualization_lines, plot_polarimetry"
   ]
  },
  {
   "cell_type": "code",
   "execution_count": 12,
   "id": "35f24a20",
   "metadata": {},
   "outputs": [],
   "source": [
    "# set the parameters to run the script\n",
    "directories = [r'E:\\TumorMeasurements\\dev']\n",
    "calib_directory = r'E:\\calib'\n",
    "\n",
    "# set the parameters to be used for the line visualisation with the parameter parameter_set\n",
    "parameter_set = 'TheoniPics'\n",
    "\n",
    "# set run_all to true in order to run the pipeline on all the folders (even the ones already processed)\n",
    "run_all = False\n",
    "\n",
    "# PDDN_mode can be set to:\n",
    "# 1. 'no': processes without using the PDDN\n",
    "# 2. 'pddn': processes with PDDN when available (for 550nm and 650nm)\n",
    "# 3. 'both': processes with PDDN when available and also without using the PDDN\n",
    "PDDN_mode = 'both'"
   ]
  },
  {
   "cell_type": "code",
   "execution_count": null,
   "id": "1c5a3606",
   "metadata": {
    "scrolled": true
   },
   "outputs": [
    {
     "name": "stdout",
     "output_type": "stream",
     "text": [
      "1. processing without PDDN...\n"
     ]
    },
    {
     "name": "stderr",
     "output_type": "stream",
     "text": [
      "0it [00:00, ?it/s]\n"
     ]
    },
    {
     "name": "stdout",
     "output_type": "stream",
     "text": [
      "processing without PDDN done.\n",
      "\n",
      "2. processing with PDDN.\n"
     ]
    },
    {
     "name": "stderr",
     "output_type": "stream",
     "text": [
      "\r",
      "  0%|                                                                                            | 0/2 [00:00<?, ?it/s]"
     ]
    },
    {
     "name": "stdout",
     "output_type": "stream",
     "text": [
      "No PDDN file found - denoising the raw data\n",
      " >> PDDN Loading Model: C:\\Users\\romai\\Documents\\repositories\\processingMM\\src\\processingmm\\PDDN_model\\PDDN_model_550_Fresh_HB.pt -- ...\n",
      " [wrn] PDDN Model Summary NOT Available!\n",
      " >> PDDN Loading Model: C:\\Users\\romai\\Documents\\repositories\\processingMM\\src\\processingmm\\PDDN_model\\PDDN_model_550_Fresh_HB.pt -- Complete\n",
      "*** PDDN DENOISING FILTER *** \n",
      " >> PDDN Denoising: total time-points: 1000\n",
      " >> PDDN Denoising: start time-point: 1\n",
      " >> PDDN Denoising: final time-point: 0\n",
      " >> PDDN Denoising: recursive filtering enabled (2 x cascade): False\n",
      " >> MPI Denoising PDDN Performance: Elapsed time = 3.188 s\n",
      " \n",
      " >> Exported X3D .cod file as: ./temp_processing\\2023-06-20_T_HORAO-105-BF_FR_S1_1\\raw_data\\550nm\\550_Intensite_PDDN.cod\n"
     ]
    }
   ],
   "source": [
    "batch_processing.batch_process_master(directories, calib_directory, run_all = run_all, \n",
    "                               parameter_set = parameter_set, PDDN = PDDN_mode)"
   ]
  },
  {
   "cell_type": "code",
   "execution_count": null,
   "id": "79a9179b",
   "metadata": {},
   "outputs": [],
   "source": []
  }
 ],
 "metadata": {
  "kernelspec": {
   "display_name": "Python 3 (ipykernel)",
   "language": "python",
   "name": "python3"
  },
  "language_info": {
   "codemirror_mode": {
    "name": "ipython",
    "version": 3
   },
   "file_extension": ".py",
   "mimetype": "text/x-python",
   "name": "python",
   "nbconvert_exporter": "python",
   "pygments_lexer": "ipython3",
   "version": "3.10.9"
  }
 },
 "nbformat": 4,
 "nbformat_minor": 5
}
