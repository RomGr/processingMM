{
 "cells": [
  {
   "cell_type": "markdown",
   "id": "5833fa74",
   "metadata": {},
   "source": [
    "# Process the data obtained from polarimetry and reorganize the data into the correct folders"
   ]
  },
  {
   "cell_type": "code",
   "execution_count": 1,
   "id": "a9006a18",
   "metadata": {},
   "outputs": [],
   "source": [
    "%load_ext autoreload\n",
    "%autoreload 2\n",
    "\n",
    "import os\n",
    "from processingmm import batch_processing"
   ]
  },
  {
   "cell_type": "code",
   "execution_count": 2,
   "id": "35f24a20",
   "metadata": {},
   "outputs": [],
   "source": [
    "# set the parameters to run the script\n",
    "directories = [r'C:\\Users\\romai\\Documents\\repositories\\align_wavelenghts\\data']\n",
    "calib_directory = r'C:\\Users\\romai\\Documents\\repositories\\align_wavelenghts\\calib'\n",
    "\n",
    "# set the parameters to be used for the line visualisation with the parameter parameter_set\n",
    "parameter_set = 'TheoniPics'\n",
    "\n",
    "# set run_all to true in order to run the pipeline on all the folders (even the ones already processed)\n",
    "run_all = False\n",
    "\n",
    "# PDDN_mode can be set to:\n",
    "# 1. 'no': processes without using the PDDN\n",
    "# 2. 'pddn': processes with PDDN when available (for 550nm and 650nm)\n",
    "# 3. 'both': processes with PDDN when available and also without using the PDDN\n",
    "PDDN_mode = 'both'\n",
    "\n",
    "# Set the wavelengths to be processed\n",
    "# 1. 'all': processes all the available wavelenght\n",
    "# 2. [xxx, yyy]: processes only the wavelenghts 'xxx' and 'yyy'\n",
    "wavelengths = 'all'\n",
    "\n",
    "# Processing mode\n",
    "# 1. 'full': processes everything (azimuth_noise, all plots and visualization) - 1x speed\n",
    "# 2. 'no_visualization': processes azimuth noise + all plots but no visualization - 1.25x faster\n",
    "# 3. 'fast': processes only the legacy plots (i.e. depolarization, azimuth, retardance and diattenuation) - 3x faster\n",
    "processing_mode = 'no_visualization'\n",
    "\n",
    "# Wether or not time mode (to get the processing times is activated or not)\n",
    "time_mode = True"
   ]
  },
  {
   "cell_type": "code",
   "execution_count": 3,
   "id": "017cdd19",
   "metadata": {
    "scrolled": true
   },
   "outputs": [
    {
     "name": "stdout",
     "output_type": "stream",
     "text": [
      "1. processing without PDDN...\n"
     ]
    },
    {
     "name": "stderr",
     "output_type": "stream",
     "text": [
      "100%|████████████████████████████████████████████████████████████████████████████████████| 1/1 [00:31<00:00, 31.12s/it]\n"
     ]
    },
    {
     "name": "stdout",
     "output_type": "stream",
     "text": [
      "processing without PDDN done.\n",
      "\n",
      "2. processing with PDDN.\n"
     ]
    },
    {
     "name": "stderr",
     "output_type": "stream",
     "text": [
      "\r",
      "  0%|                                                                                            | 0/1 [00:00<?, ?it/s]"
     ]
    },
    {
     "name": "stdout",
     "output_type": "stream",
     "text": [
      " >> PDDN Loading Model: C:\\Users\\romai\\Documents\\repositories\\processingMM\\src\\processingmm\\PDDN_model\\PDDN_model_600_Fresh_HB.pt -- ...\n",
      " [wrn] PDDN Model Summary NOT Available!\n",
      " >> PDDN Loading Model: C:\\Users\\romai\\Documents\\repositories\\processingMM\\src\\processingmm\\PDDN_model\\PDDN_model_600_Fresh_HB.pt -- Complete\n",
      "*** PDDN DENOISING FILTER *** \n",
      " >> PDDN Denoising: total time-points: 1000\n",
      " >> PDDN Denoising: start time-point: 1\n",
      " >> PDDN Denoising: final time-point: 0\n",
      " >> PDDN Denoising: recursive filtering enabled (2 x cascade): False\n",
      " >> MPI Denoising PDDN Performance: Elapsed time = 6.160 s\n",
      " \n",
      " >> Exported X3D .cod file as: ./temp_processing\\2022-11-02_T_HORAO-59-AF_FR_S2_1\\raw_data\\600nm\\600_Intensite_PDDN.cod\n",
      " >> PDDN Loading Model: C:\\Users\\romai\\Documents\\repositories\\processingMM\\src\\processingmm\\PDDN_model\\PDDN_model_550_Fresh_HB.pt -- ...\n",
      " [wrn] PDDN Model Summary NOT Available!\n",
      " >> PDDN Loading Model: C:\\Users\\romai\\Documents\\repositories\\processingMM\\src\\processingmm\\PDDN_model\\PDDN_model_550_Fresh_HB.pt -- Complete\n",
      "*** PDDN DENOISING FILTER *** \n",
      " >> PDDN Denoising: total time-points: 1000\n",
      " >> PDDN Denoising: start time-point: 1\n",
      " >> PDDN Denoising: final time-point: 0\n",
      " >> PDDN Denoising: recursive filtering enabled (2 x cascade): False\n",
      " >> MPI Denoising PDDN Performance: Elapsed time = 3.145 s\n",
      " \n",
      " >> Exported X3D .cod file as: ./temp_processing\\2022-11-02_T_HORAO-59-AF_FR_S2_1\\raw_data\\550nm\\550_Intensite_PDDN.cod\n"
     ]
    },
    {
     "name": "stderr",
     "output_type": "stream",
     "text": [
      "100%|████████████████████████████████████████████████████████████████████████████████████| 1/1 [00:37<00:00, 37.61s/it]"
     ]
    },
    {
     "name": "stdout",
     "output_type": "stream",
     "text": [
      "processing with PDDN done.\n"
     ]
    },
    {
     "name": "stderr",
     "output_type": "stream",
     "text": [
      "\n"
     ]
    },
    {
     "data": {
      "text/plain": [
       "{'MM_processing': 0.4524860382080078,\n",
       " 'azimuth_std_processing': 1.1858482360839844,\n",
       " 'denoising': 0,\n",
       " 'save_npz': 0.14338111877441406,\n",
       " 'full_processing': 1.8546512126922607,\n",
       " 'plotting': 23.361956119537354}"
      ]
     },
     "execution_count": 3,
     "metadata": {},
     "output_type": "execute_result"
    }
   ],
   "source": [
    "times, time_complete = batch_processing.batch_process_master(directories, calib_directory, run_all = run_all, \n",
    "                                parameter_set = parameter_set, PDDN = PDDN_mode, \n",
    "                                wavelengths = wavelengths, processing_mode = processing_mode,\n",
    "                                time_mode = time_mode)\n",
    "times"
   ]
  },
  {
   "cell_type": "code",
   "execution_count": null,
   "id": "7290a266",
   "metadata": {},
   "outputs": [],
   "source": []
  },
  {
   "cell_type": "code",
   "execution_count": null,
   "id": "46d85edd",
   "metadata": {},
   "outputs": [],
   "source": []
  },
  {
   "cell_type": "code",
   "execution_count": 5,
   "id": "a9abb508",
   "metadata": {},
   "outputs": [
    {
     "name": "stdout",
     "output_type": "stream",
     "text": [
      " \n",
      " >> Exported X3D .cod file as: C:\\Users\\romai\\Documents\\repositories\\align_wavelenghts\\data\\2022-10-11_T_HORAO-55-BF_FR_S1_1\\raw_data\\600nm\\600_Intensite_PDDN_aligned.cod\n",
      " \n",
      " >> Exported X3D .cod file as: C:\\Users\\romai\\Documents\\repositories\\align_wavelenghts\\data\\2022-10-11_T_HORAO-55-BF_FR_S1_1\\raw_data\\600nm\\600_Intensite_aligned.cod\n",
      " \n",
      " >> Exported X3D .cod file as: C:\\Users\\romai\\Documents\\repositories\\align_wavelenghts\\data\\2022-11-28_T_HORAO-63-AF_FR_S1_1\\raw_data\\600nm\\600_Intensite_PDDN_aligned.cod\n",
      " \n",
      " >> Exported X3D .cod file as: C:\\Users\\romai\\Documents\\repositories\\align_wavelenghts\\data\\2022-11-28_T_HORAO-63-AF_FR_S1_1\\raw_data\\600nm\\600_Intensite_aligned.cod\n"
     ]
    }
   ],
   "source": [
    "from processingmm import align_wavelengths\n",
    "align_wavelengths.align_wavelenghts(directories, PDDN_mode, run_all)"
   ]
  },
  {
   "cell_type": "code",
   "execution_count": null,
   "id": "daa06706",
   "metadata": {},
   "outputs": [],
   "source": []
  },
  {
   "cell_type": "code",
   "execution_count": null,
   "id": "34a42c24",
   "metadata": {},
   "outputs": [],
   "source": []
  },
  {
   "cell_type": "code",
   "execution_count": null,
   "id": "5d7ba51c",
   "metadata": {},
   "outputs": [],
   "source": []
  }
 ],
 "metadata": {
  "kernelspec": {
   "display_name": "Python 3 (ipykernel)",
   "language": "python",
   "name": "python3"
  },
  "language_info": {
   "codemirror_mode": {
    "name": "ipython",
    "version": 3
   },
   "file_extension": ".py",
   "mimetype": "text/x-python",
   "name": "python",
   "nbconvert_exporter": "python",
   "pygments_lexer": "ipython3",
   "version": "3.8.17"
  }
 },
 "nbformat": 4,
 "nbformat_minor": 5
}
