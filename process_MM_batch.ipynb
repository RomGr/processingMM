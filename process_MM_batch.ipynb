{
 "cells": [
  {
   "cell_type": "markdown",
   "id": "5833fa74",
   "metadata": {},
   "source": [
    "# Process the data obtained from polarimetry and reorganize the data into the correct folders"
   ]
  },
  {
   "cell_type": "code",
   "execution_count": 4,
   "id": "a9006a18",
   "metadata": {},
   "outputs": [
    {
     "name": "stdout",
     "output_type": "stream",
     "text": [
      "The autoreload extension is already loaded. To reload it, use:\n",
      "  %reload_ext autoreload\n"
     ]
    }
   ],
   "source": [
    "%load_ext autoreload\n",
    "%autoreload 2\n",
    "\n",
    "import os\n",
    "from processingmm import batch_processing, libmpMuelMat, visualization_lines, plot_polarimetry"
   ]
  },
  {
   "cell_type": "code",
   "execution_count": 5,
   "id": "35f24a20",
   "metadata": {},
   "outputs": [],
   "source": [
    "# set the parameters to run the script\n",
    "directories = [r'E:\\TumorMeasurements\\dev']\n",
    "calib_directory = r'E:\\calib'\n",
    "\n",
    "# set the parameters to be used for the line visualisation with the parameter parameter_set\n",
    "parameter_set = 'TheoniPics'\n",
    "\n",
    "# set run_all to true in order to run the pipeline on all the folders (even the ones already processed)\n",
    "run_all = False\n",
    "\n",
    "# PDDN_mode can be set to:\n",
    "# 1. 'no': processes without using the PDDN\n",
    "# 2. 'pddn': processes with PDDN when available (for 550nm and 650nm)\n",
    "# 3. 'both': processes with PDDN when available and also without using the PDDN\n",
    "PDDN_mode = 'both'\n",
    "\n",
    "# Set the wavelengths to be processed\n",
    "# 1. 'all': processes all the available wavelenght\n",
    "# 2. [xxx, yyy]: processes only the wavelenghts 'xxx' and 'yyy'\n",
    "wavelengths = 'all'\n",
    "\n",
    "# Processing mode\n",
    "# 1. 'full': processes everything (azimuth_noise, all plots and visualization) - 1x speed\n",
    "# 2. 'no_visualization': processes azimuth noise + all plots but no visualization - 1.25x faster\n",
    "# 3. 'fast': processes only the legacy plots (i.e. depolarization, azimuth, retardance and diattenuation) - 3x faster\n",
    "processing_mode = 'full'"
   ]
  },
  {
   "cell_type": "code",
   "execution_count": 6,
   "id": "017cdd19",
   "metadata": {},
   "outputs": [
    {
     "name": "stdout",
     "output_type": "stream",
     "text": [
      "1. processing without PDDN...\n"
     ]
    },
    {
     "name": "stderr",
     "output_type": "stream",
     "text": [
      "0it [00:00, ?it/s]\n"
     ]
    },
    {
     "name": "stdout",
     "output_type": "stream",
     "text": [
      "processing without PDDN done.\n",
      "\n",
      "2. processing with PDDN.\n"
     ]
    },
    {
     "name": "stderr",
     "output_type": "stream",
     "text": [
      "0it [00:00, ?it/s]"
     ]
    },
    {
     "name": "stdout",
     "output_type": "stream",
     "text": [
      "processing with PDDN done.\n"
     ]
    },
    {
     "name": "stderr",
     "output_type": "stream",
     "text": [
      "\n"
     ]
    }
   ],
   "source": [
    "batch_processing.batch_process_master(directories, calib_directory, run_all = run_all, \n",
    "                                parameter_set = parameter_set, PDDN = PDDN_mode, wavelengths = wavelengths,\n",
    "                                processing_mode = processing_mode)"
   ]
  },
  {
   "cell_type": "code",
   "execution_count": null,
   "id": "c3aeda2c",
   "metadata": {},
   "outputs": [],
   "source": []
  }
 ],
 "metadata": {
  "kernelspec": {
   "display_name": "Python 3 (ipykernel)",
   "language": "python",
   "name": "python3"
  },
  "language_info": {
   "codemirror_mode": {
    "name": "ipython",
    "version": 3
   },
   "file_extension": ".py",
   "mimetype": "text/x-python",
   "name": "python",
   "nbconvert_exporter": "python",
   "pygments_lexer": "ipython3",
   "version": "3.10.9"
  }
 },
 "nbformat": 4,
 "nbformat_minor": 5
}
