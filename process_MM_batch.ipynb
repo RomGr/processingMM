{
 "cells": [
  {
   "cell_type": "markdown",
   "id": "5833fa74",
   "metadata": {},
   "source": [
    "# Process the data obtained from polarimetry and reorganize the data into the correct folders"
   ]
  },
  {
   "cell_type": "code",
   "execution_count": 19,
   "id": "a9006a18",
   "metadata": {},
   "outputs": [
    {
     "name": "stdout",
     "output_type": "stream",
     "text": [
      "The autoreload extension is already loaded. To reload it, use:\n",
      "  %reload_ext autoreload\n"
     ]
    }
   ],
   "source": [
    "%load_ext autoreload\n",
    "%autoreload 2\n",
    "\n",
    "import os\n",
    "from processingmm import batch_processing, libmpMuelMat"
   ]
  },
  {
   "cell_type": "code",
   "execution_count": 20,
   "id": "35f24a20",
   "metadata": {},
   "outputs": [],
   "source": [
    "# set the parameters to run the script\n",
    "directories = [r'F:\\test_dev']\n",
    "calib_directory = r'F:\\polarimetry\\calibration'"
   ]
  },
  {
   "cell_type": "code",
   "execution_count": 21,
   "id": "1c5a3606",
   "metadata": {},
   "outputs": [
    {
     "name": "stderr",
     "output_type": "stream",
     "text": [
      "100%|████████████████████████████████████████████████████████████████████████████████████| 1/1 [00:31<00:00, 31.62s/it]\n"
     ]
    }
   ],
   "source": [
    "# set run_all to true in order to run the pipeline on all the folders (even the ones already processed)\n",
    "# set the parameters to be used for the line visualisation with the parameter parameter_set\n",
    "batch_processing.batch_process(directories, calib_directory, run_all = True, parameter_set = 'PD')"
   ]
  },
  {
   "cell_type": "code",
   "execution_count": null,
   "id": "10e0129e",
   "metadata": {},
   "outputs": [],
   "source": []
  }
 ],
 "metadata": {
  "kernelspec": {
   "display_name": "Python 3 (ipykernel)",
   "language": "python",
   "name": "python3"
  },
  "language_info": {
   "codemirror_mode": {
    "name": "ipython",
    "version": 3
   },
   "file_extension": ".py",
   "mimetype": "text/x-python",
   "name": "python",
   "nbconvert_exporter": "python",
   "pygments_lexer": "ipython3",
   "version": "3.9.16"
  }
 },
 "nbformat": 4,
 "nbformat_minor": 5
}
