{
 "cells": [
  {
   "cell_type": "markdown",
   "id": "5833fa74",
   "metadata": {},
   "source": [
    "# Process the data obtained from polarimetry and reorganize the data into the correct folders"
   ]
  },
  {
   "cell_type": "code",
   "execution_count": 1,
   "id": "a9006a18",
   "metadata": {},
   "outputs": [],
   "source": [
    "%load_ext autoreload\n",
    "%autoreload 2\n",
    "\n",
    "import os\n",
    "from processingmm import batch_processing, libmpMuelMat"
   ]
  },
  {
   "cell_type": "code",
   "execution_count": 2,
   "id": "35f24a20",
   "metadata": {},
   "outputs": [],
   "source": [
    "# set the parameters to run the script\n",
    "directories = [r'F:\\polarimetry\\measurements\\HUMAN_EXPERIMENTS\\FIXED_HUMAN\\FIXED_HUMAN_EXPERIMENTAL\\TheoniPics']\n",
    "calib_directory = r'F:\\polarimetry\\calibration'"
   ]
  },
  {
   "cell_type": "code",
   "execution_count": 5,
   "id": "1c5a3606",
   "metadata": {
    "scrolled": true
   },
   "outputs": [
    {
     "name": "stderr",
     "output_type": "stream",
     "text": [
      "Traceback (most recent call last):\n",
      "  File \"C:\\Users\\romai\\Documents\\processingMM\\src\\processingmm\\batch_processing.py\", line 70, in find_folder_name\n",
      "    assert len(re.findall(\"[\\d]{4}-[\\d]{2}-[\\d]{2}\", root)) == 1\n",
      "AssertionError\n",
      "  0%|                                                                                            | 0/1 [00:00<?, ?it/s]"
     ]
    },
    {
     "name": "stdout",
     "output_type": "stream",
     "text": [
      "{}\n",
      "{} 2022-01-10_T_Photo 4_FX_M_1\n",
      "./temp_processing\\2022-01-10_T_Photo 4_FX_M_1 2022-01-10 00:00:00\n",
      "{}\n",
      "{} 2022-01-10_T_Photo 4_FX_M_2\n",
      "./temp_processing\\2022-01-10_T_Photo 4_FX_M_2 2022-01-10 00:00:00\n"
     ]
    },
    {
     "name": "stderr",
     "output_type": "stream",
     "text": [
      "100%|███████████████████████████████████████████████████████████████████████████████████| 1/1 [01:57<00:00, 117.02s/it]\n"
     ]
    },
    {
     "data": {
      "text/plain": [
       "['F:\\\\polarimetry\\\\measurements\\\\HUMAN_EXPERIMENTS\\\\FIXED_HUMAN\\\\FIXED_HUMAN_EXPERIMENTAL\\\\TheoniPics\\\\2022-01-10_T_Photo 4_FX_M_1',\n",
       " 'F:\\\\polarimetry\\\\measurements\\\\HUMAN_EXPERIMENTS\\\\FIXED_HUMAN\\\\FIXED_HUMAN_EXPERIMENTAL\\\\TheoniPics\\\\2022-01-10_T_Photo 4_FX_M_2']"
      ]
     },
     "execution_count": 5,
     "metadata": {},
     "output_type": "execute_result"
    }
   ],
   "source": [
    "# set run_all to true in order to run the pipeline on all the folders (even the ones already processed)\n",
    "# set the parameters to be used for the line visualisation with the parameter parameter_set\n",
    "batch_processing.batch_process(directories, calib_directory, run_all = True, parameter_set = 'TheoniPics', PDDN = False)"
   ]
  },
  {
   "cell_type": "code",
   "execution_count": null,
   "id": "7fd05141",
   "metadata": {},
   "outputs": [],
   "source": []
  },
  {
   "cell_type": "code",
   "execution_count": null,
   "id": "5c0c24ae",
   "metadata": {},
   "outputs": [],
   "source": []
  }
 ],
 "metadata": {
  "kernelspec": {
   "display_name": "Python 3 (ipykernel)",
   "language": "python",
   "name": "python3"
  },
  "language_info": {
   "codemirror_mode": {
    "name": "ipython",
    "version": 3
   },
   "file_extension": ".py",
   "mimetype": "text/x-python",
   "name": "python",
   "nbconvert_exporter": "python",
   "pygments_lexer": "ipython3",
   "version": "3.8.16"
  }
 },
 "nbformat": 4,
 "nbformat_minor": 5
}
