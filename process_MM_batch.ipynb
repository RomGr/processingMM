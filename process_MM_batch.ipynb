{
 "cells": [
  {
   "cell_type": "markdown",
   "id": "5833fa74",
   "metadata": {},
   "source": [
    "# Process the data obtained from polarimetry and reorganize the data into the correct folders"
   ]
  },
  {
   "cell_type": "code",
   "execution_count": 1,
   "id": "a9006a18",
   "metadata": {},
   "outputs": [],
   "source": [
    "%load_ext autoreload\n",
    "%autoreload 2\n",
    "\n",
    "import os\n",
    "from processingmm import batch_processing, libmpMuelMat, visualization_lines, plot_polarimetry"
   ]
  },
  {
   "cell_type": "code",
   "execution_count": 2,
   "id": "35f24a20",
   "metadata": {},
   "outputs": [],
   "source": [
    "# set the parameters to run the script\n",
    "directories = [r'D:\\Chicago\\test']\n",
    "calib_directory = r'D:\\Chicago\\calib'\n",
    "\n",
    "# set the parameters to be used for the line visualisation with the parameter parameter_set\n",
    "parameter_set = 'TheoniPics'\n",
    "\n",
    "# set run_all to true in order to run the pipeline on all the folders (even the ones already processed)\n",
    "run_all = True\n",
    "\n",
    "# PDDN_mode can be set to:\n",
    "# 1. 'no': processes without using the PDDN\n",
    "# 2. 'pddn': processes with PDDN when available (for 550nm and 650nm)\n",
    "# 3. 'both': processes with PDDN when available and also without using the PDDN\n",
    "PDDN_mode = 'pddn'\n",
    "\n",
    "# Set the wavelengths to be processed\n",
    "# 1. 'all': processes all the available wavelenght\n",
    "# 2. [xxx, yyy]: processes only the wavelenghts 'xxx' and 'yyy'\n",
    "wavelengths = [550]\n",
    "\n",
    "# Processing mode\n",
    "# 1. 'full': processes everything (azimuth_noise, all plots and visualization) - 1x speed\n",
    "# 2. 'no_visualization': processes azimuth noise + all plots but no visualization - 1.25x faster\n",
    "# 3. 'fast': processes only the legacy plots (i.e. depolarization, azimuth, retardance and diattenuation) - 3x faster\n",
    "processing_mode = 'fast'\n",
    "\n",
    "# Wether or not time mode (to get the processing times is activated or not)\n",
    "time_mode = True"
   ]
  },
  {
   "cell_type": "code",
   "execution_count": 3,
   "id": "017cdd19",
   "metadata": {},
   "outputs": [
    {
     "name": "stdout",
     "output_type": "stream",
     "text": [
      "processing with PDDN...\n"
     ]
    },
    {
     "name": "stderr",
     "output_type": "stream",
     "text": [
      "100%|████████████████████████████████████████████████████████████████████████████████| 1/1 [01:00<00:00, 60.21s/it]"
     ]
    },
    {
     "name": "stdout",
     "output_type": "stream",
     "text": [
      "processing with PDDN done.\n"
     ]
    },
    {
     "name": "stderr",
     "output_type": "stream",
     "text": [
      "\n"
     ]
    }
   ],
   "source": [
    "times, time_complete = batch_processing.batch_process_master(directories, calib_directory, run_all = run_all, \n",
    "                                parameter_set = parameter_set, PDDN = PDDN_mode, \n",
    "                                wavelengths = wavelengths, processing_mode = processing_mode,\n",
    "                                time_mode = time_mode)"
   ]
  },
  {
   "cell_type": "code",
   "execution_count": 6,
   "id": "c3aeda2c",
   "metadata": {},
   "outputs": [],
   "source": [
    "[time_MM_processing, time_azimuth_std_processing, time_save_npz, time_full_processing, time_plotting, time_viz] = times"
   ]
  },
  {
   "cell_type": "code",
   "execution_count": null,
   "id": "31956f39",
   "metadata": {},
   "outputs": [],
   "source": [
    "time_complete"
   ]
  },
  {
   "cell_type": "code",
   "execution_count": null,
   "id": "06b9012d",
   "metadata": {},
   "outputs": [],
   "source": []
  }
 ],
 "metadata": {
  "kernelspec": {
   "display_name": "Python 3 (ipykernel)",
   "language": "python",
   "name": "python3"
  },
  "language_info": {
   "codemirror_mode": {
    "name": "ipython",
    "version": 3
   },
   "file_extension": ".py",
   "mimetype": "text/x-python",
   "name": "python",
   "nbconvert_exporter": "python",
   "pygments_lexer": "ipython3",
   "version": "3.8.17"
  }
 },
 "nbformat": 4,
 "nbformat_minor": 5
}
