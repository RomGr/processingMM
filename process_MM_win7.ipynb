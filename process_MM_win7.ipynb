{
 "cells": [
  {
   "cell_type": "code",
   "execution_count": 19,
   "id": "dbff52b7",
   "metadata": {},
   "outputs": [
    {
     "name": "stdout",
     "output_type": "stream",
     "text": [
      "The autoreload extension is already loaded. To reload it, use:\n",
      "  %reload_ext autoreload\n"
     ]
    }
   ],
   "source": [
    "%load_ext autoreload\n",
    "%autoreload 2\n",
    "import traceback\n",
    "from processingmm import batch_processing_win7, batch_processing\n",
    "from processingmm.helpers import load_filenames_raw_data, add_path"
   ]
  },
  {
   "cell_type": "code",
   "execution_count": 20,
   "id": "e702869a",
   "metadata": {},
   "outputs": [],
   "source": [
    "from processingmm.batch_processing import find_processed_folders, find_all_folders, create_folders_df"
   ]
  },
  {
   "cell_type": "code",
   "execution_count": 26,
   "id": "85a0425b",
   "metadata": {},
   "outputs": [],
   "source": [
    "import os\n",
    "import shutil \n",
    "\n",
    "chunk_size = 2\n",
    "max_nb = 1\n",
    "\n",
    "# 1. Backup the data in the B: drive\n",
    "base_directory = [r'F:\\test_dev\\test']\n",
    "target = [r'F:\\test_dev\\backup']\n",
    "base_temp_directory = r'F:\\test_dev\\test_temp'\n",
    "calib_directory = r'F:\\polarimetry\\calibration'\n",
    "directory_computation = r'F:\\test_dev\\temp'\n",
    "folder_NAS = r'D:\\DataRaw'"
   ]
  },
  {
   "cell_type": "code",
   "execution_count": 23,
   "id": "de826753",
   "metadata": {},
   "outputs": [],
   "source": [
    "def batch_process_win7(base_directory: list, target: list, base_temp_directory: str, calib_directory: str, \n",
    "                       directory_computation: str):\n",
    "    batch_processing_win7.backup_to_B_drive(base_directory, target)\n",
    "    \n",
    "    processed = []\n",
    "    \n",
    "    df = batch_processing.get_df_processing(base_directory)\n",
    "    to_process = batch_processing.get_to_process(df, run_all = False)[0:chunk_size]\n",
    "    _ = batch_processing.move_folders_temp(base_directory, base_temp_directory, to_process)\n",
    "    \n",
    "    while len(to_process) > 0:\n",
    "        try:\n",
    "            shutil.rmtree(directory_computation)\n",
    "        except FileNotFoundError:\n",
    "            pass\n",
    "        except:\n",
    "            traceback.print_exc()\n",
    "        try:\n",
    "            os.mkdir(directory_computation)\n",
    "        except FileExistsError:\n",
    "            pass\n",
    "        except:\n",
    "            traceback.print_exc()\n",
    "\n",
    "        to_process = batch_processing.batch_process([base_temp_directory], calib_directory, run_all = False, parameter_set = 'CUSA', \n",
    "                                                    max_nb = 1, target_temp = directory_computation)\n",
    "            \n",
    "        _ = batch_processing.move_folders_temp(directory_computation, base_temp_directory, to_process, put_back = True)\n",
    "\n",
    "        try:\n",
    "            shutil.rmtree(directory_computation)\n",
    "        except:\n",
    "            traceback.print_exc()\n",
    "\n",
    "        df = batch_processing.get_df_processing([base_temp_directory])\n",
    "        to_process = batch_processing.get_to_process(df, run_all = False)\n",
    "\n",
    "    processed = batch_processing_win7.move_back_the_folders(base_directory, base_temp_directory)\n",
    "    \n",
    "    return processed"
   ]
  },
  {
   "cell_type": "code",
   "execution_count": 24,
   "id": "212be6d4",
   "metadata": {},
   "outputs": [
    {
     "name": "stderr",
     "output_type": "stream",
     "text": [
      "100%|████████████████████████████████████████████████████████████████████████████████████| 1/1 [00:24<00:00, 24.20s/it]\n",
      "100%|████████████████████████████████████████████████████████████████████████████████████| 1/1 [00:23<00:00, 23.94s/it]\n"
     ]
    }
   ],
   "source": [
    "processed = batch_process_win7(base_directory, target, base_temp_directory, calib_directory, directory_computation)"
   ]
  },
  {
   "cell_type": "code",
   "execution_count": 35,
   "id": "ea970e33",
   "metadata": {},
   "outputs": [],
   "source": [
    "def move_to_NAS(directories: list, processed: list, folder_NAS: str):\n",
    "    \n",
    "    already_done = set(os.listdir(folder_NAS))\n",
    "    for folder in os.listdir(directories[0]):\n",
    "        if folder in already_done:\n",
    "            pass\n",
    "        else:\n",
    "            shutil.copytree(os.path.join(directories[0], folder), os.path.join(folder_NAS, folder))"
   ]
  },
  {
   "cell_type": "code",
   "execution_count": 36,
   "id": "114665de",
   "metadata": {},
   "outputs": [],
   "source": [
    "# 5. Move the data to the NAS\n",
    "move_to_NAS(base_directory, processed, folder_NAS)"
   ]
  },
  {
   "cell_type": "code",
   "execution_count": null,
   "id": "36087342",
   "metadata": {},
   "outputs": [],
   "source": []
  },
  {
   "cell_type": "code",
   "execution_count": null,
   "id": "6c8f03ad",
   "metadata": {
    "scrolled": true
   },
   "outputs": [],
   "source": [
    "finished = True\n",
    "while finished:\n",
    "    batch_process_win7(base_directory, target, base_temp_directory, calib_directory, directory_computation)\n",
    "    gc.collect()\n",
    "    time.sleep(60)"
   ]
  },
  {
   "cell_type": "code",
   "execution_count": null,
   "id": "4aa3fdc9",
   "metadata": {},
   "outputs": [],
   "source": []
  }
 ],
 "metadata": {
  "kernelspec": {
   "display_name": "Python 3 (ipykernel)",
   "language": "python",
   "name": "python3"
  },
  "language_info": {
   "codemirror_mode": {
    "name": "ipython",
    "version": 3
   },
   "file_extension": ".py",
   "mimetype": "text/x-python",
   "name": "python",
   "nbconvert_exporter": "python",
   "pygments_lexer": "ipython3",
   "version": "3.9.16"
  }
 },
 "nbformat": 4,
 "nbformat_minor": 5
}
