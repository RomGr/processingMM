{
 "cells": [
  {
   "cell_type": "code",
   "execution_count": 2,
   "id": "dbff52b7",
   "metadata": {},
   "outputs": [
    {
     "name": "stdout",
     "output_type": "stream",
     "text": [
      "The autoreload extension is already loaded. To reload it, use:\n",
      "  %reload_ext autoreload\n"
     ]
    }
   ],
   "source": [
    "%load_ext autoreload\n",
    "%autoreload 2\n",
    "import traceback\n",
    "import time\n",
    "from processingmm import batch_processing_win7, batch_processing\n",
    "from processingmm.helpers import load_filenames_raw_data, add_path, load_path_win7\n",
    "from processingmm.batch_processing import find_processed_folders, find_all_folders, create_folders_df"
   ]
  },
  {
   "cell_type": "code",
   "execution_count": 4,
   "id": "9e7b6a28",
   "metadata": {},
   "outputs": [],
   "source": [
    "import os\n",
    "import shutil \n",
    "\n",
    "chunk_size = 2\n",
    "max_nb = 1\n",
    "\n",
    "data = load_path_win7()"
   ]
  },
  {
   "cell_type": "code",
   "execution_count": 7,
   "id": "85a0425b",
   "metadata": {},
   "outputs": [],
   "source": [
    "# 1. Backup the data in the B: drive\n",
    "base_directory = [data['base_directory']]\n",
    "backup = [data['backup']]\n",
    "base_temp_directory = data['base_temp_directory']\n",
    "calib_directory = data['calib_directory']\n",
    "directory_computation = data['directory_computation']\n",
    "folder_NAS = data['folder_NAS']"
   ]
  },
  {
   "cell_type": "code",
   "execution_count": 8,
   "id": "81a846b7",
   "metadata": {},
   "outputs": [],
   "source": [
    "def batch_process_win7(base_directory: list, backup: list, base_temp_directory: str, calib_directory: str, \n",
    "                       directory_computation: str):\n",
    "    batch_processing_win7.backup_to_B_drive(base_directory, backup)\n",
    "    \n",
    "    processed = []\n",
    "    \n",
    "    df = batch_processing.get_df_processing(base_directory)\n",
    "    to_process = batch_processing.get_to_process(df, run_all = False)[0:chunk_size]\n",
    "    _ = batch_processing.move_folders_temp(base_directory, base_temp_directory, to_process)\n",
    "    \n",
    "    while len(to_process) > 0:\n",
    "        try:\n",
    "            shutil.rmtree(directory_computation)\n",
    "        except FileNotFoundError:\n",
    "            pass\n",
    "        except:\n",
    "            traceback.print_exc()\n",
    "        try:\n",
    "            os.mkdir(directory_computation)\n",
    "        except FileExistsError:\n",
    "            pass\n",
    "        except:\n",
    "            traceback.print_exc()\n",
    "\n",
    "        to_process = batch_processing.batch_process([base_temp_directory], calib_directory, run_all = False, parameter_set = 'CUSA', \n",
    "                                                    max_nb = 1, target_temp = directory_computation)\n",
    "            \n",
    "        _ = batch_processing.move_folders_temp(directory_computation, base_temp_directory, to_process, put_back = True)\n",
    "\n",
    "        try:\n",
    "            shutil.rmtree(directory_computation)\n",
    "        except:\n",
    "            traceback.print_exc()\n",
    "\n",
    "        df = batch_processing.get_df_processing([base_temp_directory])\n",
    "        to_process = batch_processing.get_to_process(df, run_all = False)\n",
    "\n",
    "    processed = batch_processing_win7.move_back_the_folders(base_directory, base_temp_directory)\n",
    "    \n",
    "    # 5. Move the data to the NAS\n",
    "    batch_processing_win7.move_to_NAS(base_directory, processed, folder_NAS)"
   ]
  },
  {
   "cell_type": "code",
   "execution_count": null,
   "id": "6c8f03ad",
   "metadata": {
    "scrolled": true
   },
   "outputs": [
    {
     "name": "stderr",
     "output_type": "stream",
     "text": [
      "100%|████████████████████████████████████████████████████████████████████████████████████| 1/1 [00:27<00:00, 27.38s/it]\n",
      "100%|████████████████████████████████████████████████████████████████████████████████████| 1/1 [00:27<00:00, 27.06s/it]\n",
      "100%|████████████████████████████████████████████████████████████████████████████████████| 1/1 [00:28<00:00, 28.61s/it]\n",
      "100%|████████████████████████████████████████████████████████████████████████████████████| 1/1 [00:26<00:00, 26.60s/it]\n"
     ]
    }
   ],
   "source": [
    "finished = True\n",
    "while finished:\n",
    "    batch_process_win7(base_directory, backup, base_temp_directory, calib_directory, directory_computation)\n",
    "    time.sleep(25)"
   ]
  },
  {
   "cell_type": "code",
   "execution_count": null,
   "id": "4aa3fdc9",
   "metadata": {},
   "outputs": [],
   "source": []
  }
 ],
 "metadata": {
  "kernelspec": {
   "display_name": "Python 3 (ipykernel)",
   "language": "python",
   "name": "python3"
  },
  "language_info": {
   "codemirror_mode": {
    "name": "ipython",
    "version": 3
   },
   "file_extension": ".py",
   "mimetype": "text/x-python",
   "name": "python",
   "nbconvert_exporter": "python",
   "pygments_lexer": "ipython3",
   "version": "3.9.16"
  }
 },
 "nbformat": 4,
 "nbformat_minor": 5
}
